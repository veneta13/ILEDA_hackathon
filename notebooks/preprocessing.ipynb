{
 "cells": [
  {
   "cell_type": "markdown",
   "source": [
    "# Imports"
   ],
   "metadata": {
    "collapsed": false
   },
   "id": "31518662d2514eeb"
  },
  {
   "cell_type": "code",
   "execution_count": 58,
   "id": "initial_id",
   "metadata": {
    "collapsed": true,
    "ExecuteTime": {
     "end_time": "2023-11-05T19:00:04.234824200Z",
     "start_time": "2023-11-05T19:00:04.234314400Z"
    }
   },
   "outputs": [],
   "source": [
    "import pandas as pd\n",
    "from datetime import datetime"
   ]
  },
  {
   "cell_type": "markdown",
   "source": [
    "# Load data"
   ],
   "metadata": {
    "collapsed": false
   },
   "id": "c70dafeeb92eacb0"
  },
  {
   "cell_type": "code",
   "execution_count": 2,
   "outputs": [
    {
     "data": {
      "text/plain": "       Institution                                  Course actor.id  \\\n0              UEF  Advanced Data Management Systems (THJ)    aeb0c   \n1              UEF  Advanced Data Management Systems (THJ)    aeb0c   \n2              UEF  Advanced Data Management Systems (THJ)    aeb0c   \n3              UEF  Advanced Data Management Systems (THJ)    aeb0c   \n4              UEF  Advanced Data Management Systems (THJ)    aeb0c   \n...            ...                                     ...      ...   \n306740         BMU                                   IT131    2db36   \n306741         BMU                                   IT131    fc5fe   \n306742         BMU                                   IT131    d0f73   \n306743         BMU                                   IT131    dfea0   \n306744         BMU                                   IT131    7f889   \n\n                   timestamp                                  verb.id  \\\n0       2023-07-07T18:55:47Z      http://id.tincanapi.com/verb/viewed   \n1       2023-07-07T15:21:18Z      http://id.tincanapi.com/verb/viewed   \n2       2023-07-07T15:08:13Z      http://id.tincanapi.com/verb/viewed   \n3       2023-07-07T15:08:10Z      http://id.tincanapi.com/verb/viewed   \n4       2023-07-07T09:03:32Z      http://id.tincanapi.com/verb/viewed   \n...                      ...                                      ...   \n306740  2023-06-16T16:52:55Z    http://adlnet.gov/expapi/verbs/scored   \n306741  2023-06-16T17:58:19Z    http://adlnet.gov/expapi/verbs/scored   \n306742  2023-06-16T17:08:43Z    http://adlnet.gov/expapi/verbs/scored   \n306743  2023-06-16T17:43:28Z    http://adlnet.gov/expapi/verbs/scored   \n306744  2023-06-09T16:23:38Z  http://adlnet.gov/expapi/verbs/answered   \n\n              verb.display                             object.definition.name  \\\n0                   viewed             Advanced Data Management Systems (THJ)   \n1                   viewed                  Assignment Instructions: ER & EER   \n2                   viewed                           Recording: Intro lecture   \n3                   viewed             Advanced Data Management Systems (THJ)   \n4                   viewed             Advanced Data Management Systems (THJ)   \n...                    ...                                                ...   \n306740  attained grade for  Lekcija 7 - IP adresiranje i sabnetovanje - Tr...   \n306741  attained grade for  Lekcija 8 - Transportni sloj - Tradicionalna n...   \n306742  attained grade for  Lekcija 9 - Principi rada TCP protokola - Trad...   \n306743  attained grade for   IT131 - L04 (638138597640325722 - Tradicionalno)   \n306744            answered                               IT131-T02-Pitanje 15   \n\n                                   object.definition.type  \\\n0         http://id.tincanapi.com/activitytype/lms/course   \n1                http://adlnet.gov/expapi/activities/link   \n2                http://adlnet.gov/expapi/activities/link   \n3         http://id.tincanapi.com/activitytype/lms/course   \n4         http://id.tincanapi.com/activitytype/lms/course   \n...                                                   ...   \n306740     http://adlnet.gov/expapi/activities/assessment   \n306741     http://adlnet.gov/expapi/activities/assessment   \n306742     http://adlnet.gov/expapi/activities/assessment   \n306743     http://adlnet.gov/expapi/activities/assessment   \n306744  http://adlnet.gov/expapi/activities/cmi.intera...   \n\n                                                  context  \\\n0                                              UEF Moodle   \n1       UEF Moodle > Advanced Data Management Systems ...   \n2       UEF Moodle > Advanced Data Management Systems ...   \n3                                              UEF Moodle   \n4                                              UEF Moodle   \n...                                                   ...   \n306740                                      LAMS > 220870   \n306741                                      LAMS > 221218   \n306742                                      LAMS > 221910   \n306743                                      LAMS > 219720   \n306744                 LAMS > test > Pitanje 15 > Attempt   \n\n        result.score.scaled  result.success  result.completion  \n0                       NaN           False              False  \n1                       NaN           False              False  \n2                       NaN           False              False  \n3                       NaN           False              False  \n4                       NaN           False              False  \n...                     ...             ...                ...  \n306740                  1.0            True               True  \n306741                  1.0            True               True  \n306742                  0.2            True               True  \n306743                  1.0            True               True  \n306744                  0.0           False               True  \n\n[306745 rows x 12 columns]",
      "text/html": "<div>\n<style scoped>\n    .dataframe tbody tr th:only-of-type {\n        vertical-align: middle;\n    }\n\n    .dataframe tbody tr th {\n        vertical-align: top;\n    }\n\n    .dataframe thead th {\n        text-align: right;\n    }\n</style>\n<table border=\"1\" class=\"dataframe\">\n  <thead>\n    <tr style=\"text-align: right;\">\n      <th></th>\n      <th>Institution</th>\n      <th>Course</th>\n      <th>actor.id</th>\n      <th>timestamp</th>\n      <th>verb.id</th>\n      <th>verb.display</th>\n      <th>object.definition.name</th>\n      <th>object.definition.type</th>\n      <th>context</th>\n      <th>result.score.scaled</th>\n      <th>result.success</th>\n      <th>result.completion</th>\n    </tr>\n  </thead>\n  <tbody>\n    <tr>\n      <th>0</th>\n      <td>UEF</td>\n      <td>Advanced Data Management Systems (THJ)</td>\n      <td>aeb0c</td>\n      <td>2023-07-07T18:55:47Z</td>\n      <td>http://id.tincanapi.com/verb/viewed</td>\n      <td>viewed</td>\n      <td>Advanced Data Management Systems (THJ)</td>\n      <td>http://id.tincanapi.com/activitytype/lms/course</td>\n      <td>UEF Moodle</td>\n      <td>NaN</td>\n      <td>False</td>\n      <td>False</td>\n    </tr>\n    <tr>\n      <th>1</th>\n      <td>UEF</td>\n      <td>Advanced Data Management Systems (THJ)</td>\n      <td>aeb0c</td>\n      <td>2023-07-07T15:21:18Z</td>\n      <td>http://id.tincanapi.com/verb/viewed</td>\n      <td>viewed</td>\n      <td>Assignment Instructions: ER &amp; EER</td>\n      <td>http://adlnet.gov/expapi/activities/link</td>\n      <td>UEF Moodle &gt; Advanced Data Management Systems ...</td>\n      <td>NaN</td>\n      <td>False</td>\n      <td>False</td>\n    </tr>\n    <tr>\n      <th>2</th>\n      <td>UEF</td>\n      <td>Advanced Data Management Systems (THJ)</td>\n      <td>aeb0c</td>\n      <td>2023-07-07T15:08:13Z</td>\n      <td>http://id.tincanapi.com/verb/viewed</td>\n      <td>viewed</td>\n      <td>Recording: Intro lecture</td>\n      <td>http://adlnet.gov/expapi/activities/link</td>\n      <td>UEF Moodle &gt; Advanced Data Management Systems ...</td>\n      <td>NaN</td>\n      <td>False</td>\n      <td>False</td>\n    </tr>\n    <tr>\n      <th>3</th>\n      <td>UEF</td>\n      <td>Advanced Data Management Systems (THJ)</td>\n      <td>aeb0c</td>\n      <td>2023-07-07T15:08:10Z</td>\n      <td>http://id.tincanapi.com/verb/viewed</td>\n      <td>viewed</td>\n      <td>Advanced Data Management Systems (THJ)</td>\n      <td>http://id.tincanapi.com/activitytype/lms/course</td>\n      <td>UEF Moodle</td>\n      <td>NaN</td>\n      <td>False</td>\n      <td>False</td>\n    </tr>\n    <tr>\n      <th>4</th>\n      <td>UEF</td>\n      <td>Advanced Data Management Systems (THJ)</td>\n      <td>aeb0c</td>\n      <td>2023-07-07T09:03:32Z</td>\n      <td>http://id.tincanapi.com/verb/viewed</td>\n      <td>viewed</td>\n      <td>Advanced Data Management Systems (THJ)</td>\n      <td>http://id.tincanapi.com/activitytype/lms/course</td>\n      <td>UEF Moodle</td>\n      <td>NaN</td>\n      <td>False</td>\n      <td>False</td>\n    </tr>\n    <tr>\n      <th>...</th>\n      <td>...</td>\n      <td>...</td>\n      <td>...</td>\n      <td>...</td>\n      <td>...</td>\n      <td>...</td>\n      <td>...</td>\n      <td>...</td>\n      <td>...</td>\n      <td>...</td>\n      <td>...</td>\n      <td>...</td>\n    </tr>\n    <tr>\n      <th>306740</th>\n      <td>BMU</td>\n      <td>IT131</td>\n      <td>2db36</td>\n      <td>2023-06-16T16:52:55Z</td>\n      <td>http://adlnet.gov/expapi/verbs/scored</td>\n      <td>attained grade for</td>\n      <td>Lekcija 7 - IP adresiranje i sabnetovanje - Tr...</td>\n      <td>http://adlnet.gov/expapi/activities/assessment</td>\n      <td>LAMS &gt; 220870</td>\n      <td>1.0</td>\n      <td>True</td>\n      <td>True</td>\n    </tr>\n    <tr>\n      <th>306741</th>\n      <td>BMU</td>\n      <td>IT131</td>\n      <td>fc5fe</td>\n      <td>2023-06-16T17:58:19Z</td>\n      <td>http://adlnet.gov/expapi/verbs/scored</td>\n      <td>attained grade for</td>\n      <td>Lekcija 8 - Transportni sloj - Tradicionalna n...</td>\n      <td>http://adlnet.gov/expapi/activities/assessment</td>\n      <td>LAMS &gt; 221218</td>\n      <td>1.0</td>\n      <td>True</td>\n      <td>True</td>\n    </tr>\n    <tr>\n      <th>306742</th>\n      <td>BMU</td>\n      <td>IT131</td>\n      <td>d0f73</td>\n      <td>2023-06-16T17:08:43Z</td>\n      <td>http://adlnet.gov/expapi/verbs/scored</td>\n      <td>attained grade for</td>\n      <td>Lekcija 9 - Principi rada TCP protokola - Trad...</td>\n      <td>http://adlnet.gov/expapi/activities/assessment</td>\n      <td>LAMS &gt; 221910</td>\n      <td>0.2</td>\n      <td>True</td>\n      <td>True</td>\n    </tr>\n    <tr>\n      <th>306743</th>\n      <td>BMU</td>\n      <td>IT131</td>\n      <td>dfea0</td>\n      <td>2023-06-16T17:43:28Z</td>\n      <td>http://adlnet.gov/expapi/verbs/scored</td>\n      <td>attained grade for</td>\n      <td>IT131 - L04 (638138597640325722 - Tradicionalno)</td>\n      <td>http://adlnet.gov/expapi/activities/assessment</td>\n      <td>LAMS &gt; 219720</td>\n      <td>1.0</td>\n      <td>True</td>\n      <td>True</td>\n    </tr>\n    <tr>\n      <th>306744</th>\n      <td>BMU</td>\n      <td>IT131</td>\n      <td>7f889</td>\n      <td>2023-06-09T16:23:38Z</td>\n      <td>http://adlnet.gov/expapi/verbs/answered</td>\n      <td>answered</td>\n      <td>IT131-T02-Pitanje 15</td>\n      <td>http://adlnet.gov/expapi/activities/cmi.intera...</td>\n      <td>LAMS &gt; test &gt; Pitanje 15 &gt; Attempt</td>\n      <td>0.0</td>\n      <td>False</td>\n      <td>True</td>\n    </tr>\n  </tbody>\n</table>\n<p>306745 rows × 12 columns</p>\n</div>"
     },
     "execution_count": 2,
     "metadata": {},
     "output_type": "execute_result"
    }
   ],
   "source": [
    "df = pd.read_csv('../data/ILEDA_anonymized.csv')\n",
    "df"
   ],
   "metadata": {
    "collapsed": false,
    "ExecuteTime": {
     "end_time": "2023-11-05T17:33:51.625681400Z",
     "start_time": "2023-11-05T17:33:50.300811900Z"
    }
   },
   "id": "3971c73d035ec26c"
  },
  {
   "cell_type": "markdown",
   "source": [
    "# Duplicate values"
   ],
   "metadata": {
    "collapsed": false
   },
   "id": "795c0b8b296ad3db"
  },
  {
   "cell_type": "code",
   "execution_count": 3,
   "outputs": [
    {
     "data": {
      "text/plain": "(306745, 12)"
     },
     "execution_count": 3,
     "metadata": {},
     "output_type": "execute_result"
    }
   ],
   "source": [
    "(df.shape)"
   ],
   "metadata": {
    "collapsed": false,
    "ExecuteTime": {
     "end_time": "2023-11-05T17:33:51.625681400Z",
     "start_time": "2023-11-05T17:33:51.615884300Z"
    }
   },
   "id": "f2476e0c39f821e4"
  },
  {
   "cell_type": "code",
   "execution_count": 4,
   "outputs": [
    {
     "data": {
      "text/plain": "7454"
     },
     "execution_count": 4,
     "metadata": {},
     "output_type": "execute_result"
    }
   ],
   "source": [
    "df.shape[0] - df.drop_duplicates().shape[0]"
   ],
   "metadata": {
    "collapsed": false,
    "ExecuteTime": {
     "end_time": "2023-11-05T17:33:52.084882800Z",
     "start_time": "2023-11-05T17:33:51.625681400Z"
    }
   },
   "id": "19baad5ba9c249e1"
  },
  {
   "cell_type": "markdown",
   "source": [
    "There are 7454 duplicate rows in the dataset, which we have to drop."
   ],
   "metadata": {
    "collapsed": false
   },
   "id": "52b6c5d6625ce00c"
  },
  {
   "cell_type": "code",
   "execution_count": 5,
   "outputs": [
    {
     "data": {
      "text/plain": "(299291, 12)"
     },
     "execution_count": 5,
     "metadata": {},
     "output_type": "execute_result"
    }
   ],
   "source": [
    "df.drop_duplicates(inplace=True)\n",
    "df.shape"
   ],
   "metadata": {
    "collapsed": false,
    "ExecuteTime": {
     "end_time": "2023-11-05T17:33:52.639855800Z",
     "start_time": "2023-11-05T17:33:52.084882800Z"
    }
   },
   "id": "f2c839f251a67f69"
  },
  {
   "cell_type": "markdown",
   "source": [
    "# Dataset statistics"
   ],
   "metadata": {
    "collapsed": false
   },
   "id": "c00a3b2a8e9d6ac1"
  },
  {
   "cell_type": "code",
   "execution_count": 6,
   "outputs": [
    {
     "name": "stdout",
     "output_type": "stream",
     "text": [
      "<class 'pandas.core.frame.DataFrame'>\n",
      "Index: 299291 entries, 0 to 306739\n",
      "Data columns (total 12 columns):\n",
      " #   Column                  Non-Null Count   Dtype  \n",
      "---  ------                  --------------   -----  \n",
      " 0   Institution             299291 non-null  object \n",
      " 1   Course                  299291 non-null  object \n",
      " 2   actor.id                299291 non-null  object \n",
      " 3   timestamp               299291 non-null  object \n",
      " 4   verb.id                 299291 non-null  object \n",
      " 5   verb.display            299291 non-null  object \n",
      " 6   object.definition.name  299291 non-null  object \n",
      " 7   object.definition.type  299291 non-null  object \n",
      " 8   context                 299291 non-null  object \n",
      " 9   result.score.scaled     11558 non-null   float64\n",
      " 10  result.success          299291 non-null  bool   \n",
      " 11  result.completion       299291 non-null  bool   \n",
      "dtypes: bool(2), float64(1), object(9)\n",
      "memory usage: 25.7+ MB\n"
     ]
    }
   ],
   "source": [
    "df.info()"
   ],
   "metadata": {
    "collapsed": false,
    "ExecuteTime": {
     "end_time": "2023-11-05T17:33:52.742725500Z",
     "start_time": "2023-11-05T17:33:52.624219200Z"
    }
   },
   "id": "288017d06a81376"
  },
  {
   "cell_type": "code",
   "execution_count": 7,
   "outputs": [
    {
     "data": {
      "text/plain": "       Institution                                   Course actor.id  \\\ncount       299291                                   299291   299291   \nunique           4                                        8      829   \ntop            UEF  Ihminen ja vuorovaikutteinen teknologia    76d01   \nfreq        153290                                   134855     6255   \nmean           NaN                                      NaN      NaN   \nstd            NaN                                      NaN      NaN   \nmin            NaN                                      NaN      NaN   \n25%            NaN                                      NaN      NaN   \n50%            NaN                                      NaN      NaN   \n75%            NaN                                      NaN      NaN   \nmax            NaN                                      NaN      NaN   \n\n                   timestamp                              verb.id  \\\ncount                 299291                               299291   \nunique                245548                                   10   \ntop     2023-06-04T23:09:00Z  http://id.tincanapi.com/verb/viewed   \nfreq                      67                               229721   \nmean                     NaN                                  NaN   \nstd                      NaN                                  NaN   \nmin                      NaN                                  NaN   \n25%                      NaN                                  NaN   \n50%                      NaN                                  NaN   \n75%                      NaN                                  NaN   \nmax                      NaN                                  NaN   \n\n       verb.display                   object.definition.name  \\\ncount        299291                                   299291   \nunique           10                                     1549   \ntop          viewed  Ihminen ja vuorovaikutteinen teknologia   \nfreq         229721                                    34133   \nmean            NaN                                      NaN   \nstd             NaN                                      NaN   \nmin             NaN                                      NaN   \n25%             NaN                                      NaN   \n50%             NaN                                      NaN   \n75%             NaN                                      NaN   \nmax             NaN                                      NaN   \n\n                                 object.definition.type  \\\ncount                                            299291   \nunique                                               15   \ntop     http://id.tincanapi.com/activitytype/lms/course   \nfreq                                             102682   \nmean                                                NaN   \nstd                                                 NaN   \nmin                                                 NaN   \n25%                                                 NaN   \n50%                                                 NaN   \n75%                                                 NaN   \nmax                                                 NaN   \n\n                                                  context  \\\ncount                                              299291   \nunique                                                189   \ntop     UEF Moodle > Ihminen ja vuorovaikutteinen tekn...   \nfreq                                                45880   \nmean                                                  NaN   \nstd                                                   NaN   \nmin                                                   NaN   \n25%                                                   NaN   \n50%                                                   NaN   \n75%                                                   NaN   \nmax                                                   NaN   \n\n        result.score.scaled result.success result.completion  \ncount           11558.00000         299291            299291  \nunique                  NaN              2                 2  \ntop                     NaN          False             False  \nfreq                    NaN         266458            257343  \nmean                0.78472            NaN               NaN  \nstd                 0.35866            NaN               NaN  \nmin                 0.00000            NaN               NaN  \n25%                 0.70000            NaN               NaN  \n50%                 1.00000            NaN               NaN  \n75%                 1.00000            NaN               NaN  \nmax                 1.00000            NaN               NaN  ",
      "text/html": "<div>\n<style scoped>\n    .dataframe tbody tr th:only-of-type {\n        vertical-align: middle;\n    }\n\n    .dataframe tbody tr th {\n        vertical-align: top;\n    }\n\n    .dataframe thead th {\n        text-align: right;\n    }\n</style>\n<table border=\"1\" class=\"dataframe\">\n  <thead>\n    <tr style=\"text-align: right;\">\n      <th></th>\n      <th>Institution</th>\n      <th>Course</th>\n      <th>actor.id</th>\n      <th>timestamp</th>\n      <th>verb.id</th>\n      <th>verb.display</th>\n      <th>object.definition.name</th>\n      <th>object.definition.type</th>\n      <th>context</th>\n      <th>result.score.scaled</th>\n      <th>result.success</th>\n      <th>result.completion</th>\n    </tr>\n  </thead>\n  <tbody>\n    <tr>\n      <th>count</th>\n      <td>299291</td>\n      <td>299291</td>\n      <td>299291</td>\n      <td>299291</td>\n      <td>299291</td>\n      <td>299291</td>\n      <td>299291</td>\n      <td>299291</td>\n      <td>299291</td>\n      <td>11558.00000</td>\n      <td>299291</td>\n      <td>299291</td>\n    </tr>\n    <tr>\n      <th>unique</th>\n      <td>4</td>\n      <td>8</td>\n      <td>829</td>\n      <td>245548</td>\n      <td>10</td>\n      <td>10</td>\n      <td>1549</td>\n      <td>15</td>\n      <td>189</td>\n      <td>NaN</td>\n      <td>2</td>\n      <td>2</td>\n    </tr>\n    <tr>\n      <th>top</th>\n      <td>UEF</td>\n      <td>Ihminen ja vuorovaikutteinen teknologia</td>\n      <td>76d01</td>\n      <td>2023-06-04T23:09:00Z</td>\n      <td>http://id.tincanapi.com/verb/viewed</td>\n      <td>viewed</td>\n      <td>Ihminen ja vuorovaikutteinen teknologia</td>\n      <td>http://id.tincanapi.com/activitytype/lms/course</td>\n      <td>UEF Moodle &gt; Ihminen ja vuorovaikutteinen tekn...</td>\n      <td>NaN</td>\n      <td>False</td>\n      <td>False</td>\n    </tr>\n    <tr>\n      <th>freq</th>\n      <td>153290</td>\n      <td>134855</td>\n      <td>6255</td>\n      <td>67</td>\n      <td>229721</td>\n      <td>229721</td>\n      <td>34133</td>\n      <td>102682</td>\n      <td>45880</td>\n      <td>NaN</td>\n      <td>266458</td>\n      <td>257343</td>\n    </tr>\n    <tr>\n      <th>mean</th>\n      <td>NaN</td>\n      <td>NaN</td>\n      <td>NaN</td>\n      <td>NaN</td>\n      <td>NaN</td>\n      <td>NaN</td>\n      <td>NaN</td>\n      <td>NaN</td>\n      <td>NaN</td>\n      <td>0.78472</td>\n      <td>NaN</td>\n      <td>NaN</td>\n    </tr>\n    <tr>\n      <th>std</th>\n      <td>NaN</td>\n      <td>NaN</td>\n      <td>NaN</td>\n      <td>NaN</td>\n      <td>NaN</td>\n      <td>NaN</td>\n      <td>NaN</td>\n      <td>NaN</td>\n      <td>NaN</td>\n      <td>0.35866</td>\n      <td>NaN</td>\n      <td>NaN</td>\n    </tr>\n    <tr>\n      <th>min</th>\n      <td>NaN</td>\n      <td>NaN</td>\n      <td>NaN</td>\n      <td>NaN</td>\n      <td>NaN</td>\n      <td>NaN</td>\n      <td>NaN</td>\n      <td>NaN</td>\n      <td>NaN</td>\n      <td>0.00000</td>\n      <td>NaN</td>\n      <td>NaN</td>\n    </tr>\n    <tr>\n      <th>25%</th>\n      <td>NaN</td>\n      <td>NaN</td>\n      <td>NaN</td>\n      <td>NaN</td>\n      <td>NaN</td>\n      <td>NaN</td>\n      <td>NaN</td>\n      <td>NaN</td>\n      <td>NaN</td>\n      <td>0.70000</td>\n      <td>NaN</td>\n      <td>NaN</td>\n    </tr>\n    <tr>\n      <th>50%</th>\n      <td>NaN</td>\n      <td>NaN</td>\n      <td>NaN</td>\n      <td>NaN</td>\n      <td>NaN</td>\n      <td>NaN</td>\n      <td>NaN</td>\n      <td>NaN</td>\n      <td>NaN</td>\n      <td>1.00000</td>\n      <td>NaN</td>\n      <td>NaN</td>\n    </tr>\n    <tr>\n      <th>75%</th>\n      <td>NaN</td>\n      <td>NaN</td>\n      <td>NaN</td>\n      <td>NaN</td>\n      <td>NaN</td>\n      <td>NaN</td>\n      <td>NaN</td>\n      <td>NaN</td>\n      <td>NaN</td>\n      <td>1.00000</td>\n      <td>NaN</td>\n      <td>NaN</td>\n    </tr>\n    <tr>\n      <th>max</th>\n      <td>NaN</td>\n      <td>NaN</td>\n      <td>NaN</td>\n      <td>NaN</td>\n      <td>NaN</td>\n      <td>NaN</td>\n      <td>NaN</td>\n      <td>NaN</td>\n      <td>NaN</td>\n      <td>1.00000</td>\n      <td>NaN</td>\n      <td>NaN</td>\n    </tr>\n  </tbody>\n</table>\n</div>"
     },
     "execution_count": 7,
     "metadata": {},
     "output_type": "execute_result"
    }
   ],
   "source": [
    "df.describe(include='all')"
   ],
   "metadata": {
    "collapsed": false,
    "ExecuteTime": {
     "end_time": "2023-11-05T17:33:53.375785400Z",
     "start_time": "2023-11-05T17:33:52.758362300Z"
    }
   },
   "id": "70c2a032a1e3423b"
  },
  {
   "cell_type": "code",
   "execution_count": 8,
   "outputs": [
    {
     "data": {
      "text/plain": "      Institution                        Course actor.id  \\\n0             BMU                         CS120    05aba   \n1             BMU                         CS120    05aba   \n2             BMU                         CS120    05aba   \n3             BMU                         CS120    05aba   \n4             BMU                         CS120    05aba   \n...           ...                           ...      ...   \n11553          UL  ARQUITECTURA DE COMPUTADORES    fa4d0   \n11554          UL  ARQUITECTURA DE COMPUTADORES    fa4d0   \n11555          UL  ARQUITECTURA DE COMPUTADORES    fa4d0   \n11556          UL  ARQUITECTURA DE COMPUTADORES    fee26   \n11557          UL  ARQUITECTURA DE COMPUTADORES    fee26   \n\n                  timestamp                                   verb.id  \\\n0      2023-03-18T18:55:20Z   http://adlnet.gov/expapi/verbs/answered   \n1      2023-03-18T18:55:20Z   http://adlnet.gov/expapi/verbs/answered   \n2      2023-03-18T18:55:20Z   http://adlnet.gov/expapi/verbs/answered   \n3      2023-03-18T18:55:20Z   http://adlnet.gov/expapi/verbs/answered   \n4      2023-03-18T18:55:20Z   http://adlnet.gov/expapi/verbs/answered   \n...                     ...                                       ...   \n11553  2023-06-01T16:59:31Z  http://adlnet.gov/expapi/verbs/completed   \n11554  2023-06-02T10:47:07Z     http://adlnet.gov/expapi/verbs/scored   \n11555  2023-06-07T09:15:26Z  http://adlnet.gov/expapi/verbs/completed   \n11556  2023-02-23T17:11:26Z  http://adlnet.gov/expapi/verbs/completed   \n11557  2023-06-02T10:44:09Z     http://adlnet.gov/expapi/verbs/scored   \n\n             verb.display                      object.definition.name  \\\n0                answered                        CS120-T01-Pitanje 20   \n1                answered                        CS120-T01-Pitanje 25   \n2                answered                        CS120-T01-Pitanje 28   \n3                answered                        CS120-T01-Pitanje 39   \n4                answered                         CS120-T01-Pitanje 4   \n...                   ...                                         ...   \n11553           completed                            Lab#6 Defense G4   \n11554  attained grade for                           Lab Assignment #6   \n11555           completed             Defence quizz lab Assignment #4   \n11556           completed  Initial evaluation quizz lab assignment #1   \n11557  attained grade for                           Lab Assignment #6   \n\n                                  object.definition.type  \\\n0      http://adlnet.gov/expapi/activities/cmi.intera...   \n1      http://adlnet.gov/expapi/activities/cmi.intera...   \n2      http://adlnet.gov/expapi/activities/cmi.intera...   \n3      http://adlnet.gov/expapi/activities/cmi.intera...   \n4      http://adlnet.gov/expapi/activities/cmi.intera...   \n...                                                  ...   \n11553             http://xapi.jisc.ac.uk/activities/quiz   \n11554     http://adlnet.gov/expapi/activities/assessment   \n11555             http://xapi.jisc.ac.uk/activities/quiz   \n11556             http://xapi.jisc.ac.uk/activities/quiz   \n11557     http://adlnet.gov/expapi/activities/assessment   \n\n                                                 context  result.score.scaled  \\\n0                     LAMS > test > Pitanje 20 > Attempt             0.000000   \n1                     LAMS > test > Pitanje 25 > Attempt             1.000000   \n2                     LAMS > test > Pitanje 28 > Attempt             1.000000   \n3                     LAMS > test > Pitanje 39 > Attempt             1.000000   \n4                      LAMS > test > Pitanje 4 > Attempt             1.000000   \n...                                                  ...                  ...   \n11553  New Site > ARQUITECTURA DE COMPUTADORES - Grad...             0.560000   \n11554  New Site > ARQUITECTURA DE COMPUTADORES - Grad...             0.560000   \n11555  New Site > ARQUITECTURA DE COMPUTADORES - Grad...             0.708333   \n11556  New Site > ARQUITECTURA DE COMPUTADORES - Grad...             0.333333   \n11557  New Site > ARQUITECTURA DE COMPUTADORES - Grad...             0.000000   \n\n       result.success  result.completion  size  \n0               False               True     1  \n1                True               True     1  \n2                True               True     1  \n3                True               True     1  \n4                True               True     1  \n...               ...                ...   ...  \n11553            True               True     1  \n11554            True               True     1  \n11555            True               True     1  \n11556            True               True     1  \n11557            True               True     1  \n\n[11558 rows x 13 columns]",
      "text/html": "<div>\n<style scoped>\n    .dataframe tbody tr th:only-of-type {\n        vertical-align: middle;\n    }\n\n    .dataframe tbody tr th {\n        vertical-align: top;\n    }\n\n    .dataframe thead th {\n        text-align: right;\n    }\n</style>\n<table border=\"1\" class=\"dataframe\">\n  <thead>\n    <tr style=\"text-align: right;\">\n      <th></th>\n      <th>Institution</th>\n      <th>Course</th>\n      <th>actor.id</th>\n      <th>timestamp</th>\n      <th>verb.id</th>\n      <th>verb.display</th>\n      <th>object.definition.name</th>\n      <th>object.definition.type</th>\n      <th>context</th>\n      <th>result.score.scaled</th>\n      <th>result.success</th>\n      <th>result.completion</th>\n      <th>size</th>\n    </tr>\n  </thead>\n  <tbody>\n    <tr>\n      <th>0</th>\n      <td>BMU</td>\n      <td>CS120</td>\n      <td>05aba</td>\n      <td>2023-03-18T18:55:20Z</td>\n      <td>http://adlnet.gov/expapi/verbs/answered</td>\n      <td>answered</td>\n      <td>CS120-T01-Pitanje 20</td>\n      <td>http://adlnet.gov/expapi/activities/cmi.intera...</td>\n      <td>LAMS &gt; test &gt; Pitanje 20 &gt; Attempt</td>\n      <td>0.000000</td>\n      <td>False</td>\n      <td>True</td>\n      <td>1</td>\n    </tr>\n    <tr>\n      <th>1</th>\n      <td>BMU</td>\n      <td>CS120</td>\n      <td>05aba</td>\n      <td>2023-03-18T18:55:20Z</td>\n      <td>http://adlnet.gov/expapi/verbs/answered</td>\n      <td>answered</td>\n      <td>CS120-T01-Pitanje 25</td>\n      <td>http://adlnet.gov/expapi/activities/cmi.intera...</td>\n      <td>LAMS &gt; test &gt; Pitanje 25 &gt; Attempt</td>\n      <td>1.000000</td>\n      <td>True</td>\n      <td>True</td>\n      <td>1</td>\n    </tr>\n    <tr>\n      <th>2</th>\n      <td>BMU</td>\n      <td>CS120</td>\n      <td>05aba</td>\n      <td>2023-03-18T18:55:20Z</td>\n      <td>http://adlnet.gov/expapi/verbs/answered</td>\n      <td>answered</td>\n      <td>CS120-T01-Pitanje 28</td>\n      <td>http://adlnet.gov/expapi/activities/cmi.intera...</td>\n      <td>LAMS &gt; test &gt; Pitanje 28 &gt; Attempt</td>\n      <td>1.000000</td>\n      <td>True</td>\n      <td>True</td>\n      <td>1</td>\n    </tr>\n    <tr>\n      <th>3</th>\n      <td>BMU</td>\n      <td>CS120</td>\n      <td>05aba</td>\n      <td>2023-03-18T18:55:20Z</td>\n      <td>http://adlnet.gov/expapi/verbs/answered</td>\n      <td>answered</td>\n      <td>CS120-T01-Pitanje 39</td>\n      <td>http://adlnet.gov/expapi/activities/cmi.intera...</td>\n      <td>LAMS &gt; test &gt; Pitanje 39 &gt; Attempt</td>\n      <td>1.000000</td>\n      <td>True</td>\n      <td>True</td>\n      <td>1</td>\n    </tr>\n    <tr>\n      <th>4</th>\n      <td>BMU</td>\n      <td>CS120</td>\n      <td>05aba</td>\n      <td>2023-03-18T18:55:20Z</td>\n      <td>http://adlnet.gov/expapi/verbs/answered</td>\n      <td>answered</td>\n      <td>CS120-T01-Pitanje 4</td>\n      <td>http://adlnet.gov/expapi/activities/cmi.intera...</td>\n      <td>LAMS &gt; test &gt; Pitanje 4 &gt; Attempt</td>\n      <td>1.000000</td>\n      <td>True</td>\n      <td>True</td>\n      <td>1</td>\n    </tr>\n    <tr>\n      <th>...</th>\n      <td>...</td>\n      <td>...</td>\n      <td>...</td>\n      <td>...</td>\n      <td>...</td>\n      <td>...</td>\n      <td>...</td>\n      <td>...</td>\n      <td>...</td>\n      <td>...</td>\n      <td>...</td>\n      <td>...</td>\n      <td>...</td>\n    </tr>\n    <tr>\n      <th>11553</th>\n      <td>UL</td>\n      <td>ARQUITECTURA DE COMPUTADORES</td>\n      <td>fa4d0</td>\n      <td>2023-06-01T16:59:31Z</td>\n      <td>http://adlnet.gov/expapi/verbs/completed</td>\n      <td>completed</td>\n      <td>Lab#6 Defense G4</td>\n      <td>http://xapi.jisc.ac.uk/activities/quiz</td>\n      <td>New Site &gt; ARQUITECTURA DE COMPUTADORES - Grad...</td>\n      <td>0.560000</td>\n      <td>True</td>\n      <td>True</td>\n      <td>1</td>\n    </tr>\n    <tr>\n      <th>11554</th>\n      <td>UL</td>\n      <td>ARQUITECTURA DE COMPUTADORES</td>\n      <td>fa4d0</td>\n      <td>2023-06-02T10:47:07Z</td>\n      <td>http://adlnet.gov/expapi/verbs/scored</td>\n      <td>attained grade for</td>\n      <td>Lab Assignment #6</td>\n      <td>http://adlnet.gov/expapi/activities/assessment</td>\n      <td>New Site &gt; ARQUITECTURA DE COMPUTADORES - Grad...</td>\n      <td>0.560000</td>\n      <td>True</td>\n      <td>True</td>\n      <td>1</td>\n    </tr>\n    <tr>\n      <th>11555</th>\n      <td>UL</td>\n      <td>ARQUITECTURA DE COMPUTADORES</td>\n      <td>fa4d0</td>\n      <td>2023-06-07T09:15:26Z</td>\n      <td>http://adlnet.gov/expapi/verbs/completed</td>\n      <td>completed</td>\n      <td>Defence quizz lab Assignment #4</td>\n      <td>http://xapi.jisc.ac.uk/activities/quiz</td>\n      <td>New Site &gt; ARQUITECTURA DE COMPUTADORES - Grad...</td>\n      <td>0.708333</td>\n      <td>True</td>\n      <td>True</td>\n      <td>1</td>\n    </tr>\n    <tr>\n      <th>11556</th>\n      <td>UL</td>\n      <td>ARQUITECTURA DE COMPUTADORES</td>\n      <td>fee26</td>\n      <td>2023-02-23T17:11:26Z</td>\n      <td>http://adlnet.gov/expapi/verbs/completed</td>\n      <td>completed</td>\n      <td>Initial evaluation quizz lab assignment #1</td>\n      <td>http://xapi.jisc.ac.uk/activities/quiz</td>\n      <td>New Site &gt; ARQUITECTURA DE COMPUTADORES - Grad...</td>\n      <td>0.333333</td>\n      <td>True</td>\n      <td>True</td>\n      <td>1</td>\n    </tr>\n    <tr>\n      <th>11557</th>\n      <td>UL</td>\n      <td>ARQUITECTURA DE COMPUTADORES</td>\n      <td>fee26</td>\n      <td>2023-06-02T10:44:09Z</td>\n      <td>http://adlnet.gov/expapi/verbs/scored</td>\n      <td>attained grade for</td>\n      <td>Lab Assignment #6</td>\n      <td>http://adlnet.gov/expapi/activities/assessment</td>\n      <td>New Site &gt; ARQUITECTURA DE COMPUTADORES - Grad...</td>\n      <td>0.000000</td>\n      <td>True</td>\n      <td>True</td>\n      <td>1</td>\n    </tr>\n  </tbody>\n</table>\n<p>11558 rows × 13 columns</p>\n</div>"
     },
     "execution_count": 8,
     "metadata": {},
     "output_type": "execute_result"
    }
   ],
   "source": [
    "df.groupby(df.columns.tolist(), as_index=False).size()"
   ],
   "metadata": {
    "collapsed": false,
    "ExecuteTime": {
     "end_time": "2023-11-05T17:33:54.220130400Z",
     "start_time": "2023-11-05T17:33:53.375785400Z"
    }
   },
   "id": "58dc5def16b5d1e9"
  },
  {
   "cell_type": "markdown",
   "source": [
    "# Columns"
   ],
   "metadata": {
    "collapsed": false
   },
   "id": "ef37a22e041ceea8"
  },
  {
   "cell_type": "markdown",
   "source": [
    "## Verb"
   ],
   "metadata": {
    "collapsed": false
   },
   "id": "a6b720f7c5afcc5f"
  },
  {
   "cell_type": "code",
   "execution_count": 9,
   "outputs": [
    {
     "data": {
      "text/plain": "verb.id\nhttp://id.tincanapi.com/verb/viewed           229721\nhttp://adlnet.gov/expapi/verbs/answered        33546\nhttp://adlnet.gov/expapi/verbs/completed       18224\nhttp://activitystrea.ms/schema/1.0/receive      6582\nhttp://activitystrea.ms/schema/1.0/start        4400\nhttp://adlnet.gov/expapi/verbs/scored           4236\nhttp://activitystrea.ms/schema/1.0/submit       1481\nhttp://activitystrea.ms/schema/1.0/create        931\nhttp://activitystrea.ms/schema/1.0/join          136\nhttp://activitystrea.ms/schema/1.0/leave          34\nName: count, dtype: int64"
     },
     "execution_count": 9,
     "metadata": {},
     "output_type": "execute_result"
    }
   ],
   "source": [
    "df['verb.id'].value_counts()"
   ],
   "metadata": {
    "collapsed": false,
    "ExecuteTime": {
     "end_time": "2023-11-05T17:33:54.242807500Z",
     "start_time": "2023-11-05T17:33:54.193462200Z"
    }
   },
   "id": "da97a2b5b2d8bc87"
  },
  {
   "cell_type": "code",
   "execution_count": 10,
   "outputs": [],
   "source": [
    "df['verb.id'] = df['verb.id'].str.split('/').str[-1]"
   ],
   "metadata": {
    "collapsed": false,
    "ExecuteTime": {
     "end_time": "2023-11-05T17:33:55.284358700Z",
     "start_time": "2023-11-05T17:33:54.227168500Z"
    }
   },
   "id": "aa2d05b878a1bfd4"
  },
  {
   "cell_type": "code",
   "execution_count": 11,
   "outputs": [
    {
     "data": {
      "text/plain": "       Institution                                  Course actor.id  \\\n0              UEF  Advanced Data Management Systems (THJ)    aeb0c   \n1              UEF  Advanced Data Management Systems (THJ)    aeb0c   \n2              UEF  Advanced Data Management Systems (THJ)    aeb0c   \n3              UEF  Advanced Data Management Systems (THJ)    aeb0c   \n4              UEF  Advanced Data Management Systems (THJ)    aeb0c   \n...            ...                                     ...      ...   \n306723         BMU                                   IT131    87441   \n306724         BMU                                   IT131    1c33c   \n306730         BMU                                   IT131    98607   \n306734         BMU                                   IT131    98607   \n306739         BMU                                   IT131    00c5e   \n\n                   timestamp    verb.id verb.display  \\\n0       2023-07-07T18:55:47Z     viewed       viewed   \n1       2023-07-07T15:21:18Z     viewed       viewed   \n2       2023-07-07T15:08:13Z     viewed       viewed   \n3       2023-07-07T15:08:10Z     viewed       viewed   \n4       2023-07-07T09:03:32Z     viewed       viewed   \n...                      ...        ...          ...   \n306723  2023-06-11T22:57:27Z   answered     answered   \n306724  2023-05-16T00:05:45Z   answered     answered   \n306730  2023-05-12T22:10:50Z  completed    completed   \n306734  2023-02-27T22:45:33Z  completed    completed   \n306739  2023-06-01T21:23:16Z   answered     answered   \n\n                                   object.definition.name  \\\n0                  Advanced Data Management Systems (THJ)   \n1                       Assignment Instructions: ER & EER   \n2                                Recording: Intro lecture   \n3                  Advanced Data Management Systems (THJ)   \n4                  Advanced Data Management Systems (THJ)   \n...                                                   ...   \n306723                               IT131-T05-Pitanje 13   \n306724                               IT131-T03-Pitanje 15   \n306730                                          IT131-T03   \n306734  Lekcija 2 - Osnove umrežavanja - Tradicionalna...   \n306739                               IT131-T04-Pitanje 20   \n\n                                   object.definition.type  \\\n0         http://id.tincanapi.com/activitytype/lms/course   \n1                http://adlnet.gov/expapi/activities/link   \n2                http://adlnet.gov/expapi/activities/link   \n3         http://id.tincanapi.com/activitytype/lms/course   \n4         http://id.tincanapi.com/activitytype/lms/course   \n...                                                   ...   \n306723  http://adlnet.gov/expapi/activities/cmi.intera...   \n306724  http://adlnet.gov/expapi/activities/cmi.intera...   \n306730     http://adlnet.gov/expapi/activities/assessment   \n306734    http://id.tincanapi.com/activitytype/lms/module   \n306739  http://adlnet.gov/expapi/activities/cmi.intera...   \n\n                                                  context  \\\n0                                              UEF Moodle   \n1       UEF Moodle > Advanced Data Management Systems ...   \n2       UEF Moodle > Advanced Data Management Systems ...   \n3                                              UEF Moodle   \n4                                              UEF Moodle   \n...                                                   ...   \n306723                 LAMS > test > Pitanje 13 > Attempt   \n306724                 LAMS > test > Pitanje 15 > Attempt   \n306730                                        LAMS > test   \n306734                                      LAMS > 217371   \n306739                 LAMS > test > Pitanje 20 > Attempt   \n\n        result.score.scaled  result.success  result.completion  \n0                       NaN           False              False  \n1                       NaN           False              False  \n2                       NaN           False              False  \n3                       NaN           False              False  \n4                       NaN           False              False  \n...                     ...             ...                ...  \n306723                1.000            True               True  \n306724                0.000           False               True  \n306730                0.375            True               True  \n306734                  NaN           False              False  \n306739                0.000           False               True  \n\n[299291 rows x 12 columns]",
      "text/html": "<div>\n<style scoped>\n    .dataframe tbody tr th:only-of-type {\n        vertical-align: middle;\n    }\n\n    .dataframe tbody tr th {\n        vertical-align: top;\n    }\n\n    .dataframe thead th {\n        text-align: right;\n    }\n</style>\n<table border=\"1\" class=\"dataframe\">\n  <thead>\n    <tr style=\"text-align: right;\">\n      <th></th>\n      <th>Institution</th>\n      <th>Course</th>\n      <th>actor.id</th>\n      <th>timestamp</th>\n      <th>verb.id</th>\n      <th>verb.display</th>\n      <th>object.definition.name</th>\n      <th>object.definition.type</th>\n      <th>context</th>\n      <th>result.score.scaled</th>\n      <th>result.success</th>\n      <th>result.completion</th>\n    </tr>\n  </thead>\n  <tbody>\n    <tr>\n      <th>0</th>\n      <td>UEF</td>\n      <td>Advanced Data Management Systems (THJ)</td>\n      <td>aeb0c</td>\n      <td>2023-07-07T18:55:47Z</td>\n      <td>viewed</td>\n      <td>viewed</td>\n      <td>Advanced Data Management Systems (THJ)</td>\n      <td>http://id.tincanapi.com/activitytype/lms/course</td>\n      <td>UEF Moodle</td>\n      <td>NaN</td>\n      <td>False</td>\n      <td>False</td>\n    </tr>\n    <tr>\n      <th>1</th>\n      <td>UEF</td>\n      <td>Advanced Data Management Systems (THJ)</td>\n      <td>aeb0c</td>\n      <td>2023-07-07T15:21:18Z</td>\n      <td>viewed</td>\n      <td>viewed</td>\n      <td>Assignment Instructions: ER &amp; EER</td>\n      <td>http://adlnet.gov/expapi/activities/link</td>\n      <td>UEF Moodle &gt; Advanced Data Management Systems ...</td>\n      <td>NaN</td>\n      <td>False</td>\n      <td>False</td>\n    </tr>\n    <tr>\n      <th>2</th>\n      <td>UEF</td>\n      <td>Advanced Data Management Systems (THJ)</td>\n      <td>aeb0c</td>\n      <td>2023-07-07T15:08:13Z</td>\n      <td>viewed</td>\n      <td>viewed</td>\n      <td>Recording: Intro lecture</td>\n      <td>http://adlnet.gov/expapi/activities/link</td>\n      <td>UEF Moodle &gt; Advanced Data Management Systems ...</td>\n      <td>NaN</td>\n      <td>False</td>\n      <td>False</td>\n    </tr>\n    <tr>\n      <th>3</th>\n      <td>UEF</td>\n      <td>Advanced Data Management Systems (THJ)</td>\n      <td>aeb0c</td>\n      <td>2023-07-07T15:08:10Z</td>\n      <td>viewed</td>\n      <td>viewed</td>\n      <td>Advanced Data Management Systems (THJ)</td>\n      <td>http://id.tincanapi.com/activitytype/lms/course</td>\n      <td>UEF Moodle</td>\n      <td>NaN</td>\n      <td>False</td>\n      <td>False</td>\n    </tr>\n    <tr>\n      <th>4</th>\n      <td>UEF</td>\n      <td>Advanced Data Management Systems (THJ)</td>\n      <td>aeb0c</td>\n      <td>2023-07-07T09:03:32Z</td>\n      <td>viewed</td>\n      <td>viewed</td>\n      <td>Advanced Data Management Systems (THJ)</td>\n      <td>http://id.tincanapi.com/activitytype/lms/course</td>\n      <td>UEF Moodle</td>\n      <td>NaN</td>\n      <td>False</td>\n      <td>False</td>\n    </tr>\n    <tr>\n      <th>...</th>\n      <td>...</td>\n      <td>...</td>\n      <td>...</td>\n      <td>...</td>\n      <td>...</td>\n      <td>...</td>\n      <td>...</td>\n      <td>...</td>\n      <td>...</td>\n      <td>...</td>\n      <td>...</td>\n      <td>...</td>\n    </tr>\n    <tr>\n      <th>306723</th>\n      <td>BMU</td>\n      <td>IT131</td>\n      <td>87441</td>\n      <td>2023-06-11T22:57:27Z</td>\n      <td>answered</td>\n      <td>answered</td>\n      <td>IT131-T05-Pitanje 13</td>\n      <td>http://adlnet.gov/expapi/activities/cmi.intera...</td>\n      <td>LAMS &gt; test &gt; Pitanje 13 &gt; Attempt</td>\n      <td>1.000</td>\n      <td>True</td>\n      <td>True</td>\n    </tr>\n    <tr>\n      <th>306724</th>\n      <td>BMU</td>\n      <td>IT131</td>\n      <td>1c33c</td>\n      <td>2023-05-16T00:05:45Z</td>\n      <td>answered</td>\n      <td>answered</td>\n      <td>IT131-T03-Pitanje 15</td>\n      <td>http://adlnet.gov/expapi/activities/cmi.intera...</td>\n      <td>LAMS &gt; test &gt; Pitanje 15 &gt; Attempt</td>\n      <td>0.000</td>\n      <td>False</td>\n      <td>True</td>\n    </tr>\n    <tr>\n      <th>306730</th>\n      <td>BMU</td>\n      <td>IT131</td>\n      <td>98607</td>\n      <td>2023-05-12T22:10:50Z</td>\n      <td>completed</td>\n      <td>completed</td>\n      <td>IT131-T03</td>\n      <td>http://adlnet.gov/expapi/activities/assessment</td>\n      <td>LAMS &gt; test</td>\n      <td>0.375</td>\n      <td>True</td>\n      <td>True</td>\n    </tr>\n    <tr>\n      <th>306734</th>\n      <td>BMU</td>\n      <td>IT131</td>\n      <td>98607</td>\n      <td>2023-02-27T22:45:33Z</td>\n      <td>completed</td>\n      <td>completed</td>\n      <td>Lekcija 2 - Osnove umrežavanja - Tradicionalna...</td>\n      <td>http://id.tincanapi.com/activitytype/lms/module</td>\n      <td>LAMS &gt; 217371</td>\n      <td>NaN</td>\n      <td>False</td>\n      <td>False</td>\n    </tr>\n    <tr>\n      <th>306739</th>\n      <td>BMU</td>\n      <td>IT131</td>\n      <td>00c5e</td>\n      <td>2023-06-01T21:23:16Z</td>\n      <td>answered</td>\n      <td>answered</td>\n      <td>IT131-T04-Pitanje 20</td>\n      <td>http://adlnet.gov/expapi/activities/cmi.intera...</td>\n      <td>LAMS &gt; test &gt; Pitanje 20 &gt; Attempt</td>\n      <td>0.000</td>\n      <td>False</td>\n      <td>True</td>\n    </tr>\n  </tbody>\n</table>\n<p>299291 rows × 12 columns</p>\n</div>"
     },
     "execution_count": 11,
     "metadata": {},
     "output_type": "execute_result"
    }
   ],
   "source": [
    "df"
   ],
   "metadata": {
    "collapsed": false,
    "ExecuteTime": {
     "end_time": "2023-11-05T17:33:55.312355Z",
     "start_time": "2023-11-05T17:33:55.284358700Z"
    }
   },
   "id": "2622fbf933ef9a44"
  },
  {
   "cell_type": "code",
   "execution_count": 12,
   "outputs": [
    {
     "data": {
      "text/plain": "False"
     },
     "execution_count": 12,
     "metadata": {},
     "output_type": "execute_result"
    }
   ],
   "source": [
    "all(df['verb.id'].str.split('/').str[-1] == df['verb.display'])"
   ],
   "metadata": {
    "collapsed": false,
    "ExecuteTime": {
     "end_time": "2023-11-05T17:33:56.197300300Z",
     "start_time": "2023-11-05T17:33:55.317988Z"
    }
   },
   "id": "a0fb04f222bed8c3"
  },
  {
   "cell_type": "code",
   "execution_count": 13,
   "outputs": [
    {
     "data": {
      "text/plain": "        verb.id        verb.display\n74       scored  attained grade for\n96       scored  attained grade for\n97       scored  attained grade for\n98       scored  attained grade for\n99       scored  attained grade for\n...         ...                 ...\n306087    start             started\n306278  receive            received\n306292  receive            received\n306398    start             started\n306439    start             started\n\n[17800 rows x 2 columns]",
      "text/html": "<div>\n<style scoped>\n    .dataframe tbody tr th:only-of-type {\n        vertical-align: middle;\n    }\n\n    .dataframe tbody tr th {\n        vertical-align: top;\n    }\n\n    .dataframe thead th {\n        text-align: right;\n    }\n</style>\n<table border=\"1\" class=\"dataframe\">\n  <thead>\n    <tr style=\"text-align: right;\">\n      <th></th>\n      <th>verb.id</th>\n      <th>verb.display</th>\n    </tr>\n  </thead>\n  <tbody>\n    <tr>\n      <th>74</th>\n      <td>scored</td>\n      <td>attained grade for</td>\n    </tr>\n    <tr>\n      <th>96</th>\n      <td>scored</td>\n      <td>attained grade for</td>\n    </tr>\n    <tr>\n      <th>97</th>\n      <td>scored</td>\n      <td>attained grade for</td>\n    </tr>\n    <tr>\n      <th>98</th>\n      <td>scored</td>\n      <td>attained grade for</td>\n    </tr>\n    <tr>\n      <th>99</th>\n      <td>scored</td>\n      <td>attained grade for</td>\n    </tr>\n    <tr>\n      <th>...</th>\n      <td>...</td>\n      <td>...</td>\n    </tr>\n    <tr>\n      <th>306087</th>\n      <td>start</td>\n      <td>started</td>\n    </tr>\n    <tr>\n      <th>306278</th>\n      <td>receive</td>\n      <td>received</td>\n    </tr>\n    <tr>\n      <th>306292</th>\n      <td>receive</td>\n      <td>received</td>\n    </tr>\n    <tr>\n      <th>306398</th>\n      <td>start</td>\n      <td>started</td>\n    </tr>\n    <tr>\n      <th>306439</th>\n      <td>start</td>\n      <td>started</td>\n    </tr>\n  </tbody>\n</table>\n<p>17800 rows × 2 columns</p>\n</div>"
     },
     "execution_count": 13,
     "metadata": {},
     "output_type": "execute_result"
    }
   ],
   "source": [
    "df[df['verb.id'].str.split('/').str[-1] != df['verb.display']][['verb.id', 'verb.display']]"
   ],
   "metadata": {
    "collapsed": false,
    "ExecuteTime": {
     "end_time": "2023-11-05T17:33:56.689044100Z",
     "start_time": "2023-11-05T17:33:56.181661300Z"
    }
   },
   "id": "21365df06dacb2b"
  },
  {
   "cell_type": "code",
   "execution_count": 14,
   "outputs": [
    {
     "data": {
      "text/plain": "          verb.id        verb.display\n0          viewed              viewed\n29      completed           completed\n74         scored  attained grade for\n714        submit           submitted\n742        create             created\n763       receive            received\n892      answered            answered\n906         start             started\n153743       join              joined\n153749      leave                left",
      "text/html": "<div>\n<style scoped>\n    .dataframe tbody tr th:only-of-type {\n        vertical-align: middle;\n    }\n\n    .dataframe tbody tr th {\n        vertical-align: top;\n    }\n\n    .dataframe thead th {\n        text-align: right;\n    }\n</style>\n<table border=\"1\" class=\"dataframe\">\n  <thead>\n    <tr style=\"text-align: right;\">\n      <th></th>\n      <th>verb.id</th>\n      <th>verb.display</th>\n    </tr>\n  </thead>\n  <tbody>\n    <tr>\n      <th>0</th>\n      <td>viewed</td>\n      <td>viewed</td>\n    </tr>\n    <tr>\n      <th>29</th>\n      <td>completed</td>\n      <td>completed</td>\n    </tr>\n    <tr>\n      <th>74</th>\n      <td>scored</td>\n      <td>attained grade for</td>\n    </tr>\n    <tr>\n      <th>714</th>\n      <td>submit</td>\n      <td>submitted</td>\n    </tr>\n    <tr>\n      <th>742</th>\n      <td>create</td>\n      <td>created</td>\n    </tr>\n    <tr>\n      <th>763</th>\n      <td>receive</td>\n      <td>received</td>\n    </tr>\n    <tr>\n      <th>892</th>\n      <td>answered</td>\n      <td>answered</td>\n    </tr>\n    <tr>\n      <th>906</th>\n      <td>start</td>\n      <td>started</td>\n    </tr>\n    <tr>\n      <th>153743</th>\n      <td>join</td>\n      <td>joined</td>\n    </tr>\n    <tr>\n      <th>153749</th>\n      <td>leave</td>\n      <td>left</td>\n    </tr>\n  </tbody>\n</table>\n</div>"
     },
     "execution_count": 14,
     "metadata": {},
     "output_type": "execute_result"
    }
   ],
   "source": [
    "df[['verb.id', 'verb.display']].drop_duplicates()"
   ],
   "metadata": {
    "collapsed": false,
    "ExecuteTime": {
     "end_time": "2023-11-05T17:33:56.888641900Z",
     "start_time": "2023-11-05T17:33:56.674269Z"
    }
   },
   "id": "9f1a2e2b52175efd"
  },
  {
   "cell_type": "markdown",
   "source": [
    "Each ID corresponds to a single display."
   ],
   "metadata": {
    "collapsed": false
   },
   "id": "5e99cd0e8f5f2a09"
  },
  {
   "cell_type": "code",
   "execution_count": 15,
   "outputs": [],
   "source": [
    "df.drop(['verb.display'], axis=1, inplace=True)"
   ],
   "metadata": {
    "collapsed": false,
    "ExecuteTime": {
     "end_time": "2023-11-05T17:33:56.888641900Z",
     "start_time": "2023-11-05T17:33:56.822840900Z"
    }
   },
   "id": "933556ffd1f31cf9"
  },
  {
   "cell_type": "code",
   "execution_count": 16,
   "outputs": [
    {
     "data": {
      "text/plain": "       Institution                                  Course actor.id  \\\n0              UEF  Advanced Data Management Systems (THJ)    aeb0c   \n1              UEF  Advanced Data Management Systems (THJ)    aeb0c   \n2              UEF  Advanced Data Management Systems (THJ)    aeb0c   \n3              UEF  Advanced Data Management Systems (THJ)    aeb0c   \n4              UEF  Advanced Data Management Systems (THJ)    aeb0c   \n...            ...                                     ...      ...   \n306723         BMU                                   IT131    87441   \n306724         BMU                                   IT131    1c33c   \n306730         BMU                                   IT131    98607   \n306734         BMU                                   IT131    98607   \n306739         BMU                                   IT131    00c5e   \n\n                   timestamp    verb.id  \\\n0       2023-07-07T18:55:47Z     viewed   \n1       2023-07-07T15:21:18Z     viewed   \n2       2023-07-07T15:08:13Z     viewed   \n3       2023-07-07T15:08:10Z     viewed   \n4       2023-07-07T09:03:32Z     viewed   \n...                      ...        ...   \n306723  2023-06-11T22:57:27Z   answered   \n306724  2023-05-16T00:05:45Z   answered   \n306730  2023-05-12T22:10:50Z  completed   \n306734  2023-02-27T22:45:33Z  completed   \n306739  2023-06-01T21:23:16Z   answered   \n\n                                   object.definition.name  \\\n0                  Advanced Data Management Systems (THJ)   \n1                       Assignment Instructions: ER & EER   \n2                                Recording: Intro lecture   \n3                  Advanced Data Management Systems (THJ)   \n4                  Advanced Data Management Systems (THJ)   \n...                                                   ...   \n306723                               IT131-T05-Pitanje 13   \n306724                               IT131-T03-Pitanje 15   \n306730                                          IT131-T03   \n306734  Lekcija 2 - Osnove umrežavanja - Tradicionalna...   \n306739                               IT131-T04-Pitanje 20   \n\n                                   object.definition.type  \\\n0         http://id.tincanapi.com/activitytype/lms/course   \n1                http://adlnet.gov/expapi/activities/link   \n2                http://adlnet.gov/expapi/activities/link   \n3         http://id.tincanapi.com/activitytype/lms/course   \n4         http://id.tincanapi.com/activitytype/lms/course   \n...                                                   ...   \n306723  http://adlnet.gov/expapi/activities/cmi.intera...   \n306724  http://adlnet.gov/expapi/activities/cmi.intera...   \n306730     http://adlnet.gov/expapi/activities/assessment   \n306734    http://id.tincanapi.com/activitytype/lms/module   \n306739  http://adlnet.gov/expapi/activities/cmi.intera...   \n\n                                                  context  \\\n0                                              UEF Moodle   \n1       UEF Moodle > Advanced Data Management Systems ...   \n2       UEF Moodle > Advanced Data Management Systems ...   \n3                                              UEF Moodle   \n4                                              UEF Moodle   \n...                                                   ...   \n306723                 LAMS > test > Pitanje 13 > Attempt   \n306724                 LAMS > test > Pitanje 15 > Attempt   \n306730                                        LAMS > test   \n306734                                      LAMS > 217371   \n306739                 LAMS > test > Pitanje 20 > Attempt   \n\n        result.score.scaled  result.success  result.completion  \n0                       NaN           False              False  \n1                       NaN           False              False  \n2                       NaN           False              False  \n3                       NaN           False              False  \n4                       NaN           False              False  \n...                     ...             ...                ...  \n306723                1.000            True               True  \n306724                0.000           False               True  \n306730                0.375            True               True  \n306734                  NaN           False              False  \n306739                0.000           False               True  \n\n[299291 rows x 11 columns]",
      "text/html": "<div>\n<style scoped>\n    .dataframe tbody tr th:only-of-type {\n        vertical-align: middle;\n    }\n\n    .dataframe tbody tr th {\n        vertical-align: top;\n    }\n\n    .dataframe thead th {\n        text-align: right;\n    }\n</style>\n<table border=\"1\" class=\"dataframe\">\n  <thead>\n    <tr style=\"text-align: right;\">\n      <th></th>\n      <th>Institution</th>\n      <th>Course</th>\n      <th>actor.id</th>\n      <th>timestamp</th>\n      <th>verb.id</th>\n      <th>object.definition.name</th>\n      <th>object.definition.type</th>\n      <th>context</th>\n      <th>result.score.scaled</th>\n      <th>result.success</th>\n      <th>result.completion</th>\n    </tr>\n  </thead>\n  <tbody>\n    <tr>\n      <th>0</th>\n      <td>UEF</td>\n      <td>Advanced Data Management Systems (THJ)</td>\n      <td>aeb0c</td>\n      <td>2023-07-07T18:55:47Z</td>\n      <td>viewed</td>\n      <td>Advanced Data Management Systems (THJ)</td>\n      <td>http://id.tincanapi.com/activitytype/lms/course</td>\n      <td>UEF Moodle</td>\n      <td>NaN</td>\n      <td>False</td>\n      <td>False</td>\n    </tr>\n    <tr>\n      <th>1</th>\n      <td>UEF</td>\n      <td>Advanced Data Management Systems (THJ)</td>\n      <td>aeb0c</td>\n      <td>2023-07-07T15:21:18Z</td>\n      <td>viewed</td>\n      <td>Assignment Instructions: ER &amp; EER</td>\n      <td>http://adlnet.gov/expapi/activities/link</td>\n      <td>UEF Moodle &gt; Advanced Data Management Systems ...</td>\n      <td>NaN</td>\n      <td>False</td>\n      <td>False</td>\n    </tr>\n    <tr>\n      <th>2</th>\n      <td>UEF</td>\n      <td>Advanced Data Management Systems (THJ)</td>\n      <td>aeb0c</td>\n      <td>2023-07-07T15:08:13Z</td>\n      <td>viewed</td>\n      <td>Recording: Intro lecture</td>\n      <td>http://adlnet.gov/expapi/activities/link</td>\n      <td>UEF Moodle &gt; Advanced Data Management Systems ...</td>\n      <td>NaN</td>\n      <td>False</td>\n      <td>False</td>\n    </tr>\n    <tr>\n      <th>3</th>\n      <td>UEF</td>\n      <td>Advanced Data Management Systems (THJ)</td>\n      <td>aeb0c</td>\n      <td>2023-07-07T15:08:10Z</td>\n      <td>viewed</td>\n      <td>Advanced Data Management Systems (THJ)</td>\n      <td>http://id.tincanapi.com/activitytype/lms/course</td>\n      <td>UEF Moodle</td>\n      <td>NaN</td>\n      <td>False</td>\n      <td>False</td>\n    </tr>\n    <tr>\n      <th>4</th>\n      <td>UEF</td>\n      <td>Advanced Data Management Systems (THJ)</td>\n      <td>aeb0c</td>\n      <td>2023-07-07T09:03:32Z</td>\n      <td>viewed</td>\n      <td>Advanced Data Management Systems (THJ)</td>\n      <td>http://id.tincanapi.com/activitytype/lms/course</td>\n      <td>UEF Moodle</td>\n      <td>NaN</td>\n      <td>False</td>\n      <td>False</td>\n    </tr>\n    <tr>\n      <th>...</th>\n      <td>...</td>\n      <td>...</td>\n      <td>...</td>\n      <td>...</td>\n      <td>...</td>\n      <td>...</td>\n      <td>...</td>\n      <td>...</td>\n      <td>...</td>\n      <td>...</td>\n      <td>...</td>\n    </tr>\n    <tr>\n      <th>306723</th>\n      <td>BMU</td>\n      <td>IT131</td>\n      <td>87441</td>\n      <td>2023-06-11T22:57:27Z</td>\n      <td>answered</td>\n      <td>IT131-T05-Pitanje 13</td>\n      <td>http://adlnet.gov/expapi/activities/cmi.intera...</td>\n      <td>LAMS &gt; test &gt; Pitanje 13 &gt; Attempt</td>\n      <td>1.000</td>\n      <td>True</td>\n      <td>True</td>\n    </tr>\n    <tr>\n      <th>306724</th>\n      <td>BMU</td>\n      <td>IT131</td>\n      <td>1c33c</td>\n      <td>2023-05-16T00:05:45Z</td>\n      <td>answered</td>\n      <td>IT131-T03-Pitanje 15</td>\n      <td>http://adlnet.gov/expapi/activities/cmi.intera...</td>\n      <td>LAMS &gt; test &gt; Pitanje 15 &gt; Attempt</td>\n      <td>0.000</td>\n      <td>False</td>\n      <td>True</td>\n    </tr>\n    <tr>\n      <th>306730</th>\n      <td>BMU</td>\n      <td>IT131</td>\n      <td>98607</td>\n      <td>2023-05-12T22:10:50Z</td>\n      <td>completed</td>\n      <td>IT131-T03</td>\n      <td>http://adlnet.gov/expapi/activities/assessment</td>\n      <td>LAMS &gt; test</td>\n      <td>0.375</td>\n      <td>True</td>\n      <td>True</td>\n    </tr>\n    <tr>\n      <th>306734</th>\n      <td>BMU</td>\n      <td>IT131</td>\n      <td>98607</td>\n      <td>2023-02-27T22:45:33Z</td>\n      <td>completed</td>\n      <td>Lekcija 2 - Osnove umrežavanja - Tradicionalna...</td>\n      <td>http://id.tincanapi.com/activitytype/lms/module</td>\n      <td>LAMS &gt; 217371</td>\n      <td>NaN</td>\n      <td>False</td>\n      <td>False</td>\n    </tr>\n    <tr>\n      <th>306739</th>\n      <td>BMU</td>\n      <td>IT131</td>\n      <td>00c5e</td>\n      <td>2023-06-01T21:23:16Z</td>\n      <td>answered</td>\n      <td>IT131-T04-Pitanje 20</td>\n      <td>http://adlnet.gov/expapi/activities/cmi.intera...</td>\n      <td>LAMS &gt; test &gt; Pitanje 20 &gt; Attempt</td>\n      <td>0.000</td>\n      <td>False</td>\n      <td>True</td>\n    </tr>\n  </tbody>\n</table>\n<p>299291 rows × 11 columns</p>\n</div>"
     },
     "execution_count": 16,
     "metadata": {},
     "output_type": "execute_result"
    }
   ],
   "source": [
    "df"
   ],
   "metadata": {
    "collapsed": false,
    "ExecuteTime": {
     "end_time": "2023-11-05T17:33:56.939441600Z",
     "start_time": "2023-11-05T17:33:56.875192100Z"
    }
   },
   "id": "e2159ef2015daee7"
  },
  {
   "cell_type": "markdown",
   "source": [
    "## Course"
   ],
   "metadata": {
    "collapsed": false
   },
   "id": "8160b58fb904871"
  },
  {
   "cell_type": "code",
   "execution_count": 17,
   "outputs": [
    {
     "data": {
      "text/plain": "                                                   Course Institution\n0                  Advanced Data Management Systems (THJ)         UEF\n18463             Ihminen ja vuorovaikutteinen teknologia         UEF\n153572  Проектиране на човеко-машинен интерфейс, летен...          SU\n169434      Електронно обучение, летен семестър 2022/2023          SU\n196531                       ARQUITECTURA DE COMPUTADORES          UL\n271398                                   APLICACIONES WEB          UL\n292147                                              CS120         BMU\n300976                                              IT131         BMU",
      "text/html": "<div>\n<style scoped>\n    .dataframe tbody tr th:only-of-type {\n        vertical-align: middle;\n    }\n\n    .dataframe tbody tr th {\n        vertical-align: top;\n    }\n\n    .dataframe thead th {\n        text-align: right;\n    }\n</style>\n<table border=\"1\" class=\"dataframe\">\n  <thead>\n    <tr style=\"text-align: right;\">\n      <th></th>\n      <th>Course</th>\n      <th>Institution</th>\n    </tr>\n  </thead>\n  <tbody>\n    <tr>\n      <th>0</th>\n      <td>Advanced Data Management Systems (THJ)</td>\n      <td>UEF</td>\n    </tr>\n    <tr>\n      <th>18463</th>\n      <td>Ihminen ja vuorovaikutteinen teknologia</td>\n      <td>UEF</td>\n    </tr>\n    <tr>\n      <th>153572</th>\n      <td>Проектиране на човеко-машинен интерфейс, летен...</td>\n      <td>SU</td>\n    </tr>\n    <tr>\n      <th>169434</th>\n      <td>Електронно обучение, летен семестър 2022/2023</td>\n      <td>SU</td>\n    </tr>\n    <tr>\n      <th>196531</th>\n      <td>ARQUITECTURA DE COMPUTADORES</td>\n      <td>UL</td>\n    </tr>\n    <tr>\n      <th>271398</th>\n      <td>APLICACIONES WEB</td>\n      <td>UL</td>\n    </tr>\n    <tr>\n      <th>292147</th>\n      <td>CS120</td>\n      <td>BMU</td>\n    </tr>\n    <tr>\n      <th>300976</th>\n      <td>IT131</td>\n      <td>BMU</td>\n    </tr>\n  </tbody>\n</table>\n</div>"
     },
     "execution_count": 17,
     "metadata": {},
     "output_type": "execute_result"
    }
   ],
   "source": [
    "df[['Course', 'Institution']].drop_duplicates()"
   ],
   "metadata": {
    "collapsed": false,
    "ExecuteTime": {
     "end_time": "2023-11-05T17:33:57.171631900Z",
     "start_time": "2023-11-05T17:33:56.907753900Z"
    }
   },
   "id": "4494ca6c31742c8a"
  },
  {
   "cell_type": "code",
   "execution_count": 18,
   "outputs": [
    {
     "data": {
      "text/plain": "Course\nIhminen ja vuorovaikutteinen teknologia                              134855\nARQUITECTURA DE COMPUTADORES                                          74112\nЕлектронно обучение, летен семестър 2022/2023                         26545\nAPLICACIONES WEB                                                      20699\nAdvanced Data Management Systems (THJ)                                18435\nПроектиране на човеко-машинен интерфейс, летен семестър 2022/2023     15774\nCS120                                                                  5263\nIT131                                                                  3608\nName: count, dtype: int64"
     },
     "execution_count": 18,
     "metadata": {},
     "output_type": "execute_result"
    }
   ],
   "source": [
    "df['Course'].value_counts()"
   ],
   "metadata": {
    "collapsed": false,
    "ExecuteTime": {
     "end_time": "2023-11-05T17:33:57.210603500Z",
     "start_time": "2023-11-05T17:33:57.000866700Z"
    }
   },
   "id": "e9e7ae68ed3b8a79"
  },
  {
   "cell_type": "code",
   "execution_count": 19,
   "outputs": [],
   "source": [
    "courses_dict = {\n",
    "    'Ihminen ja vuorovaikutteinen teknologia': 'Human Factors of Interactive Technology',\n",
    "    'Advanced Data Management Systems (THJ)': 'Advanced Data Management Systems',\n",
    "    'Проектиране на човеко-машинен интерфейс, летен семестър 2022/2023': 'Human-computer interaction',\n",
    "    'Електронно обучение, летен семестър 2022/2023': 'e-Learning',\n",
    "    'ARQUITECTURA DE COMPUTADORES': 'Computer Architecture',\n",
    "    'APLICACIONES WEB': 'Web Applications',\n",
    "    'CS120': 'Computer Organization',\n",
    "    'IT131': 'Computer Networks'\n",
    "}"
   ],
   "metadata": {
    "collapsed": false,
    "ExecuteTime": {
     "end_time": "2023-11-05T17:33:57.269138200Z",
     "start_time": "2023-11-05T17:33:57.035487Z"
    }
   },
   "id": "9dca6af6cb7281df"
  },
  {
   "cell_type": "markdown",
   "source": [
    "Note: BMU course name reference [here](https://www.metropolitan.ac.rs/files/2022/10/oas-informacione-tehnologije-2022.pdf)"
   ],
   "metadata": {
    "collapsed": false
   },
   "id": "5f7b20b602267c3d"
  },
  {
   "cell_type": "code",
   "execution_count": 20,
   "outputs": [],
   "source": [
    "df.replace({'Course': courses_dict}, inplace=True)"
   ],
   "metadata": {
    "collapsed": false,
    "ExecuteTime": {
     "end_time": "2023-11-05T17:33:57.341088900Z",
     "start_time": "2023-11-05T17:33:57.043383100Z"
    }
   },
   "id": "15d9dc194e0061b8"
  },
  {
   "cell_type": "code",
   "execution_count": 21,
   "outputs": [
    {
     "data": {
      "text/plain": "       Institution                            Course actor.id  \\\n0              UEF  Advanced Data Management Systems    aeb0c   \n1              UEF  Advanced Data Management Systems    aeb0c   \n2              UEF  Advanced Data Management Systems    aeb0c   \n3              UEF  Advanced Data Management Systems    aeb0c   \n4              UEF  Advanced Data Management Systems    aeb0c   \n...            ...                               ...      ...   \n306723         BMU                 Computer Networks    87441   \n306724         BMU                 Computer Networks    1c33c   \n306730         BMU                 Computer Networks    98607   \n306734         BMU                 Computer Networks    98607   \n306739         BMU                 Computer Networks    00c5e   \n\n                   timestamp    verb.id  \\\n0       2023-07-07T18:55:47Z     viewed   \n1       2023-07-07T15:21:18Z     viewed   \n2       2023-07-07T15:08:13Z     viewed   \n3       2023-07-07T15:08:10Z     viewed   \n4       2023-07-07T09:03:32Z     viewed   \n...                      ...        ...   \n306723  2023-06-11T22:57:27Z   answered   \n306724  2023-05-16T00:05:45Z   answered   \n306730  2023-05-12T22:10:50Z  completed   \n306734  2023-02-27T22:45:33Z  completed   \n306739  2023-06-01T21:23:16Z   answered   \n\n                                   object.definition.name  \\\n0                  Advanced Data Management Systems (THJ)   \n1                       Assignment Instructions: ER & EER   \n2                                Recording: Intro lecture   \n3                  Advanced Data Management Systems (THJ)   \n4                  Advanced Data Management Systems (THJ)   \n...                                                   ...   \n306723                               IT131-T05-Pitanje 13   \n306724                               IT131-T03-Pitanje 15   \n306730                                          IT131-T03   \n306734  Lekcija 2 - Osnove umrežavanja - Tradicionalna...   \n306739                               IT131-T04-Pitanje 20   \n\n                                   object.definition.type  \\\n0         http://id.tincanapi.com/activitytype/lms/course   \n1                http://adlnet.gov/expapi/activities/link   \n2                http://adlnet.gov/expapi/activities/link   \n3         http://id.tincanapi.com/activitytype/lms/course   \n4         http://id.tincanapi.com/activitytype/lms/course   \n...                                                   ...   \n306723  http://adlnet.gov/expapi/activities/cmi.intera...   \n306724  http://adlnet.gov/expapi/activities/cmi.intera...   \n306730     http://adlnet.gov/expapi/activities/assessment   \n306734    http://id.tincanapi.com/activitytype/lms/module   \n306739  http://adlnet.gov/expapi/activities/cmi.intera...   \n\n                                                  context  \\\n0                                              UEF Moodle   \n1       UEF Moodle > Advanced Data Management Systems ...   \n2       UEF Moodle > Advanced Data Management Systems ...   \n3                                              UEF Moodle   \n4                                              UEF Moodle   \n...                                                   ...   \n306723                 LAMS > test > Pitanje 13 > Attempt   \n306724                 LAMS > test > Pitanje 15 > Attempt   \n306730                                        LAMS > test   \n306734                                      LAMS > 217371   \n306739                 LAMS > test > Pitanje 20 > Attempt   \n\n        result.score.scaled  result.success  result.completion  \n0                       NaN           False              False  \n1                       NaN           False              False  \n2                       NaN           False              False  \n3                       NaN           False              False  \n4                       NaN           False              False  \n...                     ...             ...                ...  \n306723                1.000            True               True  \n306724                0.000           False               True  \n306730                0.375            True               True  \n306734                  NaN           False              False  \n306739                0.000           False               True  \n\n[299291 rows x 11 columns]",
      "text/html": "<div>\n<style scoped>\n    .dataframe tbody tr th:only-of-type {\n        vertical-align: middle;\n    }\n\n    .dataframe tbody tr th {\n        vertical-align: top;\n    }\n\n    .dataframe thead th {\n        text-align: right;\n    }\n</style>\n<table border=\"1\" class=\"dataframe\">\n  <thead>\n    <tr style=\"text-align: right;\">\n      <th></th>\n      <th>Institution</th>\n      <th>Course</th>\n      <th>actor.id</th>\n      <th>timestamp</th>\n      <th>verb.id</th>\n      <th>object.definition.name</th>\n      <th>object.definition.type</th>\n      <th>context</th>\n      <th>result.score.scaled</th>\n      <th>result.success</th>\n      <th>result.completion</th>\n    </tr>\n  </thead>\n  <tbody>\n    <tr>\n      <th>0</th>\n      <td>UEF</td>\n      <td>Advanced Data Management Systems</td>\n      <td>aeb0c</td>\n      <td>2023-07-07T18:55:47Z</td>\n      <td>viewed</td>\n      <td>Advanced Data Management Systems (THJ)</td>\n      <td>http://id.tincanapi.com/activitytype/lms/course</td>\n      <td>UEF Moodle</td>\n      <td>NaN</td>\n      <td>False</td>\n      <td>False</td>\n    </tr>\n    <tr>\n      <th>1</th>\n      <td>UEF</td>\n      <td>Advanced Data Management Systems</td>\n      <td>aeb0c</td>\n      <td>2023-07-07T15:21:18Z</td>\n      <td>viewed</td>\n      <td>Assignment Instructions: ER &amp; EER</td>\n      <td>http://adlnet.gov/expapi/activities/link</td>\n      <td>UEF Moodle &gt; Advanced Data Management Systems ...</td>\n      <td>NaN</td>\n      <td>False</td>\n      <td>False</td>\n    </tr>\n    <tr>\n      <th>2</th>\n      <td>UEF</td>\n      <td>Advanced Data Management Systems</td>\n      <td>aeb0c</td>\n      <td>2023-07-07T15:08:13Z</td>\n      <td>viewed</td>\n      <td>Recording: Intro lecture</td>\n      <td>http://adlnet.gov/expapi/activities/link</td>\n      <td>UEF Moodle &gt; Advanced Data Management Systems ...</td>\n      <td>NaN</td>\n      <td>False</td>\n      <td>False</td>\n    </tr>\n    <tr>\n      <th>3</th>\n      <td>UEF</td>\n      <td>Advanced Data Management Systems</td>\n      <td>aeb0c</td>\n      <td>2023-07-07T15:08:10Z</td>\n      <td>viewed</td>\n      <td>Advanced Data Management Systems (THJ)</td>\n      <td>http://id.tincanapi.com/activitytype/lms/course</td>\n      <td>UEF Moodle</td>\n      <td>NaN</td>\n      <td>False</td>\n      <td>False</td>\n    </tr>\n    <tr>\n      <th>4</th>\n      <td>UEF</td>\n      <td>Advanced Data Management Systems</td>\n      <td>aeb0c</td>\n      <td>2023-07-07T09:03:32Z</td>\n      <td>viewed</td>\n      <td>Advanced Data Management Systems (THJ)</td>\n      <td>http://id.tincanapi.com/activitytype/lms/course</td>\n      <td>UEF Moodle</td>\n      <td>NaN</td>\n      <td>False</td>\n      <td>False</td>\n    </tr>\n    <tr>\n      <th>...</th>\n      <td>...</td>\n      <td>...</td>\n      <td>...</td>\n      <td>...</td>\n      <td>...</td>\n      <td>...</td>\n      <td>...</td>\n      <td>...</td>\n      <td>...</td>\n      <td>...</td>\n      <td>...</td>\n    </tr>\n    <tr>\n      <th>306723</th>\n      <td>BMU</td>\n      <td>Computer Networks</td>\n      <td>87441</td>\n      <td>2023-06-11T22:57:27Z</td>\n      <td>answered</td>\n      <td>IT131-T05-Pitanje 13</td>\n      <td>http://adlnet.gov/expapi/activities/cmi.intera...</td>\n      <td>LAMS &gt; test &gt; Pitanje 13 &gt; Attempt</td>\n      <td>1.000</td>\n      <td>True</td>\n      <td>True</td>\n    </tr>\n    <tr>\n      <th>306724</th>\n      <td>BMU</td>\n      <td>Computer Networks</td>\n      <td>1c33c</td>\n      <td>2023-05-16T00:05:45Z</td>\n      <td>answered</td>\n      <td>IT131-T03-Pitanje 15</td>\n      <td>http://adlnet.gov/expapi/activities/cmi.intera...</td>\n      <td>LAMS &gt; test &gt; Pitanje 15 &gt; Attempt</td>\n      <td>0.000</td>\n      <td>False</td>\n      <td>True</td>\n    </tr>\n    <tr>\n      <th>306730</th>\n      <td>BMU</td>\n      <td>Computer Networks</td>\n      <td>98607</td>\n      <td>2023-05-12T22:10:50Z</td>\n      <td>completed</td>\n      <td>IT131-T03</td>\n      <td>http://adlnet.gov/expapi/activities/assessment</td>\n      <td>LAMS &gt; test</td>\n      <td>0.375</td>\n      <td>True</td>\n      <td>True</td>\n    </tr>\n    <tr>\n      <th>306734</th>\n      <td>BMU</td>\n      <td>Computer Networks</td>\n      <td>98607</td>\n      <td>2023-02-27T22:45:33Z</td>\n      <td>completed</td>\n      <td>Lekcija 2 - Osnove umrežavanja - Tradicionalna...</td>\n      <td>http://id.tincanapi.com/activitytype/lms/module</td>\n      <td>LAMS &gt; 217371</td>\n      <td>NaN</td>\n      <td>False</td>\n      <td>False</td>\n    </tr>\n    <tr>\n      <th>306739</th>\n      <td>BMU</td>\n      <td>Computer Networks</td>\n      <td>00c5e</td>\n      <td>2023-06-01T21:23:16Z</td>\n      <td>answered</td>\n      <td>IT131-T04-Pitanje 20</td>\n      <td>http://adlnet.gov/expapi/activities/cmi.intera...</td>\n      <td>LAMS &gt; test &gt; Pitanje 20 &gt; Attempt</td>\n      <td>0.000</td>\n      <td>False</td>\n      <td>True</td>\n    </tr>\n  </tbody>\n</table>\n<p>299291 rows × 11 columns</p>\n</div>"
     },
     "execution_count": 21,
     "metadata": {},
     "output_type": "execute_result"
    }
   ],
   "source": [
    "df"
   ],
   "metadata": {
    "collapsed": false,
    "ExecuteTime": {
     "end_time": "2023-11-05T17:33:57.345083900Z",
     "start_time": "2023-11-05T17:33:57.178633700Z"
    }
   },
   "id": "ae02f319035a9be4"
  },
  {
   "cell_type": "markdown",
   "source": [
    "## Add teaching type column\n",
    "\n",
    "Specify \"Project-based\" / \"Flipped classroom\" teaching style"
   ],
   "metadata": {
    "collapsed": false
   },
   "id": "5d7391eb3210681b"
  },
  {
   "cell_type": "code",
   "execution_count": 22,
   "outputs": [],
   "source": [
    "def get_teaching_type(course_name):\n",
    "    if course_name in ['Computer Networks',\n",
    "                       'Advanced Data Management Systems',\n",
    "                        'e-Learning',\n",
    "                        'Computer Architecture']:\n",
    "        return 'Flipped classroom'\n",
    "    else:\n",
    "        return 'Project-based'"
   ],
   "metadata": {
    "collapsed": false,
    "ExecuteTime": {
     "end_time": "2023-11-05T17:33:57.408731600Z",
     "start_time": "2023-11-05T17:33:57.204747300Z"
    }
   },
   "id": "ed9624e013f1d8be"
  },
  {
   "cell_type": "code",
   "execution_count": 23,
   "outputs": [],
   "source": [
    "df['Teaching'] = df['Course'].apply(get_teaching_type)"
   ],
   "metadata": {
    "collapsed": false,
    "ExecuteTime": {
     "end_time": "2023-11-05T17:33:57.450351Z",
     "start_time": "2023-11-05T17:33:57.210603500Z"
    }
   },
   "id": "5b2424cf1bb48d70"
  },
  {
   "cell_type": "code",
   "execution_count": 24,
   "outputs": [
    {
     "data": {
      "text/plain": "       Institution                            Course actor.id  \\\n0              UEF  Advanced Data Management Systems    aeb0c   \n1              UEF  Advanced Data Management Systems    aeb0c   \n2              UEF  Advanced Data Management Systems    aeb0c   \n3              UEF  Advanced Data Management Systems    aeb0c   \n4              UEF  Advanced Data Management Systems    aeb0c   \n...            ...                               ...      ...   \n306723         BMU                 Computer Networks    87441   \n306724         BMU                 Computer Networks    1c33c   \n306730         BMU                 Computer Networks    98607   \n306734         BMU                 Computer Networks    98607   \n306739         BMU                 Computer Networks    00c5e   \n\n                   timestamp    verb.id  \\\n0       2023-07-07T18:55:47Z     viewed   \n1       2023-07-07T15:21:18Z     viewed   \n2       2023-07-07T15:08:13Z     viewed   \n3       2023-07-07T15:08:10Z     viewed   \n4       2023-07-07T09:03:32Z     viewed   \n...                      ...        ...   \n306723  2023-06-11T22:57:27Z   answered   \n306724  2023-05-16T00:05:45Z   answered   \n306730  2023-05-12T22:10:50Z  completed   \n306734  2023-02-27T22:45:33Z  completed   \n306739  2023-06-01T21:23:16Z   answered   \n\n                                   object.definition.name  \\\n0                  Advanced Data Management Systems (THJ)   \n1                       Assignment Instructions: ER & EER   \n2                                Recording: Intro lecture   \n3                  Advanced Data Management Systems (THJ)   \n4                  Advanced Data Management Systems (THJ)   \n...                                                   ...   \n306723                               IT131-T05-Pitanje 13   \n306724                               IT131-T03-Pitanje 15   \n306730                                          IT131-T03   \n306734  Lekcija 2 - Osnove umrežavanja - Tradicionalna...   \n306739                               IT131-T04-Pitanje 20   \n\n                                   object.definition.type  \\\n0         http://id.tincanapi.com/activitytype/lms/course   \n1                http://adlnet.gov/expapi/activities/link   \n2                http://adlnet.gov/expapi/activities/link   \n3         http://id.tincanapi.com/activitytype/lms/course   \n4         http://id.tincanapi.com/activitytype/lms/course   \n...                                                   ...   \n306723  http://adlnet.gov/expapi/activities/cmi.intera...   \n306724  http://adlnet.gov/expapi/activities/cmi.intera...   \n306730     http://adlnet.gov/expapi/activities/assessment   \n306734    http://id.tincanapi.com/activitytype/lms/module   \n306739  http://adlnet.gov/expapi/activities/cmi.intera...   \n\n                                                  context  \\\n0                                              UEF Moodle   \n1       UEF Moodle > Advanced Data Management Systems ...   \n2       UEF Moodle > Advanced Data Management Systems ...   \n3                                              UEF Moodle   \n4                                              UEF Moodle   \n...                                                   ...   \n306723                 LAMS > test > Pitanje 13 > Attempt   \n306724                 LAMS > test > Pitanje 15 > Attempt   \n306730                                        LAMS > test   \n306734                                      LAMS > 217371   \n306739                 LAMS > test > Pitanje 20 > Attempt   \n\n        result.score.scaled  result.success  result.completion  \\\n0                       NaN           False              False   \n1                       NaN           False              False   \n2                       NaN           False              False   \n3                       NaN           False              False   \n4                       NaN           False              False   \n...                     ...             ...                ...   \n306723                1.000            True               True   \n306724                0.000           False               True   \n306730                0.375            True               True   \n306734                  NaN           False              False   \n306739                0.000           False               True   \n\n                 Teaching  \n0       Flipped classroom  \n1       Flipped classroom  \n2       Flipped classroom  \n3       Flipped classroom  \n4       Flipped classroom  \n...                   ...  \n306723  Flipped classroom  \n306724  Flipped classroom  \n306730  Flipped classroom  \n306734  Flipped classroom  \n306739  Flipped classroom  \n\n[299291 rows x 12 columns]",
      "text/html": "<div>\n<style scoped>\n    .dataframe tbody tr th:only-of-type {\n        vertical-align: middle;\n    }\n\n    .dataframe tbody tr th {\n        vertical-align: top;\n    }\n\n    .dataframe thead th {\n        text-align: right;\n    }\n</style>\n<table border=\"1\" class=\"dataframe\">\n  <thead>\n    <tr style=\"text-align: right;\">\n      <th></th>\n      <th>Institution</th>\n      <th>Course</th>\n      <th>actor.id</th>\n      <th>timestamp</th>\n      <th>verb.id</th>\n      <th>object.definition.name</th>\n      <th>object.definition.type</th>\n      <th>context</th>\n      <th>result.score.scaled</th>\n      <th>result.success</th>\n      <th>result.completion</th>\n      <th>Teaching</th>\n    </tr>\n  </thead>\n  <tbody>\n    <tr>\n      <th>0</th>\n      <td>UEF</td>\n      <td>Advanced Data Management Systems</td>\n      <td>aeb0c</td>\n      <td>2023-07-07T18:55:47Z</td>\n      <td>viewed</td>\n      <td>Advanced Data Management Systems (THJ)</td>\n      <td>http://id.tincanapi.com/activitytype/lms/course</td>\n      <td>UEF Moodle</td>\n      <td>NaN</td>\n      <td>False</td>\n      <td>False</td>\n      <td>Flipped classroom</td>\n    </tr>\n    <tr>\n      <th>1</th>\n      <td>UEF</td>\n      <td>Advanced Data Management Systems</td>\n      <td>aeb0c</td>\n      <td>2023-07-07T15:21:18Z</td>\n      <td>viewed</td>\n      <td>Assignment Instructions: ER &amp; EER</td>\n      <td>http://adlnet.gov/expapi/activities/link</td>\n      <td>UEF Moodle &gt; Advanced Data Management Systems ...</td>\n      <td>NaN</td>\n      <td>False</td>\n      <td>False</td>\n      <td>Flipped classroom</td>\n    </tr>\n    <tr>\n      <th>2</th>\n      <td>UEF</td>\n      <td>Advanced Data Management Systems</td>\n      <td>aeb0c</td>\n      <td>2023-07-07T15:08:13Z</td>\n      <td>viewed</td>\n      <td>Recording: Intro lecture</td>\n      <td>http://adlnet.gov/expapi/activities/link</td>\n      <td>UEF Moodle &gt; Advanced Data Management Systems ...</td>\n      <td>NaN</td>\n      <td>False</td>\n      <td>False</td>\n      <td>Flipped classroom</td>\n    </tr>\n    <tr>\n      <th>3</th>\n      <td>UEF</td>\n      <td>Advanced Data Management Systems</td>\n      <td>aeb0c</td>\n      <td>2023-07-07T15:08:10Z</td>\n      <td>viewed</td>\n      <td>Advanced Data Management Systems (THJ)</td>\n      <td>http://id.tincanapi.com/activitytype/lms/course</td>\n      <td>UEF Moodle</td>\n      <td>NaN</td>\n      <td>False</td>\n      <td>False</td>\n      <td>Flipped classroom</td>\n    </tr>\n    <tr>\n      <th>4</th>\n      <td>UEF</td>\n      <td>Advanced Data Management Systems</td>\n      <td>aeb0c</td>\n      <td>2023-07-07T09:03:32Z</td>\n      <td>viewed</td>\n      <td>Advanced Data Management Systems (THJ)</td>\n      <td>http://id.tincanapi.com/activitytype/lms/course</td>\n      <td>UEF Moodle</td>\n      <td>NaN</td>\n      <td>False</td>\n      <td>False</td>\n      <td>Flipped classroom</td>\n    </tr>\n    <tr>\n      <th>...</th>\n      <td>...</td>\n      <td>...</td>\n      <td>...</td>\n      <td>...</td>\n      <td>...</td>\n      <td>...</td>\n      <td>...</td>\n      <td>...</td>\n      <td>...</td>\n      <td>...</td>\n      <td>...</td>\n      <td>...</td>\n    </tr>\n    <tr>\n      <th>306723</th>\n      <td>BMU</td>\n      <td>Computer Networks</td>\n      <td>87441</td>\n      <td>2023-06-11T22:57:27Z</td>\n      <td>answered</td>\n      <td>IT131-T05-Pitanje 13</td>\n      <td>http://adlnet.gov/expapi/activities/cmi.intera...</td>\n      <td>LAMS &gt; test &gt; Pitanje 13 &gt; Attempt</td>\n      <td>1.000</td>\n      <td>True</td>\n      <td>True</td>\n      <td>Flipped classroom</td>\n    </tr>\n    <tr>\n      <th>306724</th>\n      <td>BMU</td>\n      <td>Computer Networks</td>\n      <td>1c33c</td>\n      <td>2023-05-16T00:05:45Z</td>\n      <td>answered</td>\n      <td>IT131-T03-Pitanje 15</td>\n      <td>http://adlnet.gov/expapi/activities/cmi.intera...</td>\n      <td>LAMS &gt; test &gt; Pitanje 15 &gt; Attempt</td>\n      <td>0.000</td>\n      <td>False</td>\n      <td>True</td>\n      <td>Flipped classroom</td>\n    </tr>\n    <tr>\n      <th>306730</th>\n      <td>BMU</td>\n      <td>Computer Networks</td>\n      <td>98607</td>\n      <td>2023-05-12T22:10:50Z</td>\n      <td>completed</td>\n      <td>IT131-T03</td>\n      <td>http://adlnet.gov/expapi/activities/assessment</td>\n      <td>LAMS &gt; test</td>\n      <td>0.375</td>\n      <td>True</td>\n      <td>True</td>\n      <td>Flipped classroom</td>\n    </tr>\n    <tr>\n      <th>306734</th>\n      <td>BMU</td>\n      <td>Computer Networks</td>\n      <td>98607</td>\n      <td>2023-02-27T22:45:33Z</td>\n      <td>completed</td>\n      <td>Lekcija 2 - Osnove umrežavanja - Tradicionalna...</td>\n      <td>http://id.tincanapi.com/activitytype/lms/module</td>\n      <td>LAMS &gt; 217371</td>\n      <td>NaN</td>\n      <td>False</td>\n      <td>False</td>\n      <td>Flipped classroom</td>\n    </tr>\n    <tr>\n      <th>306739</th>\n      <td>BMU</td>\n      <td>Computer Networks</td>\n      <td>00c5e</td>\n      <td>2023-06-01T21:23:16Z</td>\n      <td>answered</td>\n      <td>IT131-T04-Pitanje 20</td>\n      <td>http://adlnet.gov/expapi/activities/cmi.intera...</td>\n      <td>LAMS &gt; test &gt; Pitanje 20 &gt; Attempt</td>\n      <td>0.000</td>\n      <td>False</td>\n      <td>True</td>\n      <td>Flipped classroom</td>\n    </tr>\n  </tbody>\n</table>\n<p>299291 rows × 12 columns</p>\n</div>"
     },
     "execution_count": 24,
     "metadata": {},
     "output_type": "execute_result"
    }
   ],
   "source": [
    "df"
   ],
   "metadata": {
    "collapsed": false,
    "ExecuteTime": {
     "end_time": "2023-11-05T17:33:57.554122400Z",
     "start_time": "2023-11-05T17:33:57.304908900Z"
    }
   },
   "id": "5e1f7af2f4649914"
  },
  {
   "cell_type": "code",
   "execution_count": 25,
   "outputs": [
    {
     "data": {
      "text/plain": "Teaching\nProject-based        176591\nFlipped classroom    122700\nName: count, dtype: int64"
     },
     "execution_count": 25,
     "metadata": {},
     "output_type": "execute_result"
    }
   ],
   "source": [
    "df['Teaching'].value_counts()"
   ],
   "metadata": {
    "collapsed": false,
    "ExecuteTime": {
     "end_time": "2023-11-05T17:33:57.558957Z",
     "start_time": "2023-11-05T17:33:57.353732300Z"
    }
   },
   "id": "80231bfaf1a05a5a"
  },
  {
   "cell_type": "markdown",
   "source": [
    "## Object"
   ],
   "metadata": {
    "collapsed": false
   },
   "id": "4fdfb401bf91b9e6"
  },
  {
   "cell_type": "code",
   "execution_count": 26,
   "outputs": [],
   "source": [
    "df['object.definition.type'] = df['object.definition.type'].str.split('/').str[-1]"
   ],
   "metadata": {
    "collapsed": false,
    "ExecuteTime": {
     "end_time": "2023-11-05T17:33:58.562740Z",
     "start_time": "2023-11-05T17:33:57.365542900Z"
    }
   },
   "id": "e8b63f40244ed9f6"
  },
  {
   "cell_type": "code",
   "execution_count": 27,
   "outputs": [
    {
     "data": {
      "text/plain": "       Institution                            Course actor.id  \\\n0              UEF  Advanced Data Management Systems    aeb0c   \n1              UEF  Advanced Data Management Systems    aeb0c   \n2              UEF  Advanced Data Management Systems    aeb0c   \n3              UEF  Advanced Data Management Systems    aeb0c   \n4              UEF  Advanced Data Management Systems    aeb0c   \n...            ...                               ...      ...   \n306723         BMU                 Computer Networks    87441   \n306724         BMU                 Computer Networks    1c33c   \n306730         BMU                 Computer Networks    98607   \n306734         BMU                 Computer Networks    98607   \n306739         BMU                 Computer Networks    00c5e   \n\n                   timestamp    verb.id  \\\n0       2023-07-07T18:55:47Z     viewed   \n1       2023-07-07T15:21:18Z     viewed   \n2       2023-07-07T15:08:13Z     viewed   \n3       2023-07-07T15:08:10Z     viewed   \n4       2023-07-07T09:03:32Z     viewed   \n...                      ...        ...   \n306723  2023-06-11T22:57:27Z   answered   \n306724  2023-05-16T00:05:45Z   answered   \n306730  2023-05-12T22:10:50Z  completed   \n306734  2023-02-27T22:45:33Z  completed   \n306739  2023-06-01T21:23:16Z   answered   \n\n                                   object.definition.name  \\\n0                  Advanced Data Management Systems (THJ)   \n1                       Assignment Instructions: ER & EER   \n2                                Recording: Intro lecture   \n3                  Advanced Data Management Systems (THJ)   \n4                  Advanced Data Management Systems (THJ)   \n...                                                   ...   \n306723                               IT131-T05-Pitanje 13   \n306724                               IT131-T03-Pitanje 15   \n306730                                          IT131-T03   \n306734  Lekcija 2 - Osnove umrežavanja - Tradicionalna...   \n306739                               IT131-T04-Pitanje 20   \n\n       object.definition.type  \\\n0                      course   \n1                        link   \n2                        link   \n3                      course   \n4                      course   \n...                       ...   \n306723        cmi.interaction   \n306724        cmi.interaction   \n306730             assessment   \n306734                 module   \n306739        cmi.interaction   \n\n                                                  context  \\\n0                                              UEF Moodle   \n1       UEF Moodle > Advanced Data Management Systems ...   \n2       UEF Moodle > Advanced Data Management Systems ...   \n3                                              UEF Moodle   \n4                                              UEF Moodle   \n...                                                   ...   \n306723                 LAMS > test > Pitanje 13 > Attempt   \n306724                 LAMS > test > Pitanje 15 > Attempt   \n306730                                        LAMS > test   \n306734                                      LAMS > 217371   \n306739                 LAMS > test > Pitanje 20 > Attempt   \n\n        result.score.scaled  result.success  result.completion  \\\n0                       NaN           False              False   \n1                       NaN           False              False   \n2                       NaN           False              False   \n3                       NaN           False              False   \n4                       NaN           False              False   \n...                     ...             ...                ...   \n306723                1.000            True               True   \n306724                0.000           False               True   \n306730                0.375            True               True   \n306734                  NaN           False              False   \n306739                0.000           False               True   \n\n                 Teaching  \n0       Flipped classroom  \n1       Flipped classroom  \n2       Flipped classroom  \n3       Flipped classroom  \n4       Flipped classroom  \n...                   ...  \n306723  Flipped classroom  \n306724  Flipped classroom  \n306730  Flipped classroom  \n306734  Flipped classroom  \n306739  Flipped classroom  \n\n[299291 rows x 12 columns]",
      "text/html": "<div>\n<style scoped>\n    .dataframe tbody tr th:only-of-type {\n        vertical-align: middle;\n    }\n\n    .dataframe tbody tr th {\n        vertical-align: top;\n    }\n\n    .dataframe thead th {\n        text-align: right;\n    }\n</style>\n<table border=\"1\" class=\"dataframe\">\n  <thead>\n    <tr style=\"text-align: right;\">\n      <th></th>\n      <th>Institution</th>\n      <th>Course</th>\n      <th>actor.id</th>\n      <th>timestamp</th>\n      <th>verb.id</th>\n      <th>object.definition.name</th>\n      <th>object.definition.type</th>\n      <th>context</th>\n      <th>result.score.scaled</th>\n      <th>result.success</th>\n      <th>result.completion</th>\n      <th>Teaching</th>\n    </tr>\n  </thead>\n  <tbody>\n    <tr>\n      <th>0</th>\n      <td>UEF</td>\n      <td>Advanced Data Management Systems</td>\n      <td>aeb0c</td>\n      <td>2023-07-07T18:55:47Z</td>\n      <td>viewed</td>\n      <td>Advanced Data Management Systems (THJ)</td>\n      <td>course</td>\n      <td>UEF Moodle</td>\n      <td>NaN</td>\n      <td>False</td>\n      <td>False</td>\n      <td>Flipped classroom</td>\n    </tr>\n    <tr>\n      <th>1</th>\n      <td>UEF</td>\n      <td>Advanced Data Management Systems</td>\n      <td>aeb0c</td>\n      <td>2023-07-07T15:21:18Z</td>\n      <td>viewed</td>\n      <td>Assignment Instructions: ER &amp; EER</td>\n      <td>link</td>\n      <td>UEF Moodle &gt; Advanced Data Management Systems ...</td>\n      <td>NaN</td>\n      <td>False</td>\n      <td>False</td>\n      <td>Flipped classroom</td>\n    </tr>\n    <tr>\n      <th>2</th>\n      <td>UEF</td>\n      <td>Advanced Data Management Systems</td>\n      <td>aeb0c</td>\n      <td>2023-07-07T15:08:13Z</td>\n      <td>viewed</td>\n      <td>Recording: Intro lecture</td>\n      <td>link</td>\n      <td>UEF Moodle &gt; Advanced Data Management Systems ...</td>\n      <td>NaN</td>\n      <td>False</td>\n      <td>False</td>\n      <td>Flipped classroom</td>\n    </tr>\n    <tr>\n      <th>3</th>\n      <td>UEF</td>\n      <td>Advanced Data Management Systems</td>\n      <td>aeb0c</td>\n      <td>2023-07-07T15:08:10Z</td>\n      <td>viewed</td>\n      <td>Advanced Data Management Systems (THJ)</td>\n      <td>course</td>\n      <td>UEF Moodle</td>\n      <td>NaN</td>\n      <td>False</td>\n      <td>False</td>\n      <td>Flipped classroom</td>\n    </tr>\n    <tr>\n      <th>4</th>\n      <td>UEF</td>\n      <td>Advanced Data Management Systems</td>\n      <td>aeb0c</td>\n      <td>2023-07-07T09:03:32Z</td>\n      <td>viewed</td>\n      <td>Advanced Data Management Systems (THJ)</td>\n      <td>course</td>\n      <td>UEF Moodle</td>\n      <td>NaN</td>\n      <td>False</td>\n      <td>False</td>\n      <td>Flipped classroom</td>\n    </tr>\n    <tr>\n      <th>...</th>\n      <td>...</td>\n      <td>...</td>\n      <td>...</td>\n      <td>...</td>\n      <td>...</td>\n      <td>...</td>\n      <td>...</td>\n      <td>...</td>\n      <td>...</td>\n      <td>...</td>\n      <td>...</td>\n      <td>...</td>\n    </tr>\n    <tr>\n      <th>306723</th>\n      <td>BMU</td>\n      <td>Computer Networks</td>\n      <td>87441</td>\n      <td>2023-06-11T22:57:27Z</td>\n      <td>answered</td>\n      <td>IT131-T05-Pitanje 13</td>\n      <td>cmi.interaction</td>\n      <td>LAMS &gt; test &gt; Pitanje 13 &gt; Attempt</td>\n      <td>1.000</td>\n      <td>True</td>\n      <td>True</td>\n      <td>Flipped classroom</td>\n    </tr>\n    <tr>\n      <th>306724</th>\n      <td>BMU</td>\n      <td>Computer Networks</td>\n      <td>1c33c</td>\n      <td>2023-05-16T00:05:45Z</td>\n      <td>answered</td>\n      <td>IT131-T03-Pitanje 15</td>\n      <td>cmi.interaction</td>\n      <td>LAMS &gt; test &gt; Pitanje 15 &gt; Attempt</td>\n      <td>0.000</td>\n      <td>False</td>\n      <td>True</td>\n      <td>Flipped classroom</td>\n    </tr>\n    <tr>\n      <th>306730</th>\n      <td>BMU</td>\n      <td>Computer Networks</td>\n      <td>98607</td>\n      <td>2023-05-12T22:10:50Z</td>\n      <td>completed</td>\n      <td>IT131-T03</td>\n      <td>assessment</td>\n      <td>LAMS &gt; test</td>\n      <td>0.375</td>\n      <td>True</td>\n      <td>True</td>\n      <td>Flipped classroom</td>\n    </tr>\n    <tr>\n      <th>306734</th>\n      <td>BMU</td>\n      <td>Computer Networks</td>\n      <td>98607</td>\n      <td>2023-02-27T22:45:33Z</td>\n      <td>completed</td>\n      <td>Lekcija 2 - Osnove umrežavanja - Tradicionalna...</td>\n      <td>module</td>\n      <td>LAMS &gt; 217371</td>\n      <td>NaN</td>\n      <td>False</td>\n      <td>False</td>\n      <td>Flipped classroom</td>\n    </tr>\n    <tr>\n      <th>306739</th>\n      <td>BMU</td>\n      <td>Computer Networks</td>\n      <td>00c5e</td>\n      <td>2023-06-01T21:23:16Z</td>\n      <td>answered</td>\n      <td>IT131-T04-Pitanje 20</td>\n      <td>cmi.interaction</td>\n      <td>LAMS &gt; test &gt; Pitanje 20 &gt; Attempt</td>\n      <td>0.000</td>\n      <td>False</td>\n      <td>True</td>\n      <td>Flipped classroom</td>\n    </tr>\n  </tbody>\n</table>\n<p>299291 rows × 12 columns</p>\n</div>"
     },
     "execution_count": 27,
     "metadata": {},
     "output_type": "execute_result"
    }
   ],
   "source": [
    "df"
   ],
   "metadata": {
    "collapsed": false,
    "ExecuteTime": {
     "end_time": "2023-11-05T17:33:58.602099200Z",
     "start_time": "2023-11-05T17:33:58.562740Z"
    }
   },
   "id": "51ed5787752fdc23"
  },
  {
   "cell_type": "code",
   "execution_count": 28,
   "outputs": [
    {
     "data": {
      "text/plain": "count                                      299291\nunique                                       1549\ntop       Ihminen ja vuorovaikutteinen teknologia\nfreq                                        34133\nName: object.definition.name, dtype: object"
     },
     "execution_count": 28,
     "metadata": {},
     "output_type": "execute_result"
    }
   ],
   "source": [
    "df['object.definition.name'].describe()"
   ],
   "metadata": {
    "collapsed": false,
    "ExecuteTime": {
     "end_time": "2023-11-05T17:35:35.716567700Z",
     "start_time": "2023-11-05T17:35:35.694420900Z"
    }
   },
   "id": "b43bd3575eabc3b6"
  },
  {
   "cell_type": "code",
   "execution_count": 32,
   "outputs": [
    {
     "data": {
      "text/plain": "object.definition.name\nIhminen ja vuorovaikutteinen teknologia                              0.114046\nARQUITECTURA DE COMPUTADORES - Graduado en Ingeniería Informática    0.100688\nAttempt                                                              0.049280\nЕлектронно обучение, летен семестър 2022/2023                        0.036353\nПроектиране на човеко-машинен интерфейс, летен семестър 2022/2023    0.035253\nAPLICACIONES WEB - Graduado en Ingeniería Informática                0.034381\nEsimerkkejÃ¤ kÃ¤ytettÃ¤vyydestÃ¤ ja kÃ¤yttÃ¤jÃ¤kokemuksesta          0.029567\nRyhmÃ¤tyÃ¶alue                                                       0.029339\nAdvanced Data Management Systems (THJ)                               0.022363\nTehtÃ¤vÃ¤ 3                                                          0.021013\nTehtÃ¤vÃ¤ 13                                                         0.013261\nreview                                                               0.007758\nExercise 2.1. Pipelining                                             0.007314\nTehtÃ¤vÃ¤ 9                                                          0.007274\nLab assignment 4 quiz                                                0.007260\nTehtÃ¤vÃ¤ 8                                                          0.007200\nTehtÃ¤vÃ¤ 14                                                         0.006980\n3.1. Multilevel caching                                              0.006886\nTehtÃ¤vÃ¤ 4                                                          0.006876\nTehtÃ¤vÃ¤ 12                                                         0.006218\nName: proportion, dtype: float64"
     },
     "execution_count": 32,
     "metadata": {},
     "output_type": "execute_result"
    }
   ],
   "source": [
    "df['object.definition.name'].value_counts(normalize=True)[:20]"
   ],
   "metadata": {
    "collapsed": false,
    "ExecuteTime": {
     "end_time": "2023-11-05T17:37:38.368595Z",
     "start_time": "2023-11-05T17:37:38.326483Z"
    }
   },
   "id": "248b8f35a3430ee9"
  },
  {
   "cell_type": "markdown",
   "source": [
    "A lot of the data is just the course name. Let's explore 'Attempt'."
   ],
   "metadata": {
    "collapsed": false
   },
   "id": "d1d2d8129fa1c50d"
  },
  {
   "cell_type": "code",
   "execution_count": 35,
   "outputs": [
    {
     "data": {
      "text/plain": "    object.definition.name object.definition.type\n904                Attempt                attempt",
      "text/html": "<div>\n<style scoped>\n    .dataframe tbody tr th:only-of-type {\n        vertical-align: middle;\n    }\n\n    .dataframe tbody tr th {\n        vertical-align: top;\n    }\n\n    .dataframe thead th {\n        text-align: right;\n    }\n</style>\n<table border=\"1\" class=\"dataframe\">\n  <thead>\n    <tr style=\"text-align: right;\">\n      <th></th>\n      <th>object.definition.name</th>\n      <th>object.definition.type</th>\n    </tr>\n  </thead>\n  <tbody>\n    <tr>\n      <th>904</th>\n      <td>Attempt</td>\n      <td>attempt</td>\n    </tr>\n  </tbody>\n</table>\n</div>"
     },
     "execution_count": 35,
     "metadata": {},
     "output_type": "execute_result"
    }
   ],
   "source": [
    "df[df['object.definition.name'] == 'Attempt'][['object.definition.name', 'object.definition.type']].drop_duplicates()"
   ],
   "metadata": {
    "collapsed": false,
    "ExecuteTime": {
     "end_time": "2023-11-05T17:41:26.136954500Z",
     "start_time": "2023-11-05T17:41:26.097268800Z"
    }
   },
   "id": "14c27b242912259d"
  },
  {
   "cell_type": "markdown",
   "source": [
    "## Context"
   ],
   "metadata": {
    "collapsed": false
   },
   "id": "2e777e5589a6cd79"
  },
  {
   "cell_type": "code",
   "execution_count": 37,
   "outputs": [
    {
     "data": {
      "text/plain": "context\nUEF Moodle > Ihminen ja vuorovaikutteinen teknologia                                                                                                            0.153296\nUEF Moodle                                                                                                                                                      0.136409\nNew Site                                                                                                                                                        0.135069\nNew Site > ARQUITECTURA DE COMPUTADORES - Graduado en Ingeniería Informática                                                                                    0.091302\nILEDA Project                                                                                                                                                   0.071606\nUEF Moodle > Ihminen ja vuorovaikutteinen teknologia > RyhmÃ¤tyÃ¶alue                                                                                           0.069598\nILEDA Project > Електронно обучение, летен семестър 2022/2023                                                                                                   0.036610\nNew Site > APLICACIONES WEB - Graduado en Ingeniería Informática                                                                                                0.034391\nUEF Moodle > Advanced Data Management Systems (THJ)                                                                                                             0.023452\nUEF Moodle > Ihminen ja vuorovaikutteinen teknologia > TehtÃ¤vÃ¤ 9                                                                                              0.022229\nUEF Moodle > Ihminen ja vuorovaikutteinen teknologia > TehtÃ¤vÃ¤ 9 > Attempt                                                                                    0.020802\nILEDA Project > Проектиране на човеко-машинен интерфейс, летен семестър 2022/2023                                                                               0.017301\nUEF Moodle > Ihminen ja vuorovaikutteinen teknologia > TehtÃ¤vÃ¤ 14                                                                                             0.015196\nUEF Moodle > Ihminen ja vuorovaikutteinen teknologia > TehtÃ¤vÃ¤ 14 > Attempt                                                                                   0.011761\nUEF Moodle > Ihminen ja vuorovaikutteinen teknologia > TehtÃ¤vÃ¤ 4 > Attempt                                                                                    0.007471\nUEF Moodle > Ihminen ja vuorovaikutteinen teknologia > TehtÃ¤vÃ¤ 12 > Attempt                                                                                   0.007237\nNew Site > ARQUITECTURA DE COMPUTADORES - Graduado en Ingeniería Informática > Exercise 1.1- Comparing Computer Performance (deadline: 21.04.2023) > Attempt    0.006315\nILEDA Project > Електронно обучение, летен семестър 2022/2023 > Тест за установяване на предварителното запознаване с материалите за седмицата > Attempt        0.006034\nUEF Moodle > Ihminen ja vuorovaikutteinen teknologia > Uutiset                                                                                                  0.005931\nNew Site > ARQUITECTURA DE COMPUTADORES - Graduado en Ingeniería Informática > Exercise 1.2- CPU Performance Equation (deadline: 21.04.2023) > Attempt          0.005570\nName: proportion, dtype: float64"
     },
     "execution_count": 37,
     "metadata": {},
     "output_type": "execute_result"
    }
   ],
   "source": [
    "df['context'].value_counts(normalize=True)[:20]"
   ],
   "metadata": {
    "collapsed": false,
    "ExecuteTime": {
     "end_time": "2023-11-05T17:45:32.562698400Z",
     "start_time": "2023-11-05T17:45:32.520958Z"
    }
   },
   "id": "9551d9b088640419"
  },
  {
   "cell_type": "markdown",
   "source": [
    "The column mostly gives information about the institution / course."
   ],
   "metadata": {
    "collapsed": false
   },
   "id": "47d72f6337c6845c"
  },
  {
   "cell_type": "markdown",
   "source": [
    "## Result"
   ],
   "metadata": {
    "collapsed": false
   },
   "id": "c64a65128768c924"
  },
  {
   "cell_type": "code",
   "execution_count": 40,
   "outputs": [
    {
     "data": {
      "text/plain": "count    11558.00000\nmean         0.78472\nstd          0.35866\nmin          0.00000\n25%          0.70000\n50%          1.00000\n75%          1.00000\nmax          1.00000\nName: result.score.scaled, dtype: float64"
     },
     "execution_count": 40,
     "metadata": {},
     "output_type": "execute_result"
    }
   ],
   "source": [
    "df['result.score.scaled'].describe()"
   ],
   "metadata": {
    "collapsed": false,
    "ExecuteTime": {
     "end_time": "2023-11-05T18:09:37.131045500Z",
     "start_time": "2023-11-05T18:09:37.100997100Z"
    }
   },
   "id": "bb20f3c562e4545e"
  },
  {
   "cell_type": "code",
   "execution_count": 42,
   "outputs": [
    {
     "data": {
      "text/plain": "verb.id\ncompleted    4309\nscored       4235\nanswered     3014\nName: count, dtype: int64"
     },
     "execution_count": 42,
     "metadata": {},
     "output_type": "execute_result"
    }
   ],
   "source": [
    "df[~df['result.score.scaled'].isna()]['verb.id'].value_counts()"
   ],
   "metadata": {
    "collapsed": false,
    "ExecuteTime": {
     "end_time": "2023-11-05T18:12:33.875598400Z",
     "start_time": "2023-11-05T18:12:33.854040800Z"
    }
   },
   "id": "f5433c071d47cefe"
  },
  {
   "cell_type": "code",
   "execution_count": 44,
   "outputs": [
    {
     "data": {
      "text/plain": "result.success\nFalse    266458\nTrue      32833\nName: count, dtype: int64"
     },
     "execution_count": 44,
     "metadata": {},
     "output_type": "execute_result"
    }
   ],
   "source": [
    "df['result.success'].value_counts()"
   ],
   "metadata": {
    "collapsed": false,
    "ExecuteTime": {
     "end_time": "2023-11-05T18:36:19.856650200Z",
     "start_time": "2023-11-05T18:36:19.841864800Z"
    }
   },
   "id": "f8ceb4a68fde5ce5"
  },
  {
   "cell_type": "code",
   "execution_count": 50,
   "outputs": [
    {
     "data": {
      "text/plain": "       Institution                            Course actor.id  \\\n74             UEF  Advanced Data Management Systems    6ddcf   \n96             UEF  Advanced Data Management Systems    7f252   \n97             UEF  Advanced Data Management Systems    710d9   \n98             UEF  Advanced Data Management Systems    5df80   \n99             UEF  Advanced Data Management Systems    94c89   \n...            ...                               ...      ...   \n306703         BMU                 Computer Networks    60c08   \n306707         BMU                 Computer Networks    a0b51   \n306715         BMU                 Computer Networks    dfea0   \n306723         BMU                 Computer Networks    87441   \n306730         BMU                 Computer Networks    98607   \n\n                   timestamp    verb.id     object.definition.name  \\\n74      2023-06-22T10:43:35Z     scored   Assignment: Optimization   \n96      2023-06-21T20:54:34Z     scored  Assignment: Final Project   \n97      2023-06-21T20:53:15Z     scored  Assignment: Final Project   \n98      2023-06-21T20:52:48Z     scored  Assignment: Final Project   \n99      2023-06-21T20:51:49Z     scored  Assignment: Final Project   \n...                      ...        ...                        ...   \n306703  2023-06-01T16:28:45Z   answered       IT131-T04-Pitanje 12   \n306707  2023-05-15T23:59:05Z   answered       IT131-T03-Pitanje 16   \n306715  2023-05-20T17:33:16Z   answered       IT131-T03-Pitanje 36   \n306723  2023-06-11T22:57:27Z   answered       IT131-T05-Pitanje 13   \n306730  2023-05-12T22:10:50Z  completed                  IT131-T03   \n\n       object.definition.type  \\\n74                 assessment   \n96                 assessment   \n97                 assessment   \n98                 assessment   \n99                 assessment   \n...                       ...   \n306703        cmi.interaction   \n306707        cmi.interaction   \n306715        cmi.interaction   \n306723        cmi.interaction   \n306730             assessment   \n\n                                                  context  \\\n74      UEF Moodle > Advanced Data Management Systems ...   \n96      UEF Moodle > Advanced Data Management Systems ...   \n97      UEF Moodle > Advanced Data Management Systems ...   \n98      UEF Moodle > Advanced Data Management Systems ...   \n99      UEF Moodle > Advanced Data Management Systems ...   \n...                                                   ...   \n306703                 LAMS > test > Pitanje 12 > Attempt   \n306707                 LAMS > test > Pitanje 16 > Attempt   \n306715                 LAMS > test > Pitanje 36 > Attempt   \n306723                 LAMS > test > Pitanje 13 > Attempt   \n306730                                        LAMS > test   \n\n        result.score.scaled  result.success  result.completion  \\\n74                    0.600            True               True   \n96                    0.950            True               True   \n97                    1.000            True               True   \n98                    0.950            True               True   \n99                    1.000            True               True   \n...                     ...             ...                ...   \n306703                1.000            True               True   \n306707                1.000            True               True   \n306715                1.000            True               True   \n306723                1.000            True               True   \n306730                0.375            True               True   \n\n                 Teaching  \n74      Flipped classroom  \n96      Flipped classroom  \n97      Flipped classroom  \n98      Flipped classroom  \n99      Flipped classroom  \n...                   ...  \n306703  Flipped classroom  \n306707  Flipped classroom  \n306715  Flipped classroom  \n306723  Flipped classroom  \n306730  Flipped classroom  \n\n[32833 rows x 12 columns]",
      "text/html": "<div>\n<style scoped>\n    .dataframe tbody tr th:only-of-type {\n        vertical-align: middle;\n    }\n\n    .dataframe tbody tr th {\n        vertical-align: top;\n    }\n\n    .dataframe thead th {\n        text-align: right;\n    }\n</style>\n<table border=\"1\" class=\"dataframe\">\n  <thead>\n    <tr style=\"text-align: right;\">\n      <th></th>\n      <th>Institution</th>\n      <th>Course</th>\n      <th>actor.id</th>\n      <th>timestamp</th>\n      <th>verb.id</th>\n      <th>object.definition.name</th>\n      <th>object.definition.type</th>\n      <th>context</th>\n      <th>result.score.scaled</th>\n      <th>result.success</th>\n      <th>result.completion</th>\n      <th>Teaching</th>\n    </tr>\n  </thead>\n  <tbody>\n    <tr>\n      <th>74</th>\n      <td>UEF</td>\n      <td>Advanced Data Management Systems</td>\n      <td>6ddcf</td>\n      <td>2023-06-22T10:43:35Z</td>\n      <td>scored</td>\n      <td>Assignment: Optimization</td>\n      <td>assessment</td>\n      <td>UEF Moodle &gt; Advanced Data Management Systems ...</td>\n      <td>0.600</td>\n      <td>True</td>\n      <td>True</td>\n      <td>Flipped classroom</td>\n    </tr>\n    <tr>\n      <th>96</th>\n      <td>UEF</td>\n      <td>Advanced Data Management Systems</td>\n      <td>7f252</td>\n      <td>2023-06-21T20:54:34Z</td>\n      <td>scored</td>\n      <td>Assignment: Final Project</td>\n      <td>assessment</td>\n      <td>UEF Moodle &gt; Advanced Data Management Systems ...</td>\n      <td>0.950</td>\n      <td>True</td>\n      <td>True</td>\n      <td>Flipped classroom</td>\n    </tr>\n    <tr>\n      <th>97</th>\n      <td>UEF</td>\n      <td>Advanced Data Management Systems</td>\n      <td>710d9</td>\n      <td>2023-06-21T20:53:15Z</td>\n      <td>scored</td>\n      <td>Assignment: Final Project</td>\n      <td>assessment</td>\n      <td>UEF Moodle &gt; Advanced Data Management Systems ...</td>\n      <td>1.000</td>\n      <td>True</td>\n      <td>True</td>\n      <td>Flipped classroom</td>\n    </tr>\n    <tr>\n      <th>98</th>\n      <td>UEF</td>\n      <td>Advanced Data Management Systems</td>\n      <td>5df80</td>\n      <td>2023-06-21T20:52:48Z</td>\n      <td>scored</td>\n      <td>Assignment: Final Project</td>\n      <td>assessment</td>\n      <td>UEF Moodle &gt; Advanced Data Management Systems ...</td>\n      <td>0.950</td>\n      <td>True</td>\n      <td>True</td>\n      <td>Flipped classroom</td>\n    </tr>\n    <tr>\n      <th>99</th>\n      <td>UEF</td>\n      <td>Advanced Data Management Systems</td>\n      <td>94c89</td>\n      <td>2023-06-21T20:51:49Z</td>\n      <td>scored</td>\n      <td>Assignment: Final Project</td>\n      <td>assessment</td>\n      <td>UEF Moodle &gt; Advanced Data Management Systems ...</td>\n      <td>1.000</td>\n      <td>True</td>\n      <td>True</td>\n      <td>Flipped classroom</td>\n    </tr>\n    <tr>\n      <th>...</th>\n      <td>...</td>\n      <td>...</td>\n      <td>...</td>\n      <td>...</td>\n      <td>...</td>\n      <td>...</td>\n      <td>...</td>\n      <td>...</td>\n      <td>...</td>\n      <td>...</td>\n      <td>...</td>\n      <td>...</td>\n    </tr>\n    <tr>\n      <th>306703</th>\n      <td>BMU</td>\n      <td>Computer Networks</td>\n      <td>60c08</td>\n      <td>2023-06-01T16:28:45Z</td>\n      <td>answered</td>\n      <td>IT131-T04-Pitanje 12</td>\n      <td>cmi.interaction</td>\n      <td>LAMS &gt; test &gt; Pitanje 12 &gt; Attempt</td>\n      <td>1.000</td>\n      <td>True</td>\n      <td>True</td>\n      <td>Flipped classroom</td>\n    </tr>\n    <tr>\n      <th>306707</th>\n      <td>BMU</td>\n      <td>Computer Networks</td>\n      <td>a0b51</td>\n      <td>2023-05-15T23:59:05Z</td>\n      <td>answered</td>\n      <td>IT131-T03-Pitanje 16</td>\n      <td>cmi.interaction</td>\n      <td>LAMS &gt; test &gt; Pitanje 16 &gt; Attempt</td>\n      <td>1.000</td>\n      <td>True</td>\n      <td>True</td>\n      <td>Flipped classroom</td>\n    </tr>\n    <tr>\n      <th>306715</th>\n      <td>BMU</td>\n      <td>Computer Networks</td>\n      <td>dfea0</td>\n      <td>2023-05-20T17:33:16Z</td>\n      <td>answered</td>\n      <td>IT131-T03-Pitanje 36</td>\n      <td>cmi.interaction</td>\n      <td>LAMS &gt; test &gt; Pitanje 36 &gt; Attempt</td>\n      <td>1.000</td>\n      <td>True</td>\n      <td>True</td>\n      <td>Flipped classroom</td>\n    </tr>\n    <tr>\n      <th>306723</th>\n      <td>BMU</td>\n      <td>Computer Networks</td>\n      <td>87441</td>\n      <td>2023-06-11T22:57:27Z</td>\n      <td>answered</td>\n      <td>IT131-T05-Pitanje 13</td>\n      <td>cmi.interaction</td>\n      <td>LAMS &gt; test &gt; Pitanje 13 &gt; Attempt</td>\n      <td>1.000</td>\n      <td>True</td>\n      <td>True</td>\n      <td>Flipped classroom</td>\n    </tr>\n    <tr>\n      <th>306730</th>\n      <td>BMU</td>\n      <td>Computer Networks</td>\n      <td>98607</td>\n      <td>2023-05-12T22:10:50Z</td>\n      <td>completed</td>\n      <td>IT131-T03</td>\n      <td>assessment</td>\n      <td>LAMS &gt; test</td>\n      <td>0.375</td>\n      <td>True</td>\n      <td>True</td>\n      <td>Flipped classroom</td>\n    </tr>\n  </tbody>\n</table>\n<p>32833 rows × 12 columns</p>\n</div>"
     },
     "execution_count": 50,
     "metadata": {},
     "output_type": "execute_result"
    }
   ],
   "source": [
    "df[df['result.success'] == True]"
   ],
   "metadata": {
    "collapsed": false,
    "ExecuteTime": {
     "end_time": "2023-11-05T18:37:44.281695800Z",
     "start_time": "2023-11-05T18:37:44.238918800Z"
    }
   },
   "id": "ce790ef0cf8b7fce"
  },
  {
   "cell_type": "code",
   "execution_count": 49,
   "outputs": [
    {
     "data": {
      "text/plain": "verb.id\nanswered     24305\ncompleted     4301\nscored        4227\nName: count, dtype: int64"
     },
     "execution_count": 49,
     "metadata": {},
     "output_type": "execute_result"
    }
   ],
   "source": [
    "df[df['result.success'] == True]['verb.id'].value_counts()"
   ],
   "metadata": {
    "collapsed": false,
    "ExecuteTime": {
     "end_time": "2023-11-05T18:37:28.166519900Z",
     "start_time": "2023-11-05T18:37:28.147581100Z"
    }
   },
   "id": "2a7a98a8b0148b38"
  },
  {
   "cell_type": "code",
   "execution_count": 51,
   "outputs": [
    {
     "data": {
      "text/plain": "object.definition.type\ncmi.interaction    24305\nassessment          6735\nquiz                1793\nName: count, dtype: int64"
     },
     "execution_count": 51,
     "metadata": {},
     "output_type": "execute_result"
    }
   ],
   "source": [
    "df[df['result.success'] == True]['object.definition.type'].value_counts()"
   ],
   "metadata": {
    "collapsed": false,
    "ExecuteTime": {
     "end_time": "2023-11-05T18:38:18.443159100Z",
     "start_time": "2023-11-05T18:38:18.377476700Z"
    }
   },
   "id": "bc64a53a895aafa4"
  },
  {
   "cell_type": "code",
   "execution_count": 53,
   "outputs": [
    {
     "data": {
      "text/plain": "result.completion\nFalse    257343\nTrue      41948\nName: count, dtype: int64"
     },
     "execution_count": 53,
     "metadata": {},
     "output_type": "execute_result"
    }
   ],
   "source": [
    "df['result.completion'].value_counts()"
   ],
   "metadata": {
    "collapsed": false,
    "ExecuteTime": {
     "end_time": "2023-11-05T18:47:05.157796Z",
     "start_time": "2023-11-05T18:47:05.116663500Z"
    }
   },
   "id": "b683693042f6bd07"
  },
  {
   "cell_type": "code",
   "execution_count": 54,
   "outputs": [
    {
     "data": {
      "text/plain": "       Institution                            Course actor.id  \\\n74             UEF  Advanced Data Management Systems    6ddcf   \n96             UEF  Advanced Data Management Systems    7f252   \n97             UEF  Advanced Data Management Systems    710d9   \n98             UEF  Advanced Data Management Systems    5df80   \n99             UEF  Advanced Data Management Systems    94c89   \n...            ...                               ...      ...   \n306718         BMU                 Computer Networks    98607   \n306723         BMU                 Computer Networks    87441   \n306724         BMU                 Computer Networks    1c33c   \n306730         BMU                 Computer Networks    98607   \n306739         BMU                 Computer Networks    00c5e   \n\n                   timestamp    verb.id     object.definition.name  \\\n74      2023-06-22T10:43:35Z     scored   Assignment: Optimization   \n96      2023-06-21T20:54:34Z     scored  Assignment: Final Project   \n97      2023-06-21T20:53:15Z     scored  Assignment: Final Project   \n98      2023-06-21T20:52:48Z     scored  Assignment: Final Project   \n99      2023-06-21T20:51:49Z     scored  Assignment: Final Project   \n...                      ...        ...                        ...   \n306718  2023-05-12T22:10:50Z   answered       IT131-T03-Pitanje 33   \n306723  2023-06-11T22:57:27Z   answered       IT131-T05-Pitanje 13   \n306724  2023-05-16T00:05:45Z   answered       IT131-T03-Pitanje 15   \n306730  2023-05-12T22:10:50Z  completed                  IT131-T03   \n306739  2023-06-01T21:23:16Z   answered       IT131-T04-Pitanje 20   \n\n       object.definition.type  \\\n74                 assessment   \n96                 assessment   \n97                 assessment   \n98                 assessment   \n99                 assessment   \n...                       ...   \n306718        cmi.interaction   \n306723        cmi.interaction   \n306724        cmi.interaction   \n306730             assessment   \n306739        cmi.interaction   \n\n                                                  context  \\\n74      UEF Moodle > Advanced Data Management Systems ...   \n96      UEF Moodle > Advanced Data Management Systems ...   \n97      UEF Moodle > Advanced Data Management Systems ...   \n98      UEF Moodle > Advanced Data Management Systems ...   \n99      UEF Moodle > Advanced Data Management Systems ...   \n...                                                   ...   \n306718                 LAMS > test > Pitanje 33 > Attempt   \n306723                 LAMS > test > Pitanje 13 > Attempt   \n306724                 LAMS > test > Pitanje 15 > Attempt   \n306730                                        LAMS > test   \n306739                 LAMS > test > Pitanje 20 > Attempt   \n\n        result.score.scaled  result.success  result.completion  \\\n74                    0.600            True               True   \n96                    0.950            True               True   \n97                    1.000            True               True   \n98                    0.950            True               True   \n99                    1.000            True               True   \n...                     ...             ...                ...   \n306718                0.000           False               True   \n306723                1.000            True               True   \n306724                0.000           False               True   \n306730                0.375            True               True   \n306739                0.000           False               True   \n\n                 Teaching  \n74      Flipped classroom  \n96      Flipped classroom  \n97      Flipped classroom  \n98      Flipped classroom  \n99      Flipped classroom  \n...                   ...  \n306718  Flipped classroom  \n306723  Flipped classroom  \n306724  Flipped classroom  \n306730  Flipped classroom  \n306739  Flipped classroom  \n\n[41948 rows x 12 columns]",
      "text/html": "<div>\n<style scoped>\n    .dataframe tbody tr th:only-of-type {\n        vertical-align: middle;\n    }\n\n    .dataframe tbody tr th {\n        vertical-align: top;\n    }\n\n    .dataframe thead th {\n        text-align: right;\n    }\n</style>\n<table border=\"1\" class=\"dataframe\">\n  <thead>\n    <tr style=\"text-align: right;\">\n      <th></th>\n      <th>Institution</th>\n      <th>Course</th>\n      <th>actor.id</th>\n      <th>timestamp</th>\n      <th>verb.id</th>\n      <th>object.definition.name</th>\n      <th>object.definition.type</th>\n      <th>context</th>\n      <th>result.score.scaled</th>\n      <th>result.success</th>\n      <th>result.completion</th>\n      <th>Teaching</th>\n    </tr>\n  </thead>\n  <tbody>\n    <tr>\n      <th>74</th>\n      <td>UEF</td>\n      <td>Advanced Data Management Systems</td>\n      <td>6ddcf</td>\n      <td>2023-06-22T10:43:35Z</td>\n      <td>scored</td>\n      <td>Assignment: Optimization</td>\n      <td>assessment</td>\n      <td>UEF Moodle &gt; Advanced Data Management Systems ...</td>\n      <td>0.600</td>\n      <td>True</td>\n      <td>True</td>\n      <td>Flipped classroom</td>\n    </tr>\n    <tr>\n      <th>96</th>\n      <td>UEF</td>\n      <td>Advanced Data Management Systems</td>\n      <td>7f252</td>\n      <td>2023-06-21T20:54:34Z</td>\n      <td>scored</td>\n      <td>Assignment: Final Project</td>\n      <td>assessment</td>\n      <td>UEF Moodle &gt; Advanced Data Management Systems ...</td>\n      <td>0.950</td>\n      <td>True</td>\n      <td>True</td>\n      <td>Flipped classroom</td>\n    </tr>\n    <tr>\n      <th>97</th>\n      <td>UEF</td>\n      <td>Advanced Data Management Systems</td>\n      <td>710d9</td>\n      <td>2023-06-21T20:53:15Z</td>\n      <td>scored</td>\n      <td>Assignment: Final Project</td>\n      <td>assessment</td>\n      <td>UEF Moodle &gt; Advanced Data Management Systems ...</td>\n      <td>1.000</td>\n      <td>True</td>\n      <td>True</td>\n      <td>Flipped classroom</td>\n    </tr>\n    <tr>\n      <th>98</th>\n      <td>UEF</td>\n      <td>Advanced Data Management Systems</td>\n      <td>5df80</td>\n      <td>2023-06-21T20:52:48Z</td>\n      <td>scored</td>\n      <td>Assignment: Final Project</td>\n      <td>assessment</td>\n      <td>UEF Moodle &gt; Advanced Data Management Systems ...</td>\n      <td>0.950</td>\n      <td>True</td>\n      <td>True</td>\n      <td>Flipped classroom</td>\n    </tr>\n    <tr>\n      <th>99</th>\n      <td>UEF</td>\n      <td>Advanced Data Management Systems</td>\n      <td>94c89</td>\n      <td>2023-06-21T20:51:49Z</td>\n      <td>scored</td>\n      <td>Assignment: Final Project</td>\n      <td>assessment</td>\n      <td>UEF Moodle &gt; Advanced Data Management Systems ...</td>\n      <td>1.000</td>\n      <td>True</td>\n      <td>True</td>\n      <td>Flipped classroom</td>\n    </tr>\n    <tr>\n      <th>...</th>\n      <td>...</td>\n      <td>...</td>\n      <td>...</td>\n      <td>...</td>\n      <td>...</td>\n      <td>...</td>\n      <td>...</td>\n      <td>...</td>\n      <td>...</td>\n      <td>...</td>\n      <td>...</td>\n      <td>...</td>\n    </tr>\n    <tr>\n      <th>306718</th>\n      <td>BMU</td>\n      <td>Computer Networks</td>\n      <td>98607</td>\n      <td>2023-05-12T22:10:50Z</td>\n      <td>answered</td>\n      <td>IT131-T03-Pitanje 33</td>\n      <td>cmi.interaction</td>\n      <td>LAMS &gt; test &gt; Pitanje 33 &gt; Attempt</td>\n      <td>0.000</td>\n      <td>False</td>\n      <td>True</td>\n      <td>Flipped classroom</td>\n    </tr>\n    <tr>\n      <th>306723</th>\n      <td>BMU</td>\n      <td>Computer Networks</td>\n      <td>87441</td>\n      <td>2023-06-11T22:57:27Z</td>\n      <td>answered</td>\n      <td>IT131-T05-Pitanje 13</td>\n      <td>cmi.interaction</td>\n      <td>LAMS &gt; test &gt; Pitanje 13 &gt; Attempt</td>\n      <td>1.000</td>\n      <td>True</td>\n      <td>True</td>\n      <td>Flipped classroom</td>\n    </tr>\n    <tr>\n      <th>306724</th>\n      <td>BMU</td>\n      <td>Computer Networks</td>\n      <td>1c33c</td>\n      <td>2023-05-16T00:05:45Z</td>\n      <td>answered</td>\n      <td>IT131-T03-Pitanje 15</td>\n      <td>cmi.interaction</td>\n      <td>LAMS &gt; test &gt; Pitanje 15 &gt; Attempt</td>\n      <td>0.000</td>\n      <td>False</td>\n      <td>True</td>\n      <td>Flipped classroom</td>\n    </tr>\n    <tr>\n      <th>306730</th>\n      <td>BMU</td>\n      <td>Computer Networks</td>\n      <td>98607</td>\n      <td>2023-05-12T22:10:50Z</td>\n      <td>completed</td>\n      <td>IT131-T03</td>\n      <td>assessment</td>\n      <td>LAMS &gt; test</td>\n      <td>0.375</td>\n      <td>True</td>\n      <td>True</td>\n      <td>Flipped classroom</td>\n    </tr>\n    <tr>\n      <th>306739</th>\n      <td>BMU</td>\n      <td>Computer Networks</td>\n      <td>00c5e</td>\n      <td>2023-06-01T21:23:16Z</td>\n      <td>answered</td>\n      <td>IT131-T04-Pitanje 20</td>\n      <td>cmi.interaction</td>\n      <td>LAMS &gt; test &gt; Pitanje 20 &gt; Attempt</td>\n      <td>0.000</td>\n      <td>False</td>\n      <td>True</td>\n      <td>Flipped classroom</td>\n    </tr>\n  </tbody>\n</table>\n<p>41948 rows × 12 columns</p>\n</div>"
     },
     "execution_count": 54,
     "metadata": {},
     "output_type": "execute_result"
    }
   ],
   "source": [
    "df[df['result.completion'] == True]"
   ],
   "metadata": {
    "collapsed": false,
    "ExecuteTime": {
     "end_time": "2023-11-05T18:47:24.209366800Z",
     "start_time": "2023-11-05T18:47:24.144293100Z"
    }
   },
   "id": "d24b5c40188c4043"
  },
  {
   "cell_type": "code",
   "execution_count": 56,
   "outputs": [
    {
     "data": {
      "text/plain": "object.definition.type\ncmi.interaction    33409\nassessment          6744\nquiz                1795\nName: count, dtype: int64"
     },
     "execution_count": 56,
     "metadata": {},
     "output_type": "execute_result"
    }
   ],
   "source": [
    "df[df['result.completion'] == True]['object.definition.type'].value_counts()"
   ],
   "metadata": {
    "collapsed": false,
    "ExecuteTime": {
     "end_time": "2023-11-05T18:56:29.895334900Z",
     "start_time": "2023-11-05T18:56:29.849909900Z"
    }
   },
   "id": "24e575f8a2673fb0"
  },
  {
   "cell_type": "markdown",
   "source": [
    "## Timestamp"
   ],
   "metadata": {
    "collapsed": false
   },
   "id": "71a0962cde84c73b"
  },
  {
   "cell_type": "code",
   "execution_count": 57,
   "outputs": [
    {
     "data": {
      "text/plain": "0         2023-07-07T18:55:47Z\n1         2023-07-07T15:21:18Z\n2         2023-07-07T15:08:13Z\n3         2023-07-07T15:08:10Z\n4         2023-07-07T09:03:32Z\n                  ...         \n306723    2023-06-11T22:57:27Z\n306724    2023-05-16T00:05:45Z\n306730    2023-05-12T22:10:50Z\n306734    2023-02-27T22:45:33Z\n306739    2023-06-01T21:23:16Z\nName: timestamp, Length: 299291, dtype: object"
     },
     "execution_count": 57,
     "metadata": {},
     "output_type": "execute_result"
    }
   ],
   "source": [
    "df['timestamp']"
   ],
   "metadata": {
    "collapsed": false,
    "ExecuteTime": {
     "end_time": "2023-11-05T18:58:57.345277200Z",
     "start_time": "2023-11-05T18:58:57.210607200Z"
    }
   },
   "id": "f516615f0bed13f2"
  },
  {
   "cell_type": "code",
   "execution_count": 80,
   "outputs": [],
   "source": [
    "def extract_from_date(timestamp, arg):\n",
    "    if arg == 'year':\n",
    "        return datetime.fromisoformat(timestamp[:-1]).year\n",
    "    if arg == 'month':\n",
    "        return datetime.fromisoformat(timestamp[:-1]).month\n",
    "    if arg == 'day':\n",
    "        return datetime.fromisoformat(timestamp[:-1]).day\n",
    "    if arg == 'hour':\n",
    "        return datetime.fromisoformat(timestamp[:-1]).hour\n",
    "    if arg == 'minute':\n",
    "        return datetime.fromisoformat(timestamp[:-1]).minute\n",
    "    if arg == 'second':\n",
    "        return datetime.fromisoformat(timestamp[:-1]).second"
   ],
   "metadata": {
    "collapsed": false,
    "ExecuteTime": {
     "end_time": "2023-11-05T19:12:25.157374800Z",
     "start_time": "2023-11-05T19:12:25.136694800Z"
    }
   },
   "id": "a8f8bb1e687c7531"
  },
  {
   "cell_type": "code",
   "execution_count": 81,
   "outputs": [],
   "source": [
    "df['timestamp.year'] = df['timestamp'].apply(extract_from_date, arg='year')\n",
    "df['timestamp.month'] = df['timestamp'].apply(extract_from_date, arg='month')\n",
    "df['timestamp.day'] = df['timestamp'].apply(extract_from_date, arg='day')\n",
    "df['timestamp.hour'] = df['timestamp'].apply(extract_from_date, arg='hour')\n",
    "df['timestamp.minute'] = df['timestamp'].apply(extract_from_date, arg='minute')\n",
    "df['timestamp.second'] = df['timestamp'].apply(extract_from_date, arg='second')"
   ],
   "metadata": {
    "collapsed": false,
    "ExecuteTime": {
     "end_time": "2023-11-05T19:12:45.695587900Z",
     "start_time": "2023-11-05T19:12:43.157362200Z"
    }
   },
   "id": "957a46dc6809691a"
  },
  {
   "cell_type": "code",
   "execution_count": 82,
   "outputs": [
    {
     "data": {
      "text/plain": "       Institution                            Course actor.id  \\\n0              UEF  Advanced Data Management Systems    aeb0c   \n1              UEF  Advanced Data Management Systems    aeb0c   \n2              UEF  Advanced Data Management Systems    aeb0c   \n3              UEF  Advanced Data Management Systems    aeb0c   \n4              UEF  Advanced Data Management Systems    aeb0c   \n...            ...                               ...      ...   \n306723         BMU                 Computer Networks    87441   \n306724         BMU                 Computer Networks    1c33c   \n306730         BMU                 Computer Networks    98607   \n306734         BMU                 Computer Networks    98607   \n306739         BMU                 Computer Networks    00c5e   \n\n                   timestamp    verb.id  \\\n0       2023-07-07T18:55:47Z     viewed   \n1       2023-07-07T15:21:18Z     viewed   \n2       2023-07-07T15:08:13Z     viewed   \n3       2023-07-07T15:08:10Z     viewed   \n4       2023-07-07T09:03:32Z     viewed   \n...                      ...        ...   \n306723  2023-06-11T22:57:27Z   answered   \n306724  2023-05-16T00:05:45Z   answered   \n306730  2023-05-12T22:10:50Z  completed   \n306734  2023-02-27T22:45:33Z  completed   \n306739  2023-06-01T21:23:16Z   answered   \n\n                                   object.definition.name  \\\n0                  Advanced Data Management Systems (THJ)   \n1                       Assignment Instructions: ER & EER   \n2                                Recording: Intro lecture   \n3                  Advanced Data Management Systems (THJ)   \n4                  Advanced Data Management Systems (THJ)   \n...                                                   ...   \n306723                               IT131-T05-Pitanje 13   \n306724                               IT131-T03-Pitanje 15   \n306730                                          IT131-T03   \n306734  Lekcija 2 - Osnove umrežavanja - Tradicionalna...   \n306739                               IT131-T04-Pitanje 20   \n\n       object.definition.type  \\\n0                      course   \n1                        link   \n2                        link   \n3                      course   \n4                      course   \n...                       ...   \n306723        cmi.interaction   \n306724        cmi.interaction   \n306730             assessment   \n306734                 module   \n306739        cmi.interaction   \n\n                                                  context  \\\n0                                              UEF Moodle   \n1       UEF Moodle > Advanced Data Management Systems ...   \n2       UEF Moodle > Advanced Data Management Systems ...   \n3                                              UEF Moodle   \n4                                              UEF Moodle   \n...                                                   ...   \n306723                 LAMS > test > Pitanje 13 > Attempt   \n306724                 LAMS > test > Pitanje 15 > Attempt   \n306730                                        LAMS > test   \n306734                                      LAMS > 217371   \n306739                 LAMS > test > Pitanje 20 > Attempt   \n\n        result.score.scaled  result.success  result.completion  \\\n0                       NaN           False              False   \n1                       NaN           False              False   \n2                       NaN           False              False   \n3                       NaN           False              False   \n4                       NaN           False              False   \n...                     ...             ...                ...   \n306723                1.000            True               True   \n306724                0.000           False               True   \n306730                0.375            True               True   \n306734                  NaN           False              False   \n306739                0.000           False               True   \n\n                 Teaching  timestamp.year  timestamp.month  timestamp.day  \\\n0       Flipped classroom            2023                7              7   \n1       Flipped classroom            2023                7              7   \n2       Flipped classroom            2023                7              7   \n3       Flipped classroom            2023                7              7   \n4       Flipped classroom            2023                7              7   \n...                   ...             ...              ...            ...   \n306723  Flipped classroom            2023                6             11   \n306724  Flipped classroom            2023                5             16   \n306730  Flipped classroom            2023                5             12   \n306734  Flipped classroom            2023                2             27   \n306739  Flipped classroom            2023                6              1   \n\n        timestamp.hour  timestamp.minute  timestamp.second  \n0                   18                55                47  \n1                   15                21                18  \n2                   15                 8                13  \n3                   15                 8                10  \n4                    9                 3                32  \n...                ...               ...               ...  \n306723              22                57                27  \n306724               0                 5                45  \n306730              22                10                50  \n306734              22                45                33  \n306739              21                23                16  \n\n[299291 rows x 18 columns]",
      "text/html": "<div>\n<style scoped>\n    .dataframe tbody tr th:only-of-type {\n        vertical-align: middle;\n    }\n\n    .dataframe tbody tr th {\n        vertical-align: top;\n    }\n\n    .dataframe thead th {\n        text-align: right;\n    }\n</style>\n<table border=\"1\" class=\"dataframe\">\n  <thead>\n    <tr style=\"text-align: right;\">\n      <th></th>\n      <th>Institution</th>\n      <th>Course</th>\n      <th>actor.id</th>\n      <th>timestamp</th>\n      <th>verb.id</th>\n      <th>object.definition.name</th>\n      <th>object.definition.type</th>\n      <th>context</th>\n      <th>result.score.scaled</th>\n      <th>result.success</th>\n      <th>result.completion</th>\n      <th>Teaching</th>\n      <th>timestamp.year</th>\n      <th>timestamp.month</th>\n      <th>timestamp.day</th>\n      <th>timestamp.hour</th>\n      <th>timestamp.minute</th>\n      <th>timestamp.second</th>\n    </tr>\n  </thead>\n  <tbody>\n    <tr>\n      <th>0</th>\n      <td>UEF</td>\n      <td>Advanced Data Management Systems</td>\n      <td>aeb0c</td>\n      <td>2023-07-07T18:55:47Z</td>\n      <td>viewed</td>\n      <td>Advanced Data Management Systems (THJ)</td>\n      <td>course</td>\n      <td>UEF Moodle</td>\n      <td>NaN</td>\n      <td>False</td>\n      <td>False</td>\n      <td>Flipped classroom</td>\n      <td>2023</td>\n      <td>7</td>\n      <td>7</td>\n      <td>18</td>\n      <td>55</td>\n      <td>47</td>\n    </tr>\n    <tr>\n      <th>1</th>\n      <td>UEF</td>\n      <td>Advanced Data Management Systems</td>\n      <td>aeb0c</td>\n      <td>2023-07-07T15:21:18Z</td>\n      <td>viewed</td>\n      <td>Assignment Instructions: ER &amp; EER</td>\n      <td>link</td>\n      <td>UEF Moodle &gt; Advanced Data Management Systems ...</td>\n      <td>NaN</td>\n      <td>False</td>\n      <td>False</td>\n      <td>Flipped classroom</td>\n      <td>2023</td>\n      <td>7</td>\n      <td>7</td>\n      <td>15</td>\n      <td>21</td>\n      <td>18</td>\n    </tr>\n    <tr>\n      <th>2</th>\n      <td>UEF</td>\n      <td>Advanced Data Management Systems</td>\n      <td>aeb0c</td>\n      <td>2023-07-07T15:08:13Z</td>\n      <td>viewed</td>\n      <td>Recording: Intro lecture</td>\n      <td>link</td>\n      <td>UEF Moodle &gt; Advanced Data Management Systems ...</td>\n      <td>NaN</td>\n      <td>False</td>\n      <td>False</td>\n      <td>Flipped classroom</td>\n      <td>2023</td>\n      <td>7</td>\n      <td>7</td>\n      <td>15</td>\n      <td>8</td>\n      <td>13</td>\n    </tr>\n    <tr>\n      <th>3</th>\n      <td>UEF</td>\n      <td>Advanced Data Management Systems</td>\n      <td>aeb0c</td>\n      <td>2023-07-07T15:08:10Z</td>\n      <td>viewed</td>\n      <td>Advanced Data Management Systems (THJ)</td>\n      <td>course</td>\n      <td>UEF Moodle</td>\n      <td>NaN</td>\n      <td>False</td>\n      <td>False</td>\n      <td>Flipped classroom</td>\n      <td>2023</td>\n      <td>7</td>\n      <td>7</td>\n      <td>15</td>\n      <td>8</td>\n      <td>10</td>\n    </tr>\n    <tr>\n      <th>4</th>\n      <td>UEF</td>\n      <td>Advanced Data Management Systems</td>\n      <td>aeb0c</td>\n      <td>2023-07-07T09:03:32Z</td>\n      <td>viewed</td>\n      <td>Advanced Data Management Systems (THJ)</td>\n      <td>course</td>\n      <td>UEF Moodle</td>\n      <td>NaN</td>\n      <td>False</td>\n      <td>False</td>\n      <td>Flipped classroom</td>\n      <td>2023</td>\n      <td>7</td>\n      <td>7</td>\n      <td>9</td>\n      <td>3</td>\n      <td>32</td>\n    </tr>\n    <tr>\n      <th>...</th>\n      <td>...</td>\n      <td>...</td>\n      <td>...</td>\n      <td>...</td>\n      <td>...</td>\n      <td>...</td>\n      <td>...</td>\n      <td>...</td>\n      <td>...</td>\n      <td>...</td>\n      <td>...</td>\n      <td>...</td>\n      <td>...</td>\n      <td>...</td>\n      <td>...</td>\n      <td>...</td>\n      <td>...</td>\n      <td>...</td>\n    </tr>\n    <tr>\n      <th>306723</th>\n      <td>BMU</td>\n      <td>Computer Networks</td>\n      <td>87441</td>\n      <td>2023-06-11T22:57:27Z</td>\n      <td>answered</td>\n      <td>IT131-T05-Pitanje 13</td>\n      <td>cmi.interaction</td>\n      <td>LAMS &gt; test &gt; Pitanje 13 &gt; Attempt</td>\n      <td>1.000</td>\n      <td>True</td>\n      <td>True</td>\n      <td>Flipped classroom</td>\n      <td>2023</td>\n      <td>6</td>\n      <td>11</td>\n      <td>22</td>\n      <td>57</td>\n      <td>27</td>\n    </tr>\n    <tr>\n      <th>306724</th>\n      <td>BMU</td>\n      <td>Computer Networks</td>\n      <td>1c33c</td>\n      <td>2023-05-16T00:05:45Z</td>\n      <td>answered</td>\n      <td>IT131-T03-Pitanje 15</td>\n      <td>cmi.interaction</td>\n      <td>LAMS &gt; test &gt; Pitanje 15 &gt; Attempt</td>\n      <td>0.000</td>\n      <td>False</td>\n      <td>True</td>\n      <td>Flipped classroom</td>\n      <td>2023</td>\n      <td>5</td>\n      <td>16</td>\n      <td>0</td>\n      <td>5</td>\n      <td>45</td>\n    </tr>\n    <tr>\n      <th>306730</th>\n      <td>BMU</td>\n      <td>Computer Networks</td>\n      <td>98607</td>\n      <td>2023-05-12T22:10:50Z</td>\n      <td>completed</td>\n      <td>IT131-T03</td>\n      <td>assessment</td>\n      <td>LAMS &gt; test</td>\n      <td>0.375</td>\n      <td>True</td>\n      <td>True</td>\n      <td>Flipped classroom</td>\n      <td>2023</td>\n      <td>5</td>\n      <td>12</td>\n      <td>22</td>\n      <td>10</td>\n      <td>50</td>\n    </tr>\n    <tr>\n      <th>306734</th>\n      <td>BMU</td>\n      <td>Computer Networks</td>\n      <td>98607</td>\n      <td>2023-02-27T22:45:33Z</td>\n      <td>completed</td>\n      <td>Lekcija 2 - Osnove umrežavanja - Tradicionalna...</td>\n      <td>module</td>\n      <td>LAMS &gt; 217371</td>\n      <td>NaN</td>\n      <td>False</td>\n      <td>False</td>\n      <td>Flipped classroom</td>\n      <td>2023</td>\n      <td>2</td>\n      <td>27</td>\n      <td>22</td>\n      <td>45</td>\n      <td>33</td>\n    </tr>\n    <tr>\n      <th>306739</th>\n      <td>BMU</td>\n      <td>Computer Networks</td>\n      <td>00c5e</td>\n      <td>2023-06-01T21:23:16Z</td>\n      <td>answered</td>\n      <td>IT131-T04-Pitanje 20</td>\n      <td>cmi.interaction</td>\n      <td>LAMS &gt; test &gt; Pitanje 20 &gt; Attempt</td>\n      <td>0.000</td>\n      <td>False</td>\n      <td>True</td>\n      <td>Flipped classroom</td>\n      <td>2023</td>\n      <td>6</td>\n      <td>1</td>\n      <td>21</td>\n      <td>23</td>\n      <td>16</td>\n    </tr>\n  </tbody>\n</table>\n<p>299291 rows × 18 columns</p>\n</div>"
     },
     "execution_count": 82,
     "metadata": {},
     "output_type": "execute_result"
    }
   ],
   "source": [
    "df"
   ],
   "metadata": {
    "collapsed": false,
    "ExecuteTime": {
     "end_time": "2023-11-05T19:12:45.716840600Z",
     "start_time": "2023-11-05T19:12:45.695587900Z"
    }
   },
   "id": "4f889a6cf61d2557"
  },
  {
   "cell_type": "markdown",
   "source": [
    "## Actors"
   ],
   "metadata": {
    "collapsed": false
   },
   "id": "9880b493e9d34ef7"
  },
  {
   "cell_type": "code",
   "execution_count": 84,
   "outputs": [
    {
     "data": {
      "text/plain": "count     299291\nunique       829\ntop        76d01\nfreq        6255\nName: actor.id, dtype: object"
     },
     "execution_count": 84,
     "metadata": {},
     "output_type": "execute_result"
    }
   ],
   "source": [
    "df['actor.id'].describe()"
   ],
   "metadata": {
    "collapsed": false,
    "ExecuteTime": {
     "end_time": "2023-11-05T19:13:40.171963400Z",
     "start_time": "2023-11-05T19:13:40.144332200Z"
    }
   },
   "id": "64da3345353c9365"
  },
  {
   "cell_type": "code",
   "execution_count": 85,
   "outputs": [
    {
     "data": {
      "text/plain": "actor.id\n76d01    0.020899\nf231a    0.009623\nd0853    0.007047\n4722b    0.005830\nd88b8    0.005700\n           ...   \ncd331    0.000003\n47d0e    0.000003\n7dd01    0.000003\n297c3    0.000003\n1ad31    0.000003\nName: proportion, Length: 829, dtype: float64"
     },
     "execution_count": 85,
     "metadata": {},
     "output_type": "execute_result"
    }
   ],
   "source": [
    "df['actor.id'].value_counts(normalize=True)"
   ],
   "metadata": {
    "collapsed": false,
    "ExecuteTime": {
     "end_time": "2023-11-05T19:14:04.445760900Z",
     "start_time": "2023-11-05T19:14:04.400185600Z"
    }
   },
   "id": "77ecbc253ace7f8e"
  }
 ],
 "metadata": {
  "kernelspec": {
   "display_name": "Python 3",
   "language": "python",
   "name": "python3"
  },
  "language_info": {
   "codemirror_mode": {
    "name": "ipython",
    "version": 2
   },
   "file_extension": ".py",
   "mimetype": "text/x-python",
   "name": "python",
   "nbconvert_exporter": "python",
   "pygments_lexer": "ipython2",
   "version": "2.7.6"
  }
 },
 "nbformat": 4,
 "nbformat_minor": 5
}
