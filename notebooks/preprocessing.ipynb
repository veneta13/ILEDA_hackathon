{
 "cells": [
  {
   "cell_type": "markdown",
   "source": [
    "# Imports"
   ],
   "metadata": {
    "collapsed": false
   },
   "id": "31518662d2514eeb"
  },
  {
   "cell_type": "code",
   "execution_count": 1,
   "id": "initial_id",
   "metadata": {
    "collapsed": true,
    "ExecuteTime": {
     "end_time": "2023-11-05T14:18:19.594515500Z",
     "start_time": "2023-11-05T14:18:15.159458Z"
    }
   },
   "outputs": [],
   "source": [
    "import pandas as pd"
   ]
  },
  {
   "cell_type": "markdown",
   "source": [
    "# Load data"
   ],
   "metadata": {
    "collapsed": false
   },
   "id": "c70dafeeb92eacb0"
  },
  {
   "cell_type": "code",
   "execution_count": 2,
   "outputs": [
    {
     "data": {
      "text/plain": "       Institution                                  Course actor.id  \\\n0              UEF  Advanced Data Management Systems (THJ)    aeb0c   \n1              UEF  Advanced Data Management Systems (THJ)    aeb0c   \n2              UEF  Advanced Data Management Systems (THJ)    aeb0c   \n3              UEF  Advanced Data Management Systems (THJ)    aeb0c   \n4              UEF  Advanced Data Management Systems (THJ)    aeb0c   \n...            ...                                     ...      ...   \n306740         BMU                                   IT131    2db36   \n306741         BMU                                   IT131    fc5fe   \n306742         BMU                                   IT131    d0f73   \n306743         BMU                                   IT131    dfea0   \n306744         BMU                                   IT131    7f889   \n\n                   timestamp                                  verb.id  \\\n0       2023-07-07T18:55:47Z      http://id.tincanapi.com/verb/viewed   \n1       2023-07-07T15:21:18Z      http://id.tincanapi.com/verb/viewed   \n2       2023-07-07T15:08:13Z      http://id.tincanapi.com/verb/viewed   \n3       2023-07-07T15:08:10Z      http://id.tincanapi.com/verb/viewed   \n4       2023-07-07T09:03:32Z      http://id.tincanapi.com/verb/viewed   \n...                      ...                                      ...   \n306740  2023-06-16T16:52:55Z    http://adlnet.gov/expapi/verbs/scored   \n306741  2023-06-16T17:58:19Z    http://adlnet.gov/expapi/verbs/scored   \n306742  2023-06-16T17:08:43Z    http://adlnet.gov/expapi/verbs/scored   \n306743  2023-06-16T17:43:28Z    http://adlnet.gov/expapi/verbs/scored   \n306744  2023-06-09T16:23:38Z  http://adlnet.gov/expapi/verbs/answered   \n\n              verb.display                             object.definition.name  \\\n0                   viewed             Advanced Data Management Systems (THJ)   \n1                   viewed                  Assignment Instructions: ER & EER   \n2                   viewed                           Recording: Intro lecture   \n3                   viewed             Advanced Data Management Systems (THJ)   \n4                   viewed             Advanced Data Management Systems (THJ)   \n...                    ...                                                ...   \n306740  attained grade for  Lekcija 7 - IP adresiranje i sabnetovanje - Tr...   \n306741  attained grade for  Lekcija 8 - Transportni sloj - Tradicionalna n...   \n306742  attained grade for  Lekcija 9 - Principi rada TCP protokola - Trad...   \n306743  attained grade for   IT131 - L04 (638138597640325722 - Tradicionalno)   \n306744            answered                               IT131-T02-Pitanje 15   \n\n                                   object.definition.type  \\\n0         http://id.tincanapi.com/activitytype/lms/course   \n1                http://adlnet.gov/expapi/activities/link   \n2                http://adlnet.gov/expapi/activities/link   \n3         http://id.tincanapi.com/activitytype/lms/course   \n4         http://id.tincanapi.com/activitytype/lms/course   \n...                                                   ...   \n306740     http://adlnet.gov/expapi/activities/assessment   \n306741     http://adlnet.gov/expapi/activities/assessment   \n306742     http://adlnet.gov/expapi/activities/assessment   \n306743     http://adlnet.gov/expapi/activities/assessment   \n306744  http://adlnet.gov/expapi/activities/cmi.intera...   \n\n                                                  context  \\\n0                                              UEF Moodle   \n1       UEF Moodle > Advanced Data Management Systems ...   \n2       UEF Moodle > Advanced Data Management Systems ...   \n3                                              UEF Moodle   \n4                                              UEF Moodle   \n...                                                   ...   \n306740                                      LAMS > 220870   \n306741                                      LAMS > 221218   \n306742                                      LAMS > 221910   \n306743                                      LAMS > 219720   \n306744                 LAMS > test > Pitanje 15 > Attempt   \n\n        result.score.scaled  result.success  result.completion  \n0                       NaN           False              False  \n1                       NaN           False              False  \n2                       NaN           False              False  \n3                       NaN           False              False  \n4                       NaN           False              False  \n...                     ...             ...                ...  \n306740                  1.0            True               True  \n306741                  1.0            True               True  \n306742                  0.2            True               True  \n306743                  1.0            True               True  \n306744                  0.0           False               True  \n\n[306745 rows x 12 columns]",
      "text/html": "<div>\n<style scoped>\n    .dataframe tbody tr th:only-of-type {\n        vertical-align: middle;\n    }\n\n    .dataframe tbody tr th {\n        vertical-align: top;\n    }\n\n    .dataframe thead th {\n        text-align: right;\n    }\n</style>\n<table border=\"1\" class=\"dataframe\">\n  <thead>\n    <tr style=\"text-align: right;\">\n      <th></th>\n      <th>Institution</th>\n      <th>Course</th>\n      <th>actor.id</th>\n      <th>timestamp</th>\n      <th>verb.id</th>\n      <th>verb.display</th>\n      <th>object.definition.name</th>\n      <th>object.definition.type</th>\n      <th>context</th>\n      <th>result.score.scaled</th>\n      <th>result.success</th>\n      <th>result.completion</th>\n    </tr>\n  </thead>\n  <tbody>\n    <tr>\n      <th>0</th>\n      <td>UEF</td>\n      <td>Advanced Data Management Systems (THJ)</td>\n      <td>aeb0c</td>\n      <td>2023-07-07T18:55:47Z</td>\n      <td>http://id.tincanapi.com/verb/viewed</td>\n      <td>viewed</td>\n      <td>Advanced Data Management Systems (THJ)</td>\n      <td>http://id.tincanapi.com/activitytype/lms/course</td>\n      <td>UEF Moodle</td>\n      <td>NaN</td>\n      <td>False</td>\n      <td>False</td>\n    </tr>\n    <tr>\n      <th>1</th>\n      <td>UEF</td>\n      <td>Advanced Data Management Systems (THJ)</td>\n      <td>aeb0c</td>\n      <td>2023-07-07T15:21:18Z</td>\n      <td>http://id.tincanapi.com/verb/viewed</td>\n      <td>viewed</td>\n      <td>Assignment Instructions: ER &amp; EER</td>\n      <td>http://adlnet.gov/expapi/activities/link</td>\n      <td>UEF Moodle &gt; Advanced Data Management Systems ...</td>\n      <td>NaN</td>\n      <td>False</td>\n      <td>False</td>\n    </tr>\n    <tr>\n      <th>2</th>\n      <td>UEF</td>\n      <td>Advanced Data Management Systems (THJ)</td>\n      <td>aeb0c</td>\n      <td>2023-07-07T15:08:13Z</td>\n      <td>http://id.tincanapi.com/verb/viewed</td>\n      <td>viewed</td>\n      <td>Recording: Intro lecture</td>\n      <td>http://adlnet.gov/expapi/activities/link</td>\n      <td>UEF Moodle &gt; Advanced Data Management Systems ...</td>\n      <td>NaN</td>\n      <td>False</td>\n      <td>False</td>\n    </tr>\n    <tr>\n      <th>3</th>\n      <td>UEF</td>\n      <td>Advanced Data Management Systems (THJ)</td>\n      <td>aeb0c</td>\n      <td>2023-07-07T15:08:10Z</td>\n      <td>http://id.tincanapi.com/verb/viewed</td>\n      <td>viewed</td>\n      <td>Advanced Data Management Systems (THJ)</td>\n      <td>http://id.tincanapi.com/activitytype/lms/course</td>\n      <td>UEF Moodle</td>\n      <td>NaN</td>\n      <td>False</td>\n      <td>False</td>\n    </tr>\n    <tr>\n      <th>4</th>\n      <td>UEF</td>\n      <td>Advanced Data Management Systems (THJ)</td>\n      <td>aeb0c</td>\n      <td>2023-07-07T09:03:32Z</td>\n      <td>http://id.tincanapi.com/verb/viewed</td>\n      <td>viewed</td>\n      <td>Advanced Data Management Systems (THJ)</td>\n      <td>http://id.tincanapi.com/activitytype/lms/course</td>\n      <td>UEF Moodle</td>\n      <td>NaN</td>\n      <td>False</td>\n      <td>False</td>\n    </tr>\n    <tr>\n      <th>...</th>\n      <td>...</td>\n      <td>...</td>\n      <td>...</td>\n      <td>...</td>\n      <td>...</td>\n      <td>...</td>\n      <td>...</td>\n      <td>...</td>\n      <td>...</td>\n      <td>...</td>\n      <td>...</td>\n      <td>...</td>\n    </tr>\n    <tr>\n      <th>306740</th>\n      <td>BMU</td>\n      <td>IT131</td>\n      <td>2db36</td>\n      <td>2023-06-16T16:52:55Z</td>\n      <td>http://adlnet.gov/expapi/verbs/scored</td>\n      <td>attained grade for</td>\n      <td>Lekcija 7 - IP adresiranje i sabnetovanje - Tr...</td>\n      <td>http://adlnet.gov/expapi/activities/assessment</td>\n      <td>LAMS &gt; 220870</td>\n      <td>1.0</td>\n      <td>True</td>\n      <td>True</td>\n    </tr>\n    <tr>\n      <th>306741</th>\n      <td>BMU</td>\n      <td>IT131</td>\n      <td>fc5fe</td>\n      <td>2023-06-16T17:58:19Z</td>\n      <td>http://adlnet.gov/expapi/verbs/scored</td>\n      <td>attained grade for</td>\n      <td>Lekcija 8 - Transportni sloj - Tradicionalna n...</td>\n      <td>http://adlnet.gov/expapi/activities/assessment</td>\n      <td>LAMS &gt; 221218</td>\n      <td>1.0</td>\n      <td>True</td>\n      <td>True</td>\n    </tr>\n    <tr>\n      <th>306742</th>\n      <td>BMU</td>\n      <td>IT131</td>\n      <td>d0f73</td>\n      <td>2023-06-16T17:08:43Z</td>\n      <td>http://adlnet.gov/expapi/verbs/scored</td>\n      <td>attained grade for</td>\n      <td>Lekcija 9 - Principi rada TCP protokola - Trad...</td>\n      <td>http://adlnet.gov/expapi/activities/assessment</td>\n      <td>LAMS &gt; 221910</td>\n      <td>0.2</td>\n      <td>True</td>\n      <td>True</td>\n    </tr>\n    <tr>\n      <th>306743</th>\n      <td>BMU</td>\n      <td>IT131</td>\n      <td>dfea0</td>\n      <td>2023-06-16T17:43:28Z</td>\n      <td>http://adlnet.gov/expapi/verbs/scored</td>\n      <td>attained grade for</td>\n      <td>IT131 - L04 (638138597640325722 - Tradicionalno)</td>\n      <td>http://adlnet.gov/expapi/activities/assessment</td>\n      <td>LAMS &gt; 219720</td>\n      <td>1.0</td>\n      <td>True</td>\n      <td>True</td>\n    </tr>\n    <tr>\n      <th>306744</th>\n      <td>BMU</td>\n      <td>IT131</td>\n      <td>7f889</td>\n      <td>2023-06-09T16:23:38Z</td>\n      <td>http://adlnet.gov/expapi/verbs/answered</td>\n      <td>answered</td>\n      <td>IT131-T02-Pitanje 15</td>\n      <td>http://adlnet.gov/expapi/activities/cmi.intera...</td>\n      <td>LAMS &gt; test &gt; Pitanje 15 &gt; Attempt</td>\n      <td>0.0</td>\n      <td>False</td>\n      <td>True</td>\n    </tr>\n  </tbody>\n</table>\n<p>306745 rows × 12 columns</p>\n</div>"
     },
     "execution_count": 2,
     "metadata": {},
     "output_type": "execute_result"
    }
   ],
   "source": [
    "df = pd.read_csv('../data/ILEDA_anonymized.csv')\n",
    "df"
   ],
   "metadata": {
    "collapsed": false,
    "ExecuteTime": {
     "end_time": "2023-11-05T14:18:21.059035200Z",
     "start_time": "2023-11-05T14:18:19.563260800Z"
    }
   },
   "id": "3971c73d035ec26c"
  },
  {
   "cell_type": "markdown",
   "source": [
    "# Duplicate values"
   ],
   "metadata": {
    "collapsed": false
   },
   "id": "795c0b8b296ad3db"
  },
  {
   "cell_type": "code",
   "execution_count": 3,
   "outputs": [
    {
     "data": {
      "text/plain": "(306745, 12)"
     },
     "execution_count": 3,
     "metadata": {},
     "output_type": "execute_result"
    }
   ],
   "source": [
    "(df.shape)"
   ],
   "metadata": {
    "collapsed": false,
    "ExecuteTime": {
     "end_time": "2023-11-05T14:18:21.059035200Z",
     "start_time": "2023-11-05T14:18:21.059035200Z"
    }
   },
   "id": "f2476e0c39f821e4"
  },
  {
   "cell_type": "code",
   "execution_count": 4,
   "outputs": [
    {
     "data": {
      "text/plain": "7454"
     },
     "execution_count": 4,
     "metadata": {},
     "output_type": "execute_result"
    }
   ],
   "source": [
    "df.shape[0] - df.drop_duplicates().shape[0]"
   ],
   "metadata": {
    "collapsed": false,
    "ExecuteTime": {
     "end_time": "2023-11-05T14:18:21.499601800Z",
     "start_time": "2023-11-05T14:18:21.059035200Z"
    }
   },
   "id": "19baad5ba9c249e1"
  },
  {
   "cell_type": "markdown",
   "source": [
    "There are 7454 duplicate rows in the dataset, which we have to drop."
   ],
   "metadata": {
    "collapsed": false
   },
   "id": "52b6c5d6625ce00c"
  },
  {
   "cell_type": "code",
   "execution_count": 5,
   "outputs": [
    {
     "data": {
      "text/plain": "(299291, 12)"
     },
     "execution_count": 5,
     "metadata": {},
     "output_type": "execute_result"
    }
   ],
   "source": [
    "df.drop_duplicates(inplace=True)\n",
    "df.shape"
   ],
   "metadata": {
    "collapsed": false,
    "ExecuteTime": {
     "end_time": "2023-11-05T14:18:22.117325700Z",
     "start_time": "2023-11-05T14:18:21.499601800Z"
    }
   },
   "id": "f2c839f251a67f69"
  },
  {
   "cell_type": "markdown",
   "source": [
    "# Dataset statistics"
   ],
   "metadata": {
    "collapsed": false
   },
   "id": "c00a3b2a8e9d6ac1"
  },
  {
   "cell_type": "code",
   "execution_count": 6,
   "outputs": [
    {
     "name": "stdout",
     "output_type": "stream",
     "text": [
      "<class 'pandas.core.frame.DataFrame'>\n",
      "Index: 299291 entries, 0 to 306739\n",
      "Data columns (total 12 columns):\n",
      " #   Column                  Non-Null Count   Dtype  \n",
      "---  ------                  --------------   -----  \n",
      " 0   Institution             299291 non-null  object \n",
      " 1   Course                  299291 non-null  object \n",
      " 2   actor.id                299291 non-null  object \n",
      " 3   timestamp               299291 non-null  object \n",
      " 4   verb.id                 299291 non-null  object \n",
      " 5   verb.display            299291 non-null  object \n",
      " 6   object.definition.name  299291 non-null  object \n",
      " 7   object.definition.type  299291 non-null  object \n",
      " 8   context                 299291 non-null  object \n",
      " 9   result.score.scaled     11558 non-null   float64\n",
      " 10  result.success          299291 non-null  bool   \n",
      " 11  result.completion       299291 non-null  bool   \n",
      "dtypes: bool(2), float64(1), object(9)\n",
      "memory usage: 25.7+ MB\n"
     ]
    }
   ],
   "source": [
    "df.info()"
   ],
   "metadata": {
    "collapsed": false,
    "ExecuteTime": {
     "end_time": "2023-11-05T14:18:22.215136900Z",
     "start_time": "2023-11-05T14:18:22.101688600Z"
    }
   },
   "id": "288017d06a81376"
  },
  {
   "cell_type": "code",
   "execution_count": 7,
   "outputs": [
    {
     "data": {
      "text/plain": "       Institution                                   Course actor.id  \\\ncount       299291                                   299291   299291   \nunique           4                                        8      829   \ntop            UEF  Ihminen ja vuorovaikutteinen teknologia    76d01   \nfreq        153290                                   134855     6255   \nmean           NaN                                      NaN      NaN   \nstd            NaN                                      NaN      NaN   \nmin            NaN                                      NaN      NaN   \n25%            NaN                                      NaN      NaN   \n50%            NaN                                      NaN      NaN   \n75%            NaN                                      NaN      NaN   \nmax            NaN                                      NaN      NaN   \n\n                   timestamp                              verb.id  \\\ncount                 299291                               299291   \nunique                245548                                   10   \ntop     2023-06-04T23:09:00Z  http://id.tincanapi.com/verb/viewed   \nfreq                      67                               229721   \nmean                     NaN                                  NaN   \nstd                      NaN                                  NaN   \nmin                      NaN                                  NaN   \n25%                      NaN                                  NaN   \n50%                      NaN                                  NaN   \n75%                      NaN                                  NaN   \nmax                      NaN                                  NaN   \n\n       verb.display                   object.definition.name  \\\ncount        299291                                   299291   \nunique           10                                     1549   \ntop          viewed  Ihminen ja vuorovaikutteinen teknologia   \nfreq         229721                                    34133   \nmean            NaN                                      NaN   \nstd             NaN                                      NaN   \nmin             NaN                                      NaN   \n25%             NaN                                      NaN   \n50%             NaN                                      NaN   \n75%             NaN                                      NaN   \nmax             NaN                                      NaN   \n\n                                 object.definition.type  \\\ncount                                            299291   \nunique                                               15   \ntop     http://id.tincanapi.com/activitytype/lms/course   \nfreq                                             102682   \nmean                                                NaN   \nstd                                                 NaN   \nmin                                                 NaN   \n25%                                                 NaN   \n50%                                                 NaN   \n75%                                                 NaN   \nmax                                                 NaN   \n\n                                                  context  \\\ncount                                              299291   \nunique                                                189   \ntop     UEF Moodle > Ihminen ja vuorovaikutteinen tekn...   \nfreq                                                45880   \nmean                                                  NaN   \nstd                                                   NaN   \nmin                                                   NaN   \n25%                                                   NaN   \n50%                                                   NaN   \n75%                                                   NaN   \nmax                                                   NaN   \n\n        result.score.scaled result.success result.completion  \ncount           11558.00000         299291            299291  \nunique                  NaN              2                 2  \ntop                     NaN          False             False  \nfreq                    NaN         266458            257343  \nmean                0.78472            NaN               NaN  \nstd                 0.35866            NaN               NaN  \nmin                 0.00000            NaN               NaN  \n25%                 0.70000            NaN               NaN  \n50%                 1.00000            NaN               NaN  \n75%                 1.00000            NaN               NaN  \nmax                 1.00000            NaN               NaN  ",
      "text/html": "<div>\n<style scoped>\n    .dataframe tbody tr th:only-of-type {\n        vertical-align: middle;\n    }\n\n    .dataframe tbody tr th {\n        vertical-align: top;\n    }\n\n    .dataframe thead th {\n        text-align: right;\n    }\n</style>\n<table border=\"1\" class=\"dataframe\">\n  <thead>\n    <tr style=\"text-align: right;\">\n      <th></th>\n      <th>Institution</th>\n      <th>Course</th>\n      <th>actor.id</th>\n      <th>timestamp</th>\n      <th>verb.id</th>\n      <th>verb.display</th>\n      <th>object.definition.name</th>\n      <th>object.definition.type</th>\n      <th>context</th>\n      <th>result.score.scaled</th>\n      <th>result.success</th>\n      <th>result.completion</th>\n    </tr>\n  </thead>\n  <tbody>\n    <tr>\n      <th>count</th>\n      <td>299291</td>\n      <td>299291</td>\n      <td>299291</td>\n      <td>299291</td>\n      <td>299291</td>\n      <td>299291</td>\n      <td>299291</td>\n      <td>299291</td>\n      <td>299291</td>\n      <td>11558.00000</td>\n      <td>299291</td>\n      <td>299291</td>\n    </tr>\n    <tr>\n      <th>unique</th>\n      <td>4</td>\n      <td>8</td>\n      <td>829</td>\n      <td>245548</td>\n      <td>10</td>\n      <td>10</td>\n      <td>1549</td>\n      <td>15</td>\n      <td>189</td>\n      <td>NaN</td>\n      <td>2</td>\n      <td>2</td>\n    </tr>\n    <tr>\n      <th>top</th>\n      <td>UEF</td>\n      <td>Ihminen ja vuorovaikutteinen teknologia</td>\n      <td>76d01</td>\n      <td>2023-06-04T23:09:00Z</td>\n      <td>http://id.tincanapi.com/verb/viewed</td>\n      <td>viewed</td>\n      <td>Ihminen ja vuorovaikutteinen teknologia</td>\n      <td>http://id.tincanapi.com/activitytype/lms/course</td>\n      <td>UEF Moodle &gt; Ihminen ja vuorovaikutteinen tekn...</td>\n      <td>NaN</td>\n      <td>False</td>\n      <td>False</td>\n    </tr>\n    <tr>\n      <th>freq</th>\n      <td>153290</td>\n      <td>134855</td>\n      <td>6255</td>\n      <td>67</td>\n      <td>229721</td>\n      <td>229721</td>\n      <td>34133</td>\n      <td>102682</td>\n      <td>45880</td>\n      <td>NaN</td>\n      <td>266458</td>\n      <td>257343</td>\n    </tr>\n    <tr>\n      <th>mean</th>\n      <td>NaN</td>\n      <td>NaN</td>\n      <td>NaN</td>\n      <td>NaN</td>\n      <td>NaN</td>\n      <td>NaN</td>\n      <td>NaN</td>\n      <td>NaN</td>\n      <td>NaN</td>\n      <td>0.78472</td>\n      <td>NaN</td>\n      <td>NaN</td>\n    </tr>\n    <tr>\n      <th>std</th>\n      <td>NaN</td>\n      <td>NaN</td>\n      <td>NaN</td>\n      <td>NaN</td>\n      <td>NaN</td>\n      <td>NaN</td>\n      <td>NaN</td>\n      <td>NaN</td>\n      <td>NaN</td>\n      <td>0.35866</td>\n      <td>NaN</td>\n      <td>NaN</td>\n    </tr>\n    <tr>\n      <th>min</th>\n      <td>NaN</td>\n      <td>NaN</td>\n      <td>NaN</td>\n      <td>NaN</td>\n      <td>NaN</td>\n      <td>NaN</td>\n      <td>NaN</td>\n      <td>NaN</td>\n      <td>NaN</td>\n      <td>0.00000</td>\n      <td>NaN</td>\n      <td>NaN</td>\n    </tr>\n    <tr>\n      <th>25%</th>\n      <td>NaN</td>\n      <td>NaN</td>\n      <td>NaN</td>\n      <td>NaN</td>\n      <td>NaN</td>\n      <td>NaN</td>\n      <td>NaN</td>\n      <td>NaN</td>\n      <td>NaN</td>\n      <td>0.70000</td>\n      <td>NaN</td>\n      <td>NaN</td>\n    </tr>\n    <tr>\n      <th>50%</th>\n      <td>NaN</td>\n      <td>NaN</td>\n      <td>NaN</td>\n      <td>NaN</td>\n      <td>NaN</td>\n      <td>NaN</td>\n      <td>NaN</td>\n      <td>NaN</td>\n      <td>NaN</td>\n      <td>1.00000</td>\n      <td>NaN</td>\n      <td>NaN</td>\n    </tr>\n    <tr>\n      <th>75%</th>\n      <td>NaN</td>\n      <td>NaN</td>\n      <td>NaN</td>\n      <td>NaN</td>\n      <td>NaN</td>\n      <td>NaN</td>\n      <td>NaN</td>\n      <td>NaN</td>\n      <td>NaN</td>\n      <td>1.00000</td>\n      <td>NaN</td>\n      <td>NaN</td>\n    </tr>\n    <tr>\n      <th>max</th>\n      <td>NaN</td>\n      <td>NaN</td>\n      <td>NaN</td>\n      <td>NaN</td>\n      <td>NaN</td>\n      <td>NaN</td>\n      <td>NaN</td>\n      <td>NaN</td>\n      <td>NaN</td>\n      <td>1.00000</td>\n      <td>NaN</td>\n      <td>NaN</td>\n    </tr>\n  </tbody>\n</table>\n</div>"
     },
     "execution_count": 7,
     "metadata": {},
     "output_type": "execute_result"
    }
   ],
   "source": [
    "df.describe(include='all')"
   ],
   "metadata": {
    "collapsed": false,
    "ExecuteTime": {
     "end_time": "2023-11-05T14:18:22.768499400Z",
     "start_time": "2023-11-05T14:18:22.215136900Z"
    }
   },
   "id": "70c2a032a1e3423b"
  },
  {
   "cell_type": "code",
   "execution_count": 8,
   "outputs": [
    {
     "data": {
      "text/plain": "      Institution                        Course actor.id  \\\n0             BMU                         CS120    05aba   \n1             BMU                         CS120    05aba   \n2             BMU                         CS120    05aba   \n3             BMU                         CS120    05aba   \n4             BMU                         CS120    05aba   \n...           ...                           ...      ...   \n11553          UL  ARQUITECTURA DE COMPUTADORES    fa4d0   \n11554          UL  ARQUITECTURA DE COMPUTADORES    fa4d0   \n11555          UL  ARQUITECTURA DE COMPUTADORES    fa4d0   \n11556          UL  ARQUITECTURA DE COMPUTADORES    fee26   \n11557          UL  ARQUITECTURA DE COMPUTADORES    fee26   \n\n                  timestamp                                   verb.id  \\\n0      2023-03-18T18:55:20Z   http://adlnet.gov/expapi/verbs/answered   \n1      2023-03-18T18:55:20Z   http://adlnet.gov/expapi/verbs/answered   \n2      2023-03-18T18:55:20Z   http://adlnet.gov/expapi/verbs/answered   \n3      2023-03-18T18:55:20Z   http://adlnet.gov/expapi/verbs/answered   \n4      2023-03-18T18:55:20Z   http://adlnet.gov/expapi/verbs/answered   \n...                     ...                                       ...   \n11553  2023-06-01T16:59:31Z  http://adlnet.gov/expapi/verbs/completed   \n11554  2023-06-02T10:47:07Z     http://adlnet.gov/expapi/verbs/scored   \n11555  2023-06-07T09:15:26Z  http://adlnet.gov/expapi/verbs/completed   \n11556  2023-02-23T17:11:26Z  http://adlnet.gov/expapi/verbs/completed   \n11557  2023-06-02T10:44:09Z     http://adlnet.gov/expapi/verbs/scored   \n\n             verb.display                      object.definition.name  \\\n0                answered                        CS120-T01-Pitanje 20   \n1                answered                        CS120-T01-Pitanje 25   \n2                answered                        CS120-T01-Pitanje 28   \n3                answered                        CS120-T01-Pitanje 39   \n4                answered                         CS120-T01-Pitanje 4   \n...                   ...                                         ...   \n11553           completed                            Lab#6 Defense G4   \n11554  attained grade for                           Lab Assignment #6   \n11555           completed             Defence quizz lab Assignment #4   \n11556           completed  Initial evaluation quizz lab assignment #1   \n11557  attained grade for                           Lab Assignment #6   \n\n                                  object.definition.type  \\\n0      http://adlnet.gov/expapi/activities/cmi.intera...   \n1      http://adlnet.gov/expapi/activities/cmi.intera...   \n2      http://adlnet.gov/expapi/activities/cmi.intera...   \n3      http://adlnet.gov/expapi/activities/cmi.intera...   \n4      http://adlnet.gov/expapi/activities/cmi.intera...   \n...                                                  ...   \n11553             http://xapi.jisc.ac.uk/activities/quiz   \n11554     http://adlnet.gov/expapi/activities/assessment   \n11555             http://xapi.jisc.ac.uk/activities/quiz   \n11556             http://xapi.jisc.ac.uk/activities/quiz   \n11557     http://adlnet.gov/expapi/activities/assessment   \n\n                                                 context  result.score.scaled  \\\n0                     LAMS > test > Pitanje 20 > Attempt             0.000000   \n1                     LAMS > test > Pitanje 25 > Attempt             1.000000   \n2                     LAMS > test > Pitanje 28 > Attempt             1.000000   \n3                     LAMS > test > Pitanje 39 > Attempt             1.000000   \n4                      LAMS > test > Pitanje 4 > Attempt             1.000000   \n...                                                  ...                  ...   \n11553  New Site > ARQUITECTURA DE COMPUTADORES - Grad...             0.560000   \n11554  New Site > ARQUITECTURA DE COMPUTADORES - Grad...             0.560000   \n11555  New Site > ARQUITECTURA DE COMPUTADORES - Grad...             0.708333   \n11556  New Site > ARQUITECTURA DE COMPUTADORES - Grad...             0.333333   \n11557  New Site > ARQUITECTURA DE COMPUTADORES - Grad...             0.000000   \n\n       result.success  result.completion  size  \n0               False               True     1  \n1                True               True     1  \n2                True               True     1  \n3                True               True     1  \n4                True               True     1  \n...               ...                ...   ...  \n11553            True               True     1  \n11554            True               True     1  \n11555            True               True     1  \n11556            True               True     1  \n11557            True               True     1  \n\n[11558 rows x 13 columns]",
      "text/html": "<div>\n<style scoped>\n    .dataframe tbody tr th:only-of-type {\n        vertical-align: middle;\n    }\n\n    .dataframe tbody tr th {\n        vertical-align: top;\n    }\n\n    .dataframe thead th {\n        text-align: right;\n    }\n</style>\n<table border=\"1\" class=\"dataframe\">\n  <thead>\n    <tr style=\"text-align: right;\">\n      <th></th>\n      <th>Institution</th>\n      <th>Course</th>\n      <th>actor.id</th>\n      <th>timestamp</th>\n      <th>verb.id</th>\n      <th>verb.display</th>\n      <th>object.definition.name</th>\n      <th>object.definition.type</th>\n      <th>context</th>\n      <th>result.score.scaled</th>\n      <th>result.success</th>\n      <th>result.completion</th>\n      <th>size</th>\n    </tr>\n  </thead>\n  <tbody>\n    <tr>\n      <th>0</th>\n      <td>BMU</td>\n      <td>CS120</td>\n      <td>05aba</td>\n      <td>2023-03-18T18:55:20Z</td>\n      <td>http://adlnet.gov/expapi/verbs/answered</td>\n      <td>answered</td>\n      <td>CS120-T01-Pitanje 20</td>\n      <td>http://adlnet.gov/expapi/activities/cmi.intera...</td>\n      <td>LAMS &gt; test &gt; Pitanje 20 &gt; Attempt</td>\n      <td>0.000000</td>\n      <td>False</td>\n      <td>True</td>\n      <td>1</td>\n    </tr>\n    <tr>\n      <th>1</th>\n      <td>BMU</td>\n      <td>CS120</td>\n      <td>05aba</td>\n      <td>2023-03-18T18:55:20Z</td>\n      <td>http://adlnet.gov/expapi/verbs/answered</td>\n      <td>answered</td>\n      <td>CS120-T01-Pitanje 25</td>\n      <td>http://adlnet.gov/expapi/activities/cmi.intera...</td>\n      <td>LAMS &gt; test &gt; Pitanje 25 &gt; Attempt</td>\n      <td>1.000000</td>\n      <td>True</td>\n      <td>True</td>\n      <td>1</td>\n    </tr>\n    <tr>\n      <th>2</th>\n      <td>BMU</td>\n      <td>CS120</td>\n      <td>05aba</td>\n      <td>2023-03-18T18:55:20Z</td>\n      <td>http://adlnet.gov/expapi/verbs/answered</td>\n      <td>answered</td>\n      <td>CS120-T01-Pitanje 28</td>\n      <td>http://adlnet.gov/expapi/activities/cmi.intera...</td>\n      <td>LAMS &gt; test &gt; Pitanje 28 &gt; Attempt</td>\n      <td>1.000000</td>\n      <td>True</td>\n      <td>True</td>\n      <td>1</td>\n    </tr>\n    <tr>\n      <th>3</th>\n      <td>BMU</td>\n      <td>CS120</td>\n      <td>05aba</td>\n      <td>2023-03-18T18:55:20Z</td>\n      <td>http://adlnet.gov/expapi/verbs/answered</td>\n      <td>answered</td>\n      <td>CS120-T01-Pitanje 39</td>\n      <td>http://adlnet.gov/expapi/activities/cmi.intera...</td>\n      <td>LAMS &gt; test &gt; Pitanje 39 &gt; Attempt</td>\n      <td>1.000000</td>\n      <td>True</td>\n      <td>True</td>\n      <td>1</td>\n    </tr>\n    <tr>\n      <th>4</th>\n      <td>BMU</td>\n      <td>CS120</td>\n      <td>05aba</td>\n      <td>2023-03-18T18:55:20Z</td>\n      <td>http://adlnet.gov/expapi/verbs/answered</td>\n      <td>answered</td>\n      <td>CS120-T01-Pitanje 4</td>\n      <td>http://adlnet.gov/expapi/activities/cmi.intera...</td>\n      <td>LAMS &gt; test &gt; Pitanje 4 &gt; Attempt</td>\n      <td>1.000000</td>\n      <td>True</td>\n      <td>True</td>\n      <td>1</td>\n    </tr>\n    <tr>\n      <th>...</th>\n      <td>...</td>\n      <td>...</td>\n      <td>...</td>\n      <td>...</td>\n      <td>...</td>\n      <td>...</td>\n      <td>...</td>\n      <td>...</td>\n      <td>...</td>\n      <td>...</td>\n      <td>...</td>\n      <td>...</td>\n      <td>...</td>\n    </tr>\n    <tr>\n      <th>11553</th>\n      <td>UL</td>\n      <td>ARQUITECTURA DE COMPUTADORES</td>\n      <td>fa4d0</td>\n      <td>2023-06-01T16:59:31Z</td>\n      <td>http://adlnet.gov/expapi/verbs/completed</td>\n      <td>completed</td>\n      <td>Lab#6 Defense G4</td>\n      <td>http://xapi.jisc.ac.uk/activities/quiz</td>\n      <td>New Site &gt; ARQUITECTURA DE COMPUTADORES - Grad...</td>\n      <td>0.560000</td>\n      <td>True</td>\n      <td>True</td>\n      <td>1</td>\n    </tr>\n    <tr>\n      <th>11554</th>\n      <td>UL</td>\n      <td>ARQUITECTURA DE COMPUTADORES</td>\n      <td>fa4d0</td>\n      <td>2023-06-02T10:47:07Z</td>\n      <td>http://adlnet.gov/expapi/verbs/scored</td>\n      <td>attained grade for</td>\n      <td>Lab Assignment #6</td>\n      <td>http://adlnet.gov/expapi/activities/assessment</td>\n      <td>New Site &gt; ARQUITECTURA DE COMPUTADORES - Grad...</td>\n      <td>0.560000</td>\n      <td>True</td>\n      <td>True</td>\n      <td>1</td>\n    </tr>\n    <tr>\n      <th>11555</th>\n      <td>UL</td>\n      <td>ARQUITECTURA DE COMPUTADORES</td>\n      <td>fa4d0</td>\n      <td>2023-06-07T09:15:26Z</td>\n      <td>http://adlnet.gov/expapi/verbs/completed</td>\n      <td>completed</td>\n      <td>Defence quizz lab Assignment #4</td>\n      <td>http://xapi.jisc.ac.uk/activities/quiz</td>\n      <td>New Site &gt; ARQUITECTURA DE COMPUTADORES - Grad...</td>\n      <td>0.708333</td>\n      <td>True</td>\n      <td>True</td>\n      <td>1</td>\n    </tr>\n    <tr>\n      <th>11556</th>\n      <td>UL</td>\n      <td>ARQUITECTURA DE COMPUTADORES</td>\n      <td>fee26</td>\n      <td>2023-02-23T17:11:26Z</td>\n      <td>http://adlnet.gov/expapi/verbs/completed</td>\n      <td>completed</td>\n      <td>Initial evaluation quizz lab assignment #1</td>\n      <td>http://xapi.jisc.ac.uk/activities/quiz</td>\n      <td>New Site &gt; ARQUITECTURA DE COMPUTADORES - Grad...</td>\n      <td>0.333333</td>\n      <td>True</td>\n      <td>True</td>\n      <td>1</td>\n    </tr>\n    <tr>\n      <th>11557</th>\n      <td>UL</td>\n      <td>ARQUITECTURA DE COMPUTADORES</td>\n      <td>fee26</td>\n      <td>2023-06-02T10:44:09Z</td>\n      <td>http://adlnet.gov/expapi/verbs/scored</td>\n      <td>attained grade for</td>\n      <td>Lab Assignment #6</td>\n      <td>http://adlnet.gov/expapi/activities/assessment</td>\n      <td>New Site &gt; ARQUITECTURA DE COMPUTADORES - Grad...</td>\n      <td>0.000000</td>\n      <td>True</td>\n      <td>True</td>\n      <td>1</td>\n    </tr>\n  </tbody>\n</table>\n<p>11558 rows × 13 columns</p>\n</div>"
     },
     "execution_count": 8,
     "metadata": {},
     "output_type": "execute_result"
    }
   ],
   "source": [
    "df.groupby(df.columns.tolist(), as_index=False).size()"
   ],
   "metadata": {
    "collapsed": false,
    "ExecuteTime": {
     "end_time": "2023-11-05T14:18:23.607223Z",
     "start_time": "2023-11-05T14:18:22.752857300Z"
    }
   },
   "id": "58dc5def16b5d1e9"
  },
  {
   "cell_type": "markdown",
   "source": [
    "# Columns"
   ],
   "metadata": {
    "collapsed": false
   },
   "id": "ef37a22e041ceea8"
  },
  {
   "cell_type": "markdown",
   "source": [
    "## Verb"
   ],
   "metadata": {
    "collapsed": false
   },
   "id": "a6b720f7c5afcc5f"
  },
  {
   "cell_type": "code",
   "execution_count": 9,
   "outputs": [
    {
     "data": {
      "text/plain": "verb.id\nhttp://id.tincanapi.com/verb/viewed           229721\nhttp://adlnet.gov/expapi/verbs/answered        33546\nhttp://adlnet.gov/expapi/verbs/completed       18224\nhttp://activitystrea.ms/schema/1.0/receive      6582\nhttp://activitystrea.ms/schema/1.0/start        4400\nhttp://adlnet.gov/expapi/verbs/scored           4236\nhttp://activitystrea.ms/schema/1.0/submit       1481\nhttp://activitystrea.ms/schema/1.0/create        931\nhttp://activitystrea.ms/schema/1.0/join          136\nhttp://activitystrea.ms/schema/1.0/leave          34\nName: count, dtype: int64"
     },
     "execution_count": 9,
     "metadata": {},
     "output_type": "execute_result"
    }
   ],
   "source": [
    "df['verb.id'].value_counts()"
   ],
   "metadata": {
    "collapsed": false,
    "ExecuteTime": {
     "end_time": "2023-11-05T14:18:23.622561400Z",
     "start_time": "2023-11-05T14:18:23.591582800Z"
    }
   },
   "id": "da97a2b5b2d8bc87"
  },
  {
   "cell_type": "code",
   "execution_count": 10,
   "outputs": [],
   "source": [
    "df['verb.id'] = df['verb.id'].str.split('/').str[-1]"
   ],
   "metadata": {
    "collapsed": false,
    "ExecuteTime": {
     "end_time": "2023-11-05T14:18:24.485910300Z",
     "start_time": "2023-11-05T14:18:23.622561400Z"
    }
   },
   "id": "aa2d05b878a1bfd4"
  },
  {
   "cell_type": "code",
   "execution_count": 11,
   "outputs": [
    {
     "data": {
      "text/plain": "       Institution                                  Course actor.id  \\\n0              UEF  Advanced Data Management Systems (THJ)    aeb0c   \n1              UEF  Advanced Data Management Systems (THJ)    aeb0c   \n2              UEF  Advanced Data Management Systems (THJ)    aeb0c   \n3              UEF  Advanced Data Management Systems (THJ)    aeb0c   \n4              UEF  Advanced Data Management Systems (THJ)    aeb0c   \n...            ...                                     ...      ...   \n306723         BMU                                   IT131    87441   \n306724         BMU                                   IT131    1c33c   \n306730         BMU                                   IT131    98607   \n306734         BMU                                   IT131    98607   \n306739         BMU                                   IT131    00c5e   \n\n                   timestamp    verb.id verb.display  \\\n0       2023-07-07T18:55:47Z     viewed       viewed   \n1       2023-07-07T15:21:18Z     viewed       viewed   \n2       2023-07-07T15:08:13Z     viewed       viewed   \n3       2023-07-07T15:08:10Z     viewed       viewed   \n4       2023-07-07T09:03:32Z     viewed       viewed   \n...                      ...        ...          ...   \n306723  2023-06-11T22:57:27Z   answered     answered   \n306724  2023-05-16T00:05:45Z   answered     answered   \n306730  2023-05-12T22:10:50Z  completed    completed   \n306734  2023-02-27T22:45:33Z  completed    completed   \n306739  2023-06-01T21:23:16Z   answered     answered   \n\n                                   object.definition.name  \\\n0                  Advanced Data Management Systems (THJ)   \n1                       Assignment Instructions: ER & EER   \n2                                Recording: Intro lecture   \n3                  Advanced Data Management Systems (THJ)   \n4                  Advanced Data Management Systems (THJ)   \n...                                                   ...   \n306723                               IT131-T05-Pitanje 13   \n306724                               IT131-T03-Pitanje 15   \n306730                                          IT131-T03   \n306734  Lekcija 2 - Osnove umrežavanja - Tradicionalna...   \n306739                               IT131-T04-Pitanje 20   \n\n                                   object.definition.type  \\\n0         http://id.tincanapi.com/activitytype/lms/course   \n1                http://adlnet.gov/expapi/activities/link   \n2                http://adlnet.gov/expapi/activities/link   \n3         http://id.tincanapi.com/activitytype/lms/course   \n4         http://id.tincanapi.com/activitytype/lms/course   \n...                                                   ...   \n306723  http://adlnet.gov/expapi/activities/cmi.intera...   \n306724  http://adlnet.gov/expapi/activities/cmi.intera...   \n306730     http://adlnet.gov/expapi/activities/assessment   \n306734    http://id.tincanapi.com/activitytype/lms/module   \n306739  http://adlnet.gov/expapi/activities/cmi.intera...   \n\n                                                  context  \\\n0                                              UEF Moodle   \n1       UEF Moodle > Advanced Data Management Systems ...   \n2       UEF Moodle > Advanced Data Management Systems ...   \n3                                              UEF Moodle   \n4                                              UEF Moodle   \n...                                                   ...   \n306723                 LAMS > test > Pitanje 13 > Attempt   \n306724                 LAMS > test > Pitanje 15 > Attempt   \n306730                                        LAMS > test   \n306734                                      LAMS > 217371   \n306739                 LAMS > test > Pitanje 20 > Attempt   \n\n        result.score.scaled  result.success  result.completion  \n0                       NaN           False              False  \n1                       NaN           False              False  \n2                       NaN           False              False  \n3                       NaN           False              False  \n4                       NaN           False              False  \n...                     ...             ...                ...  \n306723                1.000            True               True  \n306724                0.000           False               True  \n306730                0.375            True               True  \n306734                  NaN           False              False  \n306739                0.000           False               True  \n\n[299291 rows x 12 columns]",
      "text/html": "<div>\n<style scoped>\n    .dataframe tbody tr th:only-of-type {\n        vertical-align: middle;\n    }\n\n    .dataframe tbody tr th {\n        vertical-align: top;\n    }\n\n    .dataframe thead th {\n        text-align: right;\n    }\n</style>\n<table border=\"1\" class=\"dataframe\">\n  <thead>\n    <tr style=\"text-align: right;\">\n      <th></th>\n      <th>Institution</th>\n      <th>Course</th>\n      <th>actor.id</th>\n      <th>timestamp</th>\n      <th>verb.id</th>\n      <th>verb.display</th>\n      <th>object.definition.name</th>\n      <th>object.definition.type</th>\n      <th>context</th>\n      <th>result.score.scaled</th>\n      <th>result.success</th>\n      <th>result.completion</th>\n    </tr>\n  </thead>\n  <tbody>\n    <tr>\n      <th>0</th>\n      <td>UEF</td>\n      <td>Advanced Data Management Systems (THJ)</td>\n      <td>aeb0c</td>\n      <td>2023-07-07T18:55:47Z</td>\n      <td>viewed</td>\n      <td>viewed</td>\n      <td>Advanced Data Management Systems (THJ)</td>\n      <td>http://id.tincanapi.com/activitytype/lms/course</td>\n      <td>UEF Moodle</td>\n      <td>NaN</td>\n      <td>False</td>\n      <td>False</td>\n    </tr>\n    <tr>\n      <th>1</th>\n      <td>UEF</td>\n      <td>Advanced Data Management Systems (THJ)</td>\n      <td>aeb0c</td>\n      <td>2023-07-07T15:21:18Z</td>\n      <td>viewed</td>\n      <td>viewed</td>\n      <td>Assignment Instructions: ER &amp; EER</td>\n      <td>http://adlnet.gov/expapi/activities/link</td>\n      <td>UEF Moodle &gt; Advanced Data Management Systems ...</td>\n      <td>NaN</td>\n      <td>False</td>\n      <td>False</td>\n    </tr>\n    <tr>\n      <th>2</th>\n      <td>UEF</td>\n      <td>Advanced Data Management Systems (THJ)</td>\n      <td>aeb0c</td>\n      <td>2023-07-07T15:08:13Z</td>\n      <td>viewed</td>\n      <td>viewed</td>\n      <td>Recording: Intro lecture</td>\n      <td>http://adlnet.gov/expapi/activities/link</td>\n      <td>UEF Moodle &gt; Advanced Data Management Systems ...</td>\n      <td>NaN</td>\n      <td>False</td>\n      <td>False</td>\n    </tr>\n    <tr>\n      <th>3</th>\n      <td>UEF</td>\n      <td>Advanced Data Management Systems (THJ)</td>\n      <td>aeb0c</td>\n      <td>2023-07-07T15:08:10Z</td>\n      <td>viewed</td>\n      <td>viewed</td>\n      <td>Advanced Data Management Systems (THJ)</td>\n      <td>http://id.tincanapi.com/activitytype/lms/course</td>\n      <td>UEF Moodle</td>\n      <td>NaN</td>\n      <td>False</td>\n      <td>False</td>\n    </tr>\n    <tr>\n      <th>4</th>\n      <td>UEF</td>\n      <td>Advanced Data Management Systems (THJ)</td>\n      <td>aeb0c</td>\n      <td>2023-07-07T09:03:32Z</td>\n      <td>viewed</td>\n      <td>viewed</td>\n      <td>Advanced Data Management Systems (THJ)</td>\n      <td>http://id.tincanapi.com/activitytype/lms/course</td>\n      <td>UEF Moodle</td>\n      <td>NaN</td>\n      <td>False</td>\n      <td>False</td>\n    </tr>\n    <tr>\n      <th>...</th>\n      <td>...</td>\n      <td>...</td>\n      <td>...</td>\n      <td>...</td>\n      <td>...</td>\n      <td>...</td>\n      <td>...</td>\n      <td>...</td>\n      <td>...</td>\n      <td>...</td>\n      <td>...</td>\n      <td>...</td>\n    </tr>\n    <tr>\n      <th>306723</th>\n      <td>BMU</td>\n      <td>IT131</td>\n      <td>87441</td>\n      <td>2023-06-11T22:57:27Z</td>\n      <td>answered</td>\n      <td>answered</td>\n      <td>IT131-T05-Pitanje 13</td>\n      <td>http://adlnet.gov/expapi/activities/cmi.intera...</td>\n      <td>LAMS &gt; test &gt; Pitanje 13 &gt; Attempt</td>\n      <td>1.000</td>\n      <td>True</td>\n      <td>True</td>\n    </tr>\n    <tr>\n      <th>306724</th>\n      <td>BMU</td>\n      <td>IT131</td>\n      <td>1c33c</td>\n      <td>2023-05-16T00:05:45Z</td>\n      <td>answered</td>\n      <td>answered</td>\n      <td>IT131-T03-Pitanje 15</td>\n      <td>http://adlnet.gov/expapi/activities/cmi.intera...</td>\n      <td>LAMS &gt; test &gt; Pitanje 15 &gt; Attempt</td>\n      <td>0.000</td>\n      <td>False</td>\n      <td>True</td>\n    </tr>\n    <tr>\n      <th>306730</th>\n      <td>BMU</td>\n      <td>IT131</td>\n      <td>98607</td>\n      <td>2023-05-12T22:10:50Z</td>\n      <td>completed</td>\n      <td>completed</td>\n      <td>IT131-T03</td>\n      <td>http://adlnet.gov/expapi/activities/assessment</td>\n      <td>LAMS &gt; test</td>\n      <td>0.375</td>\n      <td>True</td>\n      <td>True</td>\n    </tr>\n    <tr>\n      <th>306734</th>\n      <td>BMU</td>\n      <td>IT131</td>\n      <td>98607</td>\n      <td>2023-02-27T22:45:33Z</td>\n      <td>completed</td>\n      <td>completed</td>\n      <td>Lekcija 2 - Osnove umrežavanja - Tradicionalna...</td>\n      <td>http://id.tincanapi.com/activitytype/lms/module</td>\n      <td>LAMS &gt; 217371</td>\n      <td>NaN</td>\n      <td>False</td>\n      <td>False</td>\n    </tr>\n    <tr>\n      <th>306739</th>\n      <td>BMU</td>\n      <td>IT131</td>\n      <td>00c5e</td>\n      <td>2023-06-01T21:23:16Z</td>\n      <td>answered</td>\n      <td>answered</td>\n      <td>IT131-T04-Pitanje 20</td>\n      <td>http://adlnet.gov/expapi/activities/cmi.intera...</td>\n      <td>LAMS &gt; test &gt; Pitanje 20 &gt; Attempt</td>\n      <td>0.000</td>\n      <td>False</td>\n      <td>True</td>\n    </tr>\n  </tbody>\n</table>\n<p>299291 rows × 12 columns</p>\n</div>"
     },
     "execution_count": 11,
     "metadata": {},
     "output_type": "execute_result"
    }
   ],
   "source": [
    "df"
   ],
   "metadata": {
    "collapsed": false,
    "ExecuteTime": {
     "end_time": "2023-11-05T14:18:24.520918500Z",
     "start_time": "2023-11-05T14:18:24.466935900Z"
    }
   },
   "id": "2622fbf933ef9a44"
  },
  {
   "cell_type": "code",
   "execution_count": 12,
   "outputs": [
    {
     "data": {
      "text/plain": "False"
     },
     "execution_count": 12,
     "metadata": {},
     "output_type": "execute_result"
    }
   ],
   "source": [
    "all(df['verb.id'].str.split('/').str[-1] == df['verb.display'])"
   ],
   "metadata": {
    "collapsed": false,
    "ExecuteTime": {
     "end_time": "2023-11-05T14:18:25.517265800Z",
     "start_time": "2023-11-05T14:18:24.506126200Z"
    }
   },
   "id": "a0fb04f222bed8c3"
  },
  {
   "cell_type": "code",
   "execution_count": 13,
   "outputs": [
    {
     "data": {
      "text/plain": "        verb.id        verb.display\n74       scored  attained grade for\n96       scored  attained grade for\n97       scored  attained grade for\n98       scored  attained grade for\n99       scored  attained grade for\n...         ...                 ...\n306087    start             started\n306278  receive            received\n306292  receive            received\n306398    start             started\n306439    start             started\n\n[17800 rows x 2 columns]",
      "text/html": "<div>\n<style scoped>\n    .dataframe tbody tr th:only-of-type {\n        vertical-align: middle;\n    }\n\n    .dataframe tbody tr th {\n        vertical-align: top;\n    }\n\n    .dataframe thead th {\n        text-align: right;\n    }\n</style>\n<table border=\"1\" class=\"dataframe\">\n  <thead>\n    <tr style=\"text-align: right;\">\n      <th></th>\n      <th>verb.id</th>\n      <th>verb.display</th>\n    </tr>\n  </thead>\n  <tbody>\n    <tr>\n      <th>74</th>\n      <td>scored</td>\n      <td>attained grade for</td>\n    </tr>\n    <tr>\n      <th>96</th>\n      <td>scored</td>\n      <td>attained grade for</td>\n    </tr>\n    <tr>\n      <th>97</th>\n      <td>scored</td>\n      <td>attained grade for</td>\n    </tr>\n    <tr>\n      <th>98</th>\n      <td>scored</td>\n      <td>attained grade for</td>\n    </tr>\n    <tr>\n      <th>99</th>\n      <td>scored</td>\n      <td>attained grade for</td>\n    </tr>\n    <tr>\n      <th>...</th>\n      <td>...</td>\n      <td>...</td>\n    </tr>\n    <tr>\n      <th>306087</th>\n      <td>start</td>\n      <td>started</td>\n    </tr>\n    <tr>\n      <th>306278</th>\n      <td>receive</td>\n      <td>received</td>\n    </tr>\n    <tr>\n      <th>306292</th>\n      <td>receive</td>\n      <td>received</td>\n    </tr>\n    <tr>\n      <th>306398</th>\n      <td>start</td>\n      <td>started</td>\n    </tr>\n    <tr>\n      <th>306439</th>\n      <td>start</td>\n      <td>started</td>\n    </tr>\n  </tbody>\n</table>\n<p>17800 rows × 2 columns</p>\n</div>"
     },
     "execution_count": 13,
     "metadata": {},
     "output_type": "execute_result"
    }
   ],
   "source": [
    "df[df['verb.id'].str.split('/').str[-1] != df['verb.display']][['verb.id', 'verb.display']]"
   ],
   "metadata": {
    "collapsed": false,
    "ExecuteTime": {
     "end_time": "2023-11-05T14:18:26.162913800Z",
     "start_time": "2023-11-05T14:18:25.517265800Z"
    }
   },
   "id": "21365df06dacb2b"
  },
  {
   "cell_type": "code",
   "execution_count": 14,
   "outputs": [
    {
     "data": {
      "text/plain": "          verb.id        verb.display\n0          viewed              viewed\n29      completed           completed\n74         scored  attained grade for\n714        submit           submitted\n742        create             created\n763       receive            received\n892      answered            answered\n906         start             started\n153743       join              joined\n153749      leave                left",
      "text/html": "<div>\n<style scoped>\n    .dataframe tbody tr th:only-of-type {\n        vertical-align: middle;\n    }\n\n    .dataframe tbody tr th {\n        vertical-align: top;\n    }\n\n    .dataframe thead th {\n        text-align: right;\n    }\n</style>\n<table border=\"1\" class=\"dataframe\">\n  <thead>\n    <tr style=\"text-align: right;\">\n      <th></th>\n      <th>verb.id</th>\n      <th>verb.display</th>\n    </tr>\n  </thead>\n  <tbody>\n    <tr>\n      <th>0</th>\n      <td>viewed</td>\n      <td>viewed</td>\n    </tr>\n    <tr>\n      <th>29</th>\n      <td>completed</td>\n      <td>completed</td>\n    </tr>\n    <tr>\n      <th>74</th>\n      <td>scored</td>\n      <td>attained grade for</td>\n    </tr>\n    <tr>\n      <th>714</th>\n      <td>submit</td>\n      <td>submitted</td>\n    </tr>\n    <tr>\n      <th>742</th>\n      <td>create</td>\n      <td>created</td>\n    </tr>\n    <tr>\n      <th>763</th>\n      <td>receive</td>\n      <td>received</td>\n    </tr>\n    <tr>\n      <th>892</th>\n      <td>answered</td>\n      <td>answered</td>\n    </tr>\n    <tr>\n      <th>906</th>\n      <td>start</td>\n      <td>started</td>\n    </tr>\n    <tr>\n      <th>153743</th>\n      <td>join</td>\n      <td>joined</td>\n    </tr>\n    <tr>\n      <th>153749</th>\n      <td>leave</td>\n      <td>left</td>\n    </tr>\n  </tbody>\n</table>\n</div>"
     },
     "execution_count": 14,
     "metadata": {},
     "output_type": "execute_result"
    }
   ],
   "source": [
    "df[['verb.id', 'verb.display']].drop_duplicates()"
   ],
   "metadata": {
    "collapsed": false,
    "ExecuteTime": {
     "end_time": "2023-11-05T14:18:26.356342100Z",
     "start_time": "2023-11-05T14:18:26.147270400Z"
    }
   },
   "id": "9f1a2e2b52175efd"
  },
  {
   "cell_type": "markdown",
   "source": [
    "Each ID corresponds to a single display."
   ],
   "metadata": {
    "collapsed": false
   },
   "id": "5e99cd0e8f5f2a09"
  },
  {
   "cell_type": "code",
   "execution_count": 22,
   "outputs": [],
   "source": [
    "df.drop(['verb.display'], axis=1, inplace=True)"
   ],
   "metadata": {
    "collapsed": false,
    "ExecuteTime": {
     "end_time": "2023-11-05T14:19:13.404098200Z",
     "start_time": "2023-11-05T14:19:13.341046400Z"
    }
   },
   "id": "933556ffd1f31cf9"
  },
  {
   "cell_type": "code",
   "execution_count": 23,
   "outputs": [
    {
     "data": {
      "text/plain": "       Institution                            Course actor.id  \\\n0              UEF  Advanced Data Management Systems    aeb0c   \n1              UEF  Advanced Data Management Systems    aeb0c   \n2              UEF  Advanced Data Management Systems    aeb0c   \n3              UEF  Advanced Data Management Systems    aeb0c   \n4              UEF  Advanced Data Management Systems    aeb0c   \n...            ...                               ...      ...   \n306723         BMU                 Computer Networks    87441   \n306724         BMU                 Computer Networks    1c33c   \n306730         BMU                 Computer Networks    98607   \n306734         BMU                 Computer Networks    98607   \n306739         BMU                 Computer Networks    00c5e   \n\n                   timestamp    verb.id  \\\n0       2023-07-07T18:55:47Z     viewed   \n1       2023-07-07T15:21:18Z     viewed   \n2       2023-07-07T15:08:13Z     viewed   \n3       2023-07-07T15:08:10Z     viewed   \n4       2023-07-07T09:03:32Z     viewed   \n...                      ...        ...   \n306723  2023-06-11T22:57:27Z   answered   \n306724  2023-05-16T00:05:45Z   answered   \n306730  2023-05-12T22:10:50Z  completed   \n306734  2023-02-27T22:45:33Z  completed   \n306739  2023-06-01T21:23:16Z   answered   \n\n                                   object.definition.name  \\\n0                  Advanced Data Management Systems (THJ)   \n1                       Assignment Instructions: ER & EER   \n2                                Recording: Intro lecture   \n3                  Advanced Data Management Systems (THJ)   \n4                  Advanced Data Management Systems (THJ)   \n...                                                   ...   \n306723                               IT131-T05-Pitanje 13   \n306724                               IT131-T03-Pitanje 15   \n306730                                          IT131-T03   \n306734  Lekcija 2 - Osnove umrežavanja - Tradicionalna...   \n306739                               IT131-T04-Pitanje 20   \n\n                                   object.definition.type  \\\n0         http://id.tincanapi.com/activitytype/lms/course   \n1                http://adlnet.gov/expapi/activities/link   \n2                http://adlnet.gov/expapi/activities/link   \n3         http://id.tincanapi.com/activitytype/lms/course   \n4         http://id.tincanapi.com/activitytype/lms/course   \n...                                                   ...   \n306723  http://adlnet.gov/expapi/activities/cmi.intera...   \n306724  http://adlnet.gov/expapi/activities/cmi.intera...   \n306730     http://adlnet.gov/expapi/activities/assessment   \n306734    http://id.tincanapi.com/activitytype/lms/module   \n306739  http://adlnet.gov/expapi/activities/cmi.intera...   \n\n                                                  context  \\\n0                                              UEF Moodle   \n1       UEF Moodle > Advanced Data Management Systems ...   \n2       UEF Moodle > Advanced Data Management Systems ...   \n3                                              UEF Moodle   \n4                                              UEF Moodle   \n...                                                   ...   \n306723                 LAMS > test > Pitanje 13 > Attempt   \n306724                 LAMS > test > Pitanje 15 > Attempt   \n306730                                        LAMS > test   \n306734                                      LAMS > 217371   \n306739                 LAMS > test > Pitanje 20 > Attempt   \n\n        result.score.scaled  result.success  result.completion  \n0                       NaN           False              False  \n1                       NaN           False              False  \n2                       NaN           False              False  \n3                       NaN           False              False  \n4                       NaN           False              False  \n...                     ...             ...                ...  \n306723                1.000            True               True  \n306724                0.000           False               True  \n306730                0.375            True               True  \n306734                  NaN           False              False  \n306739                0.000           False               True  \n\n[299291 rows x 11 columns]",
      "text/html": "<div>\n<style scoped>\n    .dataframe tbody tr th:only-of-type {\n        vertical-align: middle;\n    }\n\n    .dataframe tbody tr th {\n        vertical-align: top;\n    }\n\n    .dataframe thead th {\n        text-align: right;\n    }\n</style>\n<table border=\"1\" class=\"dataframe\">\n  <thead>\n    <tr style=\"text-align: right;\">\n      <th></th>\n      <th>Institution</th>\n      <th>Course</th>\n      <th>actor.id</th>\n      <th>timestamp</th>\n      <th>verb.id</th>\n      <th>object.definition.name</th>\n      <th>object.definition.type</th>\n      <th>context</th>\n      <th>result.score.scaled</th>\n      <th>result.success</th>\n      <th>result.completion</th>\n    </tr>\n  </thead>\n  <tbody>\n    <tr>\n      <th>0</th>\n      <td>UEF</td>\n      <td>Advanced Data Management Systems</td>\n      <td>aeb0c</td>\n      <td>2023-07-07T18:55:47Z</td>\n      <td>viewed</td>\n      <td>Advanced Data Management Systems (THJ)</td>\n      <td>http://id.tincanapi.com/activitytype/lms/course</td>\n      <td>UEF Moodle</td>\n      <td>NaN</td>\n      <td>False</td>\n      <td>False</td>\n    </tr>\n    <tr>\n      <th>1</th>\n      <td>UEF</td>\n      <td>Advanced Data Management Systems</td>\n      <td>aeb0c</td>\n      <td>2023-07-07T15:21:18Z</td>\n      <td>viewed</td>\n      <td>Assignment Instructions: ER &amp; EER</td>\n      <td>http://adlnet.gov/expapi/activities/link</td>\n      <td>UEF Moodle &gt; Advanced Data Management Systems ...</td>\n      <td>NaN</td>\n      <td>False</td>\n      <td>False</td>\n    </tr>\n    <tr>\n      <th>2</th>\n      <td>UEF</td>\n      <td>Advanced Data Management Systems</td>\n      <td>aeb0c</td>\n      <td>2023-07-07T15:08:13Z</td>\n      <td>viewed</td>\n      <td>Recording: Intro lecture</td>\n      <td>http://adlnet.gov/expapi/activities/link</td>\n      <td>UEF Moodle &gt; Advanced Data Management Systems ...</td>\n      <td>NaN</td>\n      <td>False</td>\n      <td>False</td>\n    </tr>\n    <tr>\n      <th>3</th>\n      <td>UEF</td>\n      <td>Advanced Data Management Systems</td>\n      <td>aeb0c</td>\n      <td>2023-07-07T15:08:10Z</td>\n      <td>viewed</td>\n      <td>Advanced Data Management Systems (THJ)</td>\n      <td>http://id.tincanapi.com/activitytype/lms/course</td>\n      <td>UEF Moodle</td>\n      <td>NaN</td>\n      <td>False</td>\n      <td>False</td>\n    </tr>\n    <tr>\n      <th>4</th>\n      <td>UEF</td>\n      <td>Advanced Data Management Systems</td>\n      <td>aeb0c</td>\n      <td>2023-07-07T09:03:32Z</td>\n      <td>viewed</td>\n      <td>Advanced Data Management Systems (THJ)</td>\n      <td>http://id.tincanapi.com/activitytype/lms/course</td>\n      <td>UEF Moodle</td>\n      <td>NaN</td>\n      <td>False</td>\n      <td>False</td>\n    </tr>\n    <tr>\n      <th>...</th>\n      <td>...</td>\n      <td>...</td>\n      <td>...</td>\n      <td>...</td>\n      <td>...</td>\n      <td>...</td>\n      <td>...</td>\n      <td>...</td>\n      <td>...</td>\n      <td>...</td>\n      <td>...</td>\n    </tr>\n    <tr>\n      <th>306723</th>\n      <td>BMU</td>\n      <td>Computer Networks</td>\n      <td>87441</td>\n      <td>2023-06-11T22:57:27Z</td>\n      <td>answered</td>\n      <td>IT131-T05-Pitanje 13</td>\n      <td>http://adlnet.gov/expapi/activities/cmi.intera...</td>\n      <td>LAMS &gt; test &gt; Pitanje 13 &gt; Attempt</td>\n      <td>1.000</td>\n      <td>True</td>\n      <td>True</td>\n    </tr>\n    <tr>\n      <th>306724</th>\n      <td>BMU</td>\n      <td>Computer Networks</td>\n      <td>1c33c</td>\n      <td>2023-05-16T00:05:45Z</td>\n      <td>answered</td>\n      <td>IT131-T03-Pitanje 15</td>\n      <td>http://adlnet.gov/expapi/activities/cmi.intera...</td>\n      <td>LAMS &gt; test &gt; Pitanje 15 &gt; Attempt</td>\n      <td>0.000</td>\n      <td>False</td>\n      <td>True</td>\n    </tr>\n    <tr>\n      <th>306730</th>\n      <td>BMU</td>\n      <td>Computer Networks</td>\n      <td>98607</td>\n      <td>2023-05-12T22:10:50Z</td>\n      <td>completed</td>\n      <td>IT131-T03</td>\n      <td>http://adlnet.gov/expapi/activities/assessment</td>\n      <td>LAMS &gt; test</td>\n      <td>0.375</td>\n      <td>True</td>\n      <td>True</td>\n    </tr>\n    <tr>\n      <th>306734</th>\n      <td>BMU</td>\n      <td>Computer Networks</td>\n      <td>98607</td>\n      <td>2023-02-27T22:45:33Z</td>\n      <td>completed</td>\n      <td>Lekcija 2 - Osnove umrežavanja - Tradicionalna...</td>\n      <td>http://id.tincanapi.com/activitytype/lms/module</td>\n      <td>LAMS &gt; 217371</td>\n      <td>NaN</td>\n      <td>False</td>\n      <td>False</td>\n    </tr>\n    <tr>\n      <th>306739</th>\n      <td>BMU</td>\n      <td>Computer Networks</td>\n      <td>00c5e</td>\n      <td>2023-06-01T21:23:16Z</td>\n      <td>answered</td>\n      <td>IT131-T04-Pitanje 20</td>\n      <td>http://adlnet.gov/expapi/activities/cmi.intera...</td>\n      <td>LAMS &gt; test &gt; Pitanje 20 &gt; Attempt</td>\n      <td>0.000</td>\n      <td>False</td>\n      <td>True</td>\n    </tr>\n  </tbody>\n</table>\n<p>299291 rows × 11 columns</p>\n</div>"
     },
     "execution_count": 23,
     "metadata": {},
     "output_type": "execute_result"
    }
   ],
   "source": [
    "df"
   ],
   "metadata": {
    "collapsed": false,
    "ExecuteTime": {
     "end_time": "2023-11-05T14:19:20.408064Z",
     "start_time": "2023-11-05T14:19:20.360355600Z"
    }
   },
   "id": "e2159ef2015daee7"
  },
  {
   "cell_type": "markdown",
   "source": [
    "## Course"
   ],
   "metadata": {
    "collapsed": false
   },
   "id": "8160b58fb904871"
  },
  {
   "cell_type": "code",
   "execution_count": 16,
   "outputs": [
    {
     "data": {
      "text/plain": "                                                   Course Institution\n0                  Advanced Data Management Systems (THJ)         UEF\n18463             Ihminen ja vuorovaikutteinen teknologia         UEF\n153572  Проектиране на човеко-машинен интерфейс, летен...          SU\n169434      Електронно обучение, летен семестър 2022/2023          SU\n196531                       ARQUITECTURA DE COMPUTADORES          UL\n271398                                   APLICACIONES WEB          UL\n292147                                              CS120         BMU\n300976                                              IT131         BMU",
      "text/html": "<div>\n<style scoped>\n    .dataframe tbody tr th:only-of-type {\n        vertical-align: middle;\n    }\n\n    .dataframe tbody tr th {\n        vertical-align: top;\n    }\n\n    .dataframe thead th {\n        text-align: right;\n    }\n</style>\n<table border=\"1\" class=\"dataframe\">\n  <thead>\n    <tr style=\"text-align: right;\">\n      <th></th>\n      <th>Course</th>\n      <th>Institution</th>\n    </tr>\n  </thead>\n  <tbody>\n    <tr>\n      <th>0</th>\n      <td>Advanced Data Management Systems (THJ)</td>\n      <td>UEF</td>\n    </tr>\n    <tr>\n      <th>18463</th>\n      <td>Ihminen ja vuorovaikutteinen teknologia</td>\n      <td>UEF</td>\n    </tr>\n    <tr>\n      <th>153572</th>\n      <td>Проектиране на човеко-машинен интерфейс, летен...</td>\n      <td>SU</td>\n    </tr>\n    <tr>\n      <th>169434</th>\n      <td>Електронно обучение, летен семестър 2022/2023</td>\n      <td>SU</td>\n    </tr>\n    <tr>\n      <th>196531</th>\n      <td>ARQUITECTURA DE COMPUTADORES</td>\n      <td>UL</td>\n    </tr>\n    <tr>\n      <th>271398</th>\n      <td>APLICACIONES WEB</td>\n      <td>UL</td>\n    </tr>\n    <tr>\n      <th>292147</th>\n      <td>CS120</td>\n      <td>BMU</td>\n    </tr>\n    <tr>\n      <th>300976</th>\n      <td>IT131</td>\n      <td>BMU</td>\n    </tr>\n  </tbody>\n</table>\n</div>"
     },
     "execution_count": 16,
     "metadata": {},
     "output_type": "execute_result"
    }
   ],
   "source": [
    "df[['Course', 'Institution']].drop_duplicates()"
   ],
   "metadata": {
    "collapsed": false,
    "ExecuteTime": {
     "end_time": "2023-11-05T14:18:26.468817700Z",
     "start_time": "2023-11-05T14:18:26.309450600Z"
    }
   },
   "id": "4494ca6c31742c8a"
  },
  {
   "cell_type": "code",
   "execution_count": 17,
   "outputs": [
    {
     "data": {
      "text/plain": "Course\nIhminen ja vuorovaikutteinen teknologia                              134855\nARQUITECTURA DE COMPUTADORES                                          74112\nЕлектронно обучение, летен семестър 2022/2023                         26545\nAPLICACIONES WEB                                                      20699\nAdvanced Data Management Systems (THJ)                                18435\nПроектиране на човеко-машинен интерфейс, летен семестър 2022/2023     15774\nCS120                                                                  5263\nIT131                                                                  3608\nName: count, dtype: int64"
     },
     "execution_count": 17,
     "metadata": {},
     "output_type": "execute_result"
    }
   ],
   "source": [
    "df['Course'].value_counts()"
   ],
   "metadata": {
    "collapsed": false,
    "ExecuteTime": {
     "end_time": "2023-11-05T14:18:26.468817700Z",
     "start_time": "2023-11-05T14:18:26.388851800Z"
    }
   },
   "id": "e9e7ae68ed3b8a79"
  },
  {
   "cell_type": "code",
   "execution_count": 18,
   "outputs": [],
   "source": [
    "courses_dict = {\n",
    "    'Ihminen ja vuorovaikutteinen teknologia': 'Human Factors of Interactive Technology',\n",
    "    'Advanced Data Management Systems (THJ)': 'Advanced Data Management Systems',\n",
    "    'Проектиране на човеко-машинен интерфейс, летен семестър 2022/2023': 'Human-computer interaction',\n",
    "    'Електронно обучение, летен семестър 2022/2023': 'e-Learning',\n",
    "    'ARQUITECTURA DE COMPUTADORES': 'Computer Architecture',\n",
    "    'APLICACIONES WEB': 'Web Applications',\n",
    "    'CS120': 'Computer Organization',\n",
    "    'IT131': 'Computer Networks'\n",
    "}"
   ],
   "metadata": {
    "collapsed": false,
    "ExecuteTime": {
     "end_time": "2023-11-05T14:18:26.468817700Z",
     "start_time": "2023-11-05T14:18:26.421926800Z"
    }
   },
   "id": "9dca6af6cb7281df"
  },
  {
   "cell_type": "markdown",
   "source": [
    "Note: BMU course name reference [here](https://www.metropolitan.ac.rs/files/2022/10/oas-informacione-tehnologije-2022.pdf)"
   ],
   "metadata": {
    "collapsed": false
   },
   "id": "5f7b20b602267c3d"
  },
  {
   "cell_type": "code",
   "execution_count": 19,
   "outputs": [],
   "source": [
    "df.replace({'Course': courses_dict}, inplace=True)"
   ],
   "metadata": {
    "collapsed": false,
    "ExecuteTime": {
     "end_time": "2023-11-05T14:18:26.716017800Z",
     "start_time": "2023-11-05T14:18:26.421926800Z"
    }
   },
   "id": "15d9dc194e0061b8"
  },
  {
   "cell_type": "code",
   "execution_count": 20,
   "outputs": [
    {
     "data": {
      "text/plain": "       Institution                            Course actor.id  \\\n0              UEF  Advanced Data Management Systems    aeb0c   \n1              UEF  Advanced Data Management Systems    aeb0c   \n2              UEF  Advanced Data Management Systems    aeb0c   \n3              UEF  Advanced Data Management Systems    aeb0c   \n4              UEF  Advanced Data Management Systems    aeb0c   \n...            ...                               ...      ...   \n306723         BMU                 Computer Networks    87441   \n306724         BMU                 Computer Networks    1c33c   \n306730         BMU                 Computer Networks    98607   \n306734         BMU                 Computer Networks    98607   \n306739         BMU                 Computer Networks    00c5e   \n\n                   timestamp    verb.id verb.display  \\\n0       2023-07-07T18:55:47Z     viewed       viewed   \n1       2023-07-07T15:21:18Z     viewed       viewed   \n2       2023-07-07T15:08:13Z     viewed       viewed   \n3       2023-07-07T15:08:10Z     viewed       viewed   \n4       2023-07-07T09:03:32Z     viewed       viewed   \n...                      ...        ...          ...   \n306723  2023-06-11T22:57:27Z   answered     answered   \n306724  2023-05-16T00:05:45Z   answered     answered   \n306730  2023-05-12T22:10:50Z  completed    completed   \n306734  2023-02-27T22:45:33Z  completed    completed   \n306739  2023-06-01T21:23:16Z   answered     answered   \n\n                                   object.definition.name  \\\n0                  Advanced Data Management Systems (THJ)   \n1                       Assignment Instructions: ER & EER   \n2                                Recording: Intro lecture   \n3                  Advanced Data Management Systems (THJ)   \n4                  Advanced Data Management Systems (THJ)   \n...                                                   ...   \n306723                               IT131-T05-Pitanje 13   \n306724                               IT131-T03-Pitanje 15   \n306730                                          IT131-T03   \n306734  Lekcija 2 - Osnove umrežavanja - Tradicionalna...   \n306739                               IT131-T04-Pitanje 20   \n\n                                   object.definition.type  \\\n0         http://id.tincanapi.com/activitytype/lms/course   \n1                http://adlnet.gov/expapi/activities/link   \n2                http://adlnet.gov/expapi/activities/link   \n3         http://id.tincanapi.com/activitytype/lms/course   \n4         http://id.tincanapi.com/activitytype/lms/course   \n...                                                   ...   \n306723  http://adlnet.gov/expapi/activities/cmi.intera...   \n306724  http://adlnet.gov/expapi/activities/cmi.intera...   \n306730     http://adlnet.gov/expapi/activities/assessment   \n306734    http://id.tincanapi.com/activitytype/lms/module   \n306739  http://adlnet.gov/expapi/activities/cmi.intera...   \n\n                                                  context  \\\n0                                              UEF Moodle   \n1       UEF Moodle > Advanced Data Management Systems ...   \n2       UEF Moodle > Advanced Data Management Systems ...   \n3                                              UEF Moodle   \n4                                              UEF Moodle   \n...                                                   ...   \n306723                 LAMS > test > Pitanje 13 > Attempt   \n306724                 LAMS > test > Pitanje 15 > Attempt   \n306730                                        LAMS > test   \n306734                                      LAMS > 217371   \n306739                 LAMS > test > Pitanje 20 > Attempt   \n\n        result.score.scaled  result.success  result.completion  \n0                       NaN           False              False  \n1                       NaN           False              False  \n2                       NaN           False              False  \n3                       NaN           False              False  \n4                       NaN           False              False  \n...                     ...             ...                ...  \n306723                1.000            True               True  \n306724                0.000           False               True  \n306730                0.375            True               True  \n306734                  NaN           False              False  \n306739                0.000           False               True  \n\n[299291 rows x 12 columns]",
      "text/html": "<div>\n<style scoped>\n    .dataframe tbody tr th:only-of-type {\n        vertical-align: middle;\n    }\n\n    .dataframe tbody tr th {\n        vertical-align: top;\n    }\n\n    .dataframe thead th {\n        text-align: right;\n    }\n</style>\n<table border=\"1\" class=\"dataframe\">\n  <thead>\n    <tr style=\"text-align: right;\">\n      <th></th>\n      <th>Institution</th>\n      <th>Course</th>\n      <th>actor.id</th>\n      <th>timestamp</th>\n      <th>verb.id</th>\n      <th>verb.display</th>\n      <th>object.definition.name</th>\n      <th>object.definition.type</th>\n      <th>context</th>\n      <th>result.score.scaled</th>\n      <th>result.success</th>\n      <th>result.completion</th>\n    </tr>\n  </thead>\n  <tbody>\n    <tr>\n      <th>0</th>\n      <td>UEF</td>\n      <td>Advanced Data Management Systems</td>\n      <td>aeb0c</td>\n      <td>2023-07-07T18:55:47Z</td>\n      <td>viewed</td>\n      <td>viewed</td>\n      <td>Advanced Data Management Systems (THJ)</td>\n      <td>http://id.tincanapi.com/activitytype/lms/course</td>\n      <td>UEF Moodle</td>\n      <td>NaN</td>\n      <td>False</td>\n      <td>False</td>\n    </tr>\n    <tr>\n      <th>1</th>\n      <td>UEF</td>\n      <td>Advanced Data Management Systems</td>\n      <td>aeb0c</td>\n      <td>2023-07-07T15:21:18Z</td>\n      <td>viewed</td>\n      <td>viewed</td>\n      <td>Assignment Instructions: ER &amp; EER</td>\n      <td>http://adlnet.gov/expapi/activities/link</td>\n      <td>UEF Moodle &gt; Advanced Data Management Systems ...</td>\n      <td>NaN</td>\n      <td>False</td>\n      <td>False</td>\n    </tr>\n    <tr>\n      <th>2</th>\n      <td>UEF</td>\n      <td>Advanced Data Management Systems</td>\n      <td>aeb0c</td>\n      <td>2023-07-07T15:08:13Z</td>\n      <td>viewed</td>\n      <td>viewed</td>\n      <td>Recording: Intro lecture</td>\n      <td>http://adlnet.gov/expapi/activities/link</td>\n      <td>UEF Moodle &gt; Advanced Data Management Systems ...</td>\n      <td>NaN</td>\n      <td>False</td>\n      <td>False</td>\n    </tr>\n    <tr>\n      <th>3</th>\n      <td>UEF</td>\n      <td>Advanced Data Management Systems</td>\n      <td>aeb0c</td>\n      <td>2023-07-07T15:08:10Z</td>\n      <td>viewed</td>\n      <td>viewed</td>\n      <td>Advanced Data Management Systems (THJ)</td>\n      <td>http://id.tincanapi.com/activitytype/lms/course</td>\n      <td>UEF Moodle</td>\n      <td>NaN</td>\n      <td>False</td>\n      <td>False</td>\n    </tr>\n    <tr>\n      <th>4</th>\n      <td>UEF</td>\n      <td>Advanced Data Management Systems</td>\n      <td>aeb0c</td>\n      <td>2023-07-07T09:03:32Z</td>\n      <td>viewed</td>\n      <td>viewed</td>\n      <td>Advanced Data Management Systems (THJ)</td>\n      <td>http://id.tincanapi.com/activitytype/lms/course</td>\n      <td>UEF Moodle</td>\n      <td>NaN</td>\n      <td>False</td>\n      <td>False</td>\n    </tr>\n    <tr>\n      <th>...</th>\n      <td>...</td>\n      <td>...</td>\n      <td>...</td>\n      <td>...</td>\n      <td>...</td>\n      <td>...</td>\n      <td>...</td>\n      <td>...</td>\n      <td>...</td>\n      <td>...</td>\n      <td>...</td>\n      <td>...</td>\n    </tr>\n    <tr>\n      <th>306723</th>\n      <td>BMU</td>\n      <td>Computer Networks</td>\n      <td>87441</td>\n      <td>2023-06-11T22:57:27Z</td>\n      <td>answered</td>\n      <td>answered</td>\n      <td>IT131-T05-Pitanje 13</td>\n      <td>http://adlnet.gov/expapi/activities/cmi.intera...</td>\n      <td>LAMS &gt; test &gt; Pitanje 13 &gt; Attempt</td>\n      <td>1.000</td>\n      <td>True</td>\n      <td>True</td>\n    </tr>\n    <tr>\n      <th>306724</th>\n      <td>BMU</td>\n      <td>Computer Networks</td>\n      <td>1c33c</td>\n      <td>2023-05-16T00:05:45Z</td>\n      <td>answered</td>\n      <td>answered</td>\n      <td>IT131-T03-Pitanje 15</td>\n      <td>http://adlnet.gov/expapi/activities/cmi.intera...</td>\n      <td>LAMS &gt; test &gt; Pitanje 15 &gt; Attempt</td>\n      <td>0.000</td>\n      <td>False</td>\n      <td>True</td>\n    </tr>\n    <tr>\n      <th>306730</th>\n      <td>BMU</td>\n      <td>Computer Networks</td>\n      <td>98607</td>\n      <td>2023-05-12T22:10:50Z</td>\n      <td>completed</td>\n      <td>completed</td>\n      <td>IT131-T03</td>\n      <td>http://adlnet.gov/expapi/activities/assessment</td>\n      <td>LAMS &gt; test</td>\n      <td>0.375</td>\n      <td>True</td>\n      <td>True</td>\n    </tr>\n    <tr>\n      <th>306734</th>\n      <td>BMU</td>\n      <td>Computer Networks</td>\n      <td>98607</td>\n      <td>2023-02-27T22:45:33Z</td>\n      <td>completed</td>\n      <td>completed</td>\n      <td>Lekcija 2 - Osnove umrežavanja - Tradicionalna...</td>\n      <td>http://id.tincanapi.com/activitytype/lms/module</td>\n      <td>LAMS &gt; 217371</td>\n      <td>NaN</td>\n      <td>False</td>\n      <td>False</td>\n    </tr>\n    <tr>\n      <th>306739</th>\n      <td>BMU</td>\n      <td>Computer Networks</td>\n      <td>00c5e</td>\n      <td>2023-06-01T21:23:16Z</td>\n      <td>answered</td>\n      <td>answered</td>\n      <td>IT131-T04-Pitanje 20</td>\n      <td>http://adlnet.gov/expapi/activities/cmi.intera...</td>\n      <td>LAMS &gt; test &gt; Pitanje 20 &gt; Attempt</td>\n      <td>0.000</td>\n      <td>False</td>\n      <td>True</td>\n    </tr>\n  </tbody>\n</table>\n<p>299291 rows × 12 columns</p>\n</div>"
     },
     "execution_count": 20,
     "metadata": {},
     "output_type": "execute_result"
    }
   ],
   "source": [
    "df"
   ],
   "metadata": {
    "collapsed": false,
    "ExecuteTime": {
     "end_time": "2023-11-05T14:18:26.763229Z",
     "start_time": "2023-11-05T14:18:26.533909Z"
    }
   },
   "id": "ae02f319035a9be4"
  },
  {
   "cell_type": "markdown",
   "source": [
    "## Add teaching type column\n",
    "\n",
    "Specify \"Project-based\" / \"Flipped classroom\" teaching style"
   ],
   "metadata": {
    "collapsed": false
   },
   "id": "5d7391eb3210681b"
  },
  {
   "cell_type": "code",
   "execution_count": 24,
   "outputs": [],
   "source": [
    "def get_teaching_type(course_name):\n",
    "    if course_name in ['Computer Networks',\n",
    "                       'Advanced Data Management Systems',\n",
    "                        'e-Learning',\n",
    "                        'Computer Architecture']:\n",
    "        return 'Flipped classroom'\n",
    "    else:\n",
    "        return 'Project-based'"
   ],
   "metadata": {
    "collapsed": false,
    "ExecuteTime": {
     "end_time": "2023-11-05T14:26:52.627972800Z",
     "start_time": "2023-11-05T14:26:52.596162600Z"
    }
   },
   "id": "ed9624e013f1d8be"
  },
  {
   "cell_type": "code",
   "execution_count": 25,
   "outputs": [],
   "source": [
    "df['Teaching'] = df['Course'].apply(get_teaching_type)"
   ],
   "metadata": {
    "collapsed": false,
    "ExecuteTime": {
     "end_time": "2023-11-05T14:28:09.347364100Z",
     "start_time": "2023-11-05T14:28:09.258702700Z"
    }
   },
   "id": "5b2424cf1bb48d70"
  },
  {
   "cell_type": "code",
   "execution_count": 26,
   "outputs": [
    {
     "data": {
      "text/plain": "       Institution                            Course actor.id  \\\n0              UEF  Advanced Data Management Systems    aeb0c   \n1              UEF  Advanced Data Management Systems    aeb0c   \n2              UEF  Advanced Data Management Systems    aeb0c   \n3              UEF  Advanced Data Management Systems    aeb0c   \n4              UEF  Advanced Data Management Systems    aeb0c   \n...            ...                               ...      ...   \n306723         BMU                 Computer Networks    87441   \n306724         BMU                 Computer Networks    1c33c   \n306730         BMU                 Computer Networks    98607   \n306734         BMU                 Computer Networks    98607   \n306739         BMU                 Computer Networks    00c5e   \n\n                   timestamp    verb.id  \\\n0       2023-07-07T18:55:47Z     viewed   \n1       2023-07-07T15:21:18Z     viewed   \n2       2023-07-07T15:08:13Z     viewed   \n3       2023-07-07T15:08:10Z     viewed   \n4       2023-07-07T09:03:32Z     viewed   \n...                      ...        ...   \n306723  2023-06-11T22:57:27Z   answered   \n306724  2023-05-16T00:05:45Z   answered   \n306730  2023-05-12T22:10:50Z  completed   \n306734  2023-02-27T22:45:33Z  completed   \n306739  2023-06-01T21:23:16Z   answered   \n\n                                   object.definition.name  \\\n0                  Advanced Data Management Systems (THJ)   \n1                       Assignment Instructions: ER & EER   \n2                                Recording: Intro lecture   \n3                  Advanced Data Management Systems (THJ)   \n4                  Advanced Data Management Systems (THJ)   \n...                                                   ...   \n306723                               IT131-T05-Pitanje 13   \n306724                               IT131-T03-Pitanje 15   \n306730                                          IT131-T03   \n306734  Lekcija 2 - Osnove umrežavanja - Tradicionalna...   \n306739                               IT131-T04-Pitanje 20   \n\n                                   object.definition.type  \\\n0         http://id.tincanapi.com/activitytype/lms/course   \n1                http://adlnet.gov/expapi/activities/link   \n2                http://adlnet.gov/expapi/activities/link   \n3         http://id.tincanapi.com/activitytype/lms/course   \n4         http://id.tincanapi.com/activitytype/lms/course   \n...                                                   ...   \n306723  http://adlnet.gov/expapi/activities/cmi.intera...   \n306724  http://adlnet.gov/expapi/activities/cmi.intera...   \n306730     http://adlnet.gov/expapi/activities/assessment   \n306734    http://id.tincanapi.com/activitytype/lms/module   \n306739  http://adlnet.gov/expapi/activities/cmi.intera...   \n\n                                                  context  \\\n0                                              UEF Moodle   \n1       UEF Moodle > Advanced Data Management Systems ...   \n2       UEF Moodle > Advanced Data Management Systems ...   \n3                                              UEF Moodle   \n4                                              UEF Moodle   \n...                                                   ...   \n306723                 LAMS > test > Pitanje 13 > Attempt   \n306724                 LAMS > test > Pitanje 15 > Attempt   \n306730                                        LAMS > test   \n306734                                      LAMS > 217371   \n306739                 LAMS > test > Pitanje 20 > Attempt   \n\n        result.score.scaled  result.success  result.completion  \\\n0                       NaN           False              False   \n1                       NaN           False              False   \n2                       NaN           False              False   \n3                       NaN           False              False   \n4                       NaN           False              False   \n...                     ...             ...                ...   \n306723                1.000            True               True   \n306724                0.000           False               True   \n306730                0.375            True               True   \n306734                  NaN           False              False   \n306739                0.000           False               True   \n\n                 Teaching  \n0       Flipped classroom  \n1       Flipped classroom  \n2       Flipped classroom  \n3       Flipped classroom  \n4       Flipped classroom  \n...                   ...  \n306723  Flipped classroom  \n306724  Flipped classroom  \n306730  Flipped classroom  \n306734  Flipped classroom  \n306739  Flipped classroom  \n\n[299291 rows x 12 columns]",
      "text/html": "<div>\n<style scoped>\n    .dataframe tbody tr th:only-of-type {\n        vertical-align: middle;\n    }\n\n    .dataframe tbody tr th {\n        vertical-align: top;\n    }\n\n    .dataframe thead th {\n        text-align: right;\n    }\n</style>\n<table border=\"1\" class=\"dataframe\">\n  <thead>\n    <tr style=\"text-align: right;\">\n      <th></th>\n      <th>Institution</th>\n      <th>Course</th>\n      <th>actor.id</th>\n      <th>timestamp</th>\n      <th>verb.id</th>\n      <th>object.definition.name</th>\n      <th>object.definition.type</th>\n      <th>context</th>\n      <th>result.score.scaled</th>\n      <th>result.success</th>\n      <th>result.completion</th>\n      <th>Teaching</th>\n    </tr>\n  </thead>\n  <tbody>\n    <tr>\n      <th>0</th>\n      <td>UEF</td>\n      <td>Advanced Data Management Systems</td>\n      <td>aeb0c</td>\n      <td>2023-07-07T18:55:47Z</td>\n      <td>viewed</td>\n      <td>Advanced Data Management Systems (THJ)</td>\n      <td>http://id.tincanapi.com/activitytype/lms/course</td>\n      <td>UEF Moodle</td>\n      <td>NaN</td>\n      <td>False</td>\n      <td>False</td>\n      <td>Flipped classroom</td>\n    </tr>\n    <tr>\n      <th>1</th>\n      <td>UEF</td>\n      <td>Advanced Data Management Systems</td>\n      <td>aeb0c</td>\n      <td>2023-07-07T15:21:18Z</td>\n      <td>viewed</td>\n      <td>Assignment Instructions: ER &amp; EER</td>\n      <td>http://adlnet.gov/expapi/activities/link</td>\n      <td>UEF Moodle &gt; Advanced Data Management Systems ...</td>\n      <td>NaN</td>\n      <td>False</td>\n      <td>False</td>\n      <td>Flipped classroom</td>\n    </tr>\n    <tr>\n      <th>2</th>\n      <td>UEF</td>\n      <td>Advanced Data Management Systems</td>\n      <td>aeb0c</td>\n      <td>2023-07-07T15:08:13Z</td>\n      <td>viewed</td>\n      <td>Recording: Intro lecture</td>\n      <td>http://adlnet.gov/expapi/activities/link</td>\n      <td>UEF Moodle &gt; Advanced Data Management Systems ...</td>\n      <td>NaN</td>\n      <td>False</td>\n      <td>False</td>\n      <td>Flipped classroom</td>\n    </tr>\n    <tr>\n      <th>3</th>\n      <td>UEF</td>\n      <td>Advanced Data Management Systems</td>\n      <td>aeb0c</td>\n      <td>2023-07-07T15:08:10Z</td>\n      <td>viewed</td>\n      <td>Advanced Data Management Systems (THJ)</td>\n      <td>http://id.tincanapi.com/activitytype/lms/course</td>\n      <td>UEF Moodle</td>\n      <td>NaN</td>\n      <td>False</td>\n      <td>False</td>\n      <td>Flipped classroom</td>\n    </tr>\n    <tr>\n      <th>4</th>\n      <td>UEF</td>\n      <td>Advanced Data Management Systems</td>\n      <td>aeb0c</td>\n      <td>2023-07-07T09:03:32Z</td>\n      <td>viewed</td>\n      <td>Advanced Data Management Systems (THJ)</td>\n      <td>http://id.tincanapi.com/activitytype/lms/course</td>\n      <td>UEF Moodle</td>\n      <td>NaN</td>\n      <td>False</td>\n      <td>False</td>\n      <td>Flipped classroom</td>\n    </tr>\n    <tr>\n      <th>...</th>\n      <td>...</td>\n      <td>...</td>\n      <td>...</td>\n      <td>...</td>\n      <td>...</td>\n      <td>...</td>\n      <td>...</td>\n      <td>...</td>\n      <td>...</td>\n      <td>...</td>\n      <td>...</td>\n      <td>...</td>\n    </tr>\n    <tr>\n      <th>306723</th>\n      <td>BMU</td>\n      <td>Computer Networks</td>\n      <td>87441</td>\n      <td>2023-06-11T22:57:27Z</td>\n      <td>answered</td>\n      <td>IT131-T05-Pitanje 13</td>\n      <td>http://adlnet.gov/expapi/activities/cmi.intera...</td>\n      <td>LAMS &gt; test &gt; Pitanje 13 &gt; Attempt</td>\n      <td>1.000</td>\n      <td>True</td>\n      <td>True</td>\n      <td>Flipped classroom</td>\n    </tr>\n    <tr>\n      <th>306724</th>\n      <td>BMU</td>\n      <td>Computer Networks</td>\n      <td>1c33c</td>\n      <td>2023-05-16T00:05:45Z</td>\n      <td>answered</td>\n      <td>IT131-T03-Pitanje 15</td>\n      <td>http://adlnet.gov/expapi/activities/cmi.intera...</td>\n      <td>LAMS &gt; test &gt; Pitanje 15 &gt; Attempt</td>\n      <td>0.000</td>\n      <td>False</td>\n      <td>True</td>\n      <td>Flipped classroom</td>\n    </tr>\n    <tr>\n      <th>306730</th>\n      <td>BMU</td>\n      <td>Computer Networks</td>\n      <td>98607</td>\n      <td>2023-05-12T22:10:50Z</td>\n      <td>completed</td>\n      <td>IT131-T03</td>\n      <td>http://adlnet.gov/expapi/activities/assessment</td>\n      <td>LAMS &gt; test</td>\n      <td>0.375</td>\n      <td>True</td>\n      <td>True</td>\n      <td>Flipped classroom</td>\n    </tr>\n    <tr>\n      <th>306734</th>\n      <td>BMU</td>\n      <td>Computer Networks</td>\n      <td>98607</td>\n      <td>2023-02-27T22:45:33Z</td>\n      <td>completed</td>\n      <td>Lekcija 2 - Osnove umrežavanja - Tradicionalna...</td>\n      <td>http://id.tincanapi.com/activitytype/lms/module</td>\n      <td>LAMS &gt; 217371</td>\n      <td>NaN</td>\n      <td>False</td>\n      <td>False</td>\n      <td>Flipped classroom</td>\n    </tr>\n    <tr>\n      <th>306739</th>\n      <td>BMU</td>\n      <td>Computer Networks</td>\n      <td>00c5e</td>\n      <td>2023-06-01T21:23:16Z</td>\n      <td>answered</td>\n      <td>IT131-T04-Pitanje 20</td>\n      <td>http://adlnet.gov/expapi/activities/cmi.intera...</td>\n      <td>LAMS &gt; test &gt; Pitanje 20 &gt; Attempt</td>\n      <td>0.000</td>\n      <td>False</td>\n      <td>True</td>\n      <td>Flipped classroom</td>\n    </tr>\n  </tbody>\n</table>\n<p>299291 rows × 12 columns</p>\n</div>"
     },
     "execution_count": 26,
     "metadata": {},
     "output_type": "execute_result"
    }
   ],
   "source": [
    "df"
   ],
   "metadata": {
    "collapsed": false,
    "ExecuteTime": {
     "end_time": "2023-11-05T14:28:10.335066300Z",
     "start_time": "2023-11-05T14:28:10.292841300Z"
    }
   },
   "id": "5e1f7af2f4649914"
  },
  {
   "cell_type": "code",
   "execution_count": 27,
   "outputs": [
    {
     "data": {
      "text/plain": "Teaching\nProject-based        176591\nFlipped classroom    122700\nName: count, dtype: int64"
     },
     "execution_count": 27,
     "metadata": {},
     "output_type": "execute_result"
    }
   ],
   "source": [
    "df['Teaching'].value_counts()"
   ],
   "metadata": {
    "collapsed": false,
    "ExecuteTime": {
     "end_time": "2023-11-05T14:28:49.809587100Z",
     "start_time": "2023-11-05T14:28:49.771277100Z"
    }
   },
   "id": "80231bfaf1a05a5a"
  },
  {
   "cell_type": "markdown",
   "source": [
    "## Object"
   ],
   "metadata": {
    "collapsed": false
   },
   "id": "4fdfb401bf91b9e6"
  },
  {
   "cell_type": "markdown",
   "source": [
    "Trying machine translation"
   ],
   "metadata": {
    "collapsed": false
   },
   "id": "29b44eb0cc2f62af"
  },
  {
   "cell_type": "code",
   "execution_count": 28,
   "outputs": [
    {
     "ename": "ModuleNotFoundError",
     "evalue": "No module named 'easynmt'",
     "output_type": "error",
     "traceback": [
      "\u001B[1;31m---------------------------------------------------------------------------\u001B[0m",
      "\u001B[1;31mModuleNotFoundError\u001B[0m                       Traceback (most recent call last)",
      "Cell \u001B[1;32mIn[28], line 1\u001B[0m\n\u001B[1;32m----> 1\u001B[0m \u001B[38;5;28;01mfrom\u001B[39;00m \u001B[38;5;21;01measynmt\u001B[39;00m \u001B[38;5;28;01mimport\u001B[39;00m EasyNMT\n\u001B[0;32m      2\u001B[0m model \u001B[38;5;241m=\u001B[39m EasyNMT(\u001B[38;5;124m\"\u001B[39m\u001B[38;5;124mopus-mt\u001B[39m\u001B[38;5;124m\"\u001B[39m)\n",
      "\u001B[1;31mModuleNotFoundError\u001B[0m: No module named 'easynmt'"
     ]
    }
   ],
   "source": [
    "from easynmt import EasyNMT\n",
    "model = EasyNMT(\"opus-mt\")"
   ],
   "metadata": {
    "collapsed": false,
    "ExecuteTime": {
     "end_time": "2023-11-05T16:17:57.757809600Z",
     "start_time": "2023-11-05T16:17:56.502147900Z"
    }
   },
   "id": "aaf53c23f3d5ce2b"
  }
 ],
 "metadata": {
  "kernelspec": {
   "display_name": "Python 3",
   "language": "python",
   "name": "python3"
  },
  "language_info": {
   "codemirror_mode": {
    "name": "ipython",
    "version": 2
   },
   "file_extension": ".py",
   "mimetype": "text/x-python",
   "name": "python",
   "nbconvert_exporter": "python",
   "pygments_lexer": "ipython2",
   "version": "2.7.6"
  }
 },
 "nbformat": 4,
 "nbformat_minor": 5
}
