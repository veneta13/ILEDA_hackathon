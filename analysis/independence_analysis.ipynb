{
 "cells": [
  {
   "cell_type": "markdown",
   "source": [],
   "metadata": {
    "collapsed": false
   },
   "id": "bc264e9a10ef0030"
  },
  {
   "cell_type": "code",
   "execution_count": 70,
   "id": "initial_id",
   "metadata": {
    "collapsed": true,
    "ExecuteTime": {
     "end_time": "2023-11-18T19:54:45.666182400Z",
     "start_time": "2023-11-18T19:54:45.595569900Z"
    }
   },
   "outputs": [],
   "source": [
    "import pandas as pd\n",
    "import numpy as np\n",
    "from scipy.stats import chi2"
   ]
  },
  {
   "cell_type": "code",
   "execution_count": 71,
   "outputs": [
    {
     "data": {
      "text/plain": "       Institution                            Course  actor.id  \\\n0              UEF  Advanced Data Management Systems         0   \n1              UEF  Advanced Data Management Systems         0   \n2              UEF  Advanced Data Management Systems         0   \n3              UEF  Advanced Data Management Systems         0   \n4              UEF  Advanced Data Management Systems         0   \n...            ...                               ...       ...   \n299286         BMU                 Computer Networks       820   \n299287         BMU                 Computer Networks       799   \n299288         BMU                 Computer Networks       788   \n299289         BMU                 Computer Networks       788   \n299290         BMU                 Computer Networks       810   \n\n                  timestamp    verb.id object.definition.type  \\\n0       2023-07-07 18:55:47     viewed                 course   \n1       2023-07-07 15:21:18     viewed                   link   \n2       2023-07-07 15:08:13     viewed                   link   \n3       2023-07-07 15:08:10     viewed                 course   \n4       2023-07-07 09:03:32     viewed                 course   \n...                     ...        ...                    ...   \n299286  2023-06-11 22:57:27   answered        cmi.interaction   \n299287  2023-05-16 00:05:45   answered        cmi.interaction   \n299288  2023-05-12 22:10:50  completed             assessment   \n299289  2023-02-27 22:45:33  completed                 module   \n299290  2023-06-01 21:23:16   answered        cmi.interaction   \n\n        result.score.scaled  result.success  result.completion  \\\n0                       NaN           False              False   \n1                       NaN           False              False   \n2                       NaN           False              False   \n3                       NaN           False              False   \n4                       NaN           False              False   \n...                     ...             ...                ...   \n299286                1.000            True               True   \n299287                0.000           False               True   \n299288                0.375            True               True   \n299289                  NaN           False              False   \n299290                0.000           False               True   \n\n                 Teaching  \n0       Flipped classroom  \n1       Flipped classroom  \n2       Flipped classroom  \n3       Flipped classroom  \n4       Flipped classroom  \n...                   ...  \n299286  Flipped classroom  \n299287  Flipped classroom  \n299288  Flipped classroom  \n299289  Flipped classroom  \n299290  Flipped classroom  \n\n[299291 rows x 10 columns]",
      "text/html": "<div>\n<style scoped>\n    .dataframe tbody tr th:only-of-type {\n        vertical-align: middle;\n    }\n\n    .dataframe tbody tr th {\n        vertical-align: top;\n    }\n\n    .dataframe thead th {\n        text-align: right;\n    }\n</style>\n<table border=\"1\" class=\"dataframe\">\n  <thead>\n    <tr style=\"text-align: right;\">\n      <th></th>\n      <th>Institution</th>\n      <th>Course</th>\n      <th>actor.id</th>\n      <th>timestamp</th>\n      <th>verb.id</th>\n      <th>object.definition.type</th>\n      <th>result.score.scaled</th>\n      <th>result.success</th>\n      <th>result.completion</th>\n      <th>Teaching</th>\n    </tr>\n  </thead>\n  <tbody>\n    <tr>\n      <th>0</th>\n      <td>UEF</td>\n      <td>Advanced Data Management Systems</td>\n      <td>0</td>\n      <td>2023-07-07 18:55:47</td>\n      <td>viewed</td>\n      <td>course</td>\n      <td>NaN</td>\n      <td>False</td>\n      <td>False</td>\n      <td>Flipped classroom</td>\n    </tr>\n    <tr>\n      <th>1</th>\n      <td>UEF</td>\n      <td>Advanced Data Management Systems</td>\n      <td>0</td>\n      <td>2023-07-07 15:21:18</td>\n      <td>viewed</td>\n      <td>link</td>\n      <td>NaN</td>\n      <td>False</td>\n      <td>False</td>\n      <td>Flipped classroom</td>\n    </tr>\n    <tr>\n      <th>2</th>\n      <td>UEF</td>\n      <td>Advanced Data Management Systems</td>\n      <td>0</td>\n      <td>2023-07-07 15:08:13</td>\n      <td>viewed</td>\n      <td>link</td>\n      <td>NaN</td>\n      <td>False</td>\n      <td>False</td>\n      <td>Flipped classroom</td>\n    </tr>\n    <tr>\n      <th>3</th>\n      <td>UEF</td>\n      <td>Advanced Data Management Systems</td>\n      <td>0</td>\n      <td>2023-07-07 15:08:10</td>\n      <td>viewed</td>\n      <td>course</td>\n      <td>NaN</td>\n      <td>False</td>\n      <td>False</td>\n      <td>Flipped classroom</td>\n    </tr>\n    <tr>\n      <th>4</th>\n      <td>UEF</td>\n      <td>Advanced Data Management Systems</td>\n      <td>0</td>\n      <td>2023-07-07 09:03:32</td>\n      <td>viewed</td>\n      <td>course</td>\n      <td>NaN</td>\n      <td>False</td>\n      <td>False</td>\n      <td>Flipped classroom</td>\n    </tr>\n    <tr>\n      <th>...</th>\n      <td>...</td>\n      <td>...</td>\n      <td>...</td>\n      <td>...</td>\n      <td>...</td>\n      <td>...</td>\n      <td>...</td>\n      <td>...</td>\n      <td>...</td>\n      <td>...</td>\n    </tr>\n    <tr>\n      <th>299286</th>\n      <td>BMU</td>\n      <td>Computer Networks</td>\n      <td>820</td>\n      <td>2023-06-11 22:57:27</td>\n      <td>answered</td>\n      <td>cmi.interaction</td>\n      <td>1.000</td>\n      <td>True</td>\n      <td>True</td>\n      <td>Flipped classroom</td>\n    </tr>\n    <tr>\n      <th>299287</th>\n      <td>BMU</td>\n      <td>Computer Networks</td>\n      <td>799</td>\n      <td>2023-05-16 00:05:45</td>\n      <td>answered</td>\n      <td>cmi.interaction</td>\n      <td>0.000</td>\n      <td>False</td>\n      <td>True</td>\n      <td>Flipped classroom</td>\n    </tr>\n    <tr>\n      <th>299288</th>\n      <td>BMU</td>\n      <td>Computer Networks</td>\n      <td>788</td>\n      <td>2023-05-12 22:10:50</td>\n      <td>completed</td>\n      <td>assessment</td>\n      <td>0.375</td>\n      <td>True</td>\n      <td>True</td>\n      <td>Flipped classroom</td>\n    </tr>\n    <tr>\n      <th>299289</th>\n      <td>BMU</td>\n      <td>Computer Networks</td>\n      <td>788</td>\n      <td>2023-02-27 22:45:33</td>\n      <td>completed</td>\n      <td>module</td>\n      <td>NaN</td>\n      <td>False</td>\n      <td>False</td>\n      <td>Flipped classroom</td>\n    </tr>\n    <tr>\n      <th>299290</th>\n      <td>BMU</td>\n      <td>Computer Networks</td>\n      <td>810</td>\n      <td>2023-06-01 21:23:16</td>\n      <td>answered</td>\n      <td>cmi.interaction</td>\n      <td>0.000</td>\n      <td>False</td>\n      <td>True</td>\n      <td>Flipped classroom</td>\n    </tr>\n  </tbody>\n</table>\n<p>299291 rows × 10 columns</p>\n</div>"
     },
     "execution_count": 71,
     "metadata": {},
     "output_type": "execute_result"
    }
   ],
   "source": [
    "df = pd.read_csv('../data/processed.csv')\n",
    "df"
   ],
   "metadata": {
    "collapsed": false,
    "ExecuteTime": {
     "end_time": "2023-11-18T19:54:46.134396Z",
     "start_time": "2023-11-18T19:54:45.602582400Z"
    }
   },
   "id": "841e992d5e57ca6f"
  },
  {
   "cell_type": "code",
   "execution_count": 72,
   "outputs": [
    {
     "data": {
      "text/plain": "verb.id\nviewed       229721\nanswered      33546\ncompleted     18224\nreceive        6582\nstart          4400\nscored         4236\nsubmit         1481\ncreate          931\njoin            136\nleave            34\nName: count, dtype: int64"
     },
     "execution_count": 72,
     "metadata": {},
     "output_type": "execute_result"
    }
   ],
   "source": [
    "df['verb.id'].value_counts()"
   ],
   "metadata": {
    "collapsed": false,
    "ExecuteTime": {
     "end_time": "2023-11-18T19:54:46.155574700Z",
     "start_time": "2023-11-18T19:54:46.134396Z"
    }
   },
   "id": "69ace61329f44f52"
  },
  {
   "cell_type": "code",
   "execution_count": 73,
   "outputs": [
    {
     "data": {
      "text/plain": "verb.id    Course                                 \nanswered   Human Factors of Interactive Technology     14754\n           Computer Architecture                        8191\n           Advanced Data Management Systems             3715\n           e-Learning                                   3397\n           Computer Organization                        2116\n           Computer Networks                            1373\ncompleted  Human Factors of Interactive Technology      5783\n           Computer Architecture                        4454\n           e-Learning                                   2309\n           Computer Organization                        1616\n           Web Applications                             1603\n           Computer Networks                            1244\n           Advanced Data Management Systems             1034\n           Human-computer interaction                    181\ncreate     Human Factors of Interactive Technology       823\n           e-Learning                                     67\n           Web Applications                               19\n           Computer Architecture                          17\n           Human-computer interaction                      4\n           Advanced Data Management Systems                1\njoin       Human-computer interaction                    136\nleave      Human-computer interaction                     34\nreceive    Computer Architecture                        3498\n           Human Factors of Interactive Technology      1838\n           Advanced Data Management Systems              484\n           Computer Organization                         310\n           e-Learning                                    292\n           Computer Networks                             160\nscored     Human Factors of Interactive Technology      1685\n           Web Applications                              659\n           Computer Organization                         596\n           Computer Networks                             509\n           Advanced Data Management Systems              410\n           Human-computer interaction                    185\n           Computer Architecture                         109\n           e-Learning                                     83\nstart      Human Factors of Interactive Technology      1635\n           Computer Architecture                        1510\n           Advanced Data Management Systems              443\n           e-Learning                                    342\n           Computer Organization                         310\n           Computer Networks                             160\nsubmit     Human Factors of Interactive Technology      1048\n           Advanced Data Management Systems              433\nviewed     Human Factors of Interactive Technology    107289\n           Computer Architecture                       56333\n           e-Learning                                  20055\n           Web Applications                            18418\n           Human-computer interaction                  15234\n           Advanced Data Management Systems            11915\n           Computer Organization                         315\n           Computer Networks                             162\nName: count, dtype: int64"
     },
     "execution_count": 73,
     "metadata": {},
     "output_type": "execute_result"
    }
   ],
   "source": [
    "df_freq = df.groupby('verb.id')['Course'].value_counts()\n",
    "df_freq"
   ],
   "metadata": {
    "collapsed": false,
    "ExecuteTime": {
     "end_time": "2023-11-18T19:54:46.317282400Z",
     "start_time": "2023-11-18T19:54:46.155574700Z"
    }
   },
   "id": "789d9b407099ad4d"
  },
  {
   "cell_type": "code",
   "execution_count": 74,
   "outputs": [
    {
     "data": {
      "text/plain": "      verb.id                                   Course   count\n0    answered  Human Factors of Interactive Technology   14754\n1    answered                    Computer Architecture    8191\n2    answered         Advanced Data Management Systems    3715\n3    answered                               e-Learning    3397\n4    answered                    Computer Organization    2116\n5    answered                        Computer Networks    1373\n6   completed  Human Factors of Interactive Technology    5783\n7   completed                    Computer Architecture    4454\n8   completed                               e-Learning    2309\n9   completed                    Computer Organization    1616\n10  completed                         Web Applications    1603\n11  completed                        Computer Networks    1244\n12  completed         Advanced Data Management Systems    1034\n13  completed               Human-computer interaction     181\n14     create  Human Factors of Interactive Technology     823\n15     create                               e-Learning      67\n16     create                         Web Applications      19\n17     create                    Computer Architecture      17\n18     create               Human-computer interaction       4\n19     create         Advanced Data Management Systems       1\n20       join               Human-computer interaction     136\n21      leave               Human-computer interaction      34\n22    receive                    Computer Architecture    3498\n23    receive  Human Factors of Interactive Technology    1838\n24    receive         Advanced Data Management Systems     484\n25    receive                    Computer Organization     310\n26    receive                               e-Learning     292\n27    receive                        Computer Networks     160\n28     scored  Human Factors of Interactive Technology    1685\n29     scored                         Web Applications     659\n30     scored                    Computer Organization     596\n31     scored                        Computer Networks     509\n32     scored         Advanced Data Management Systems     410\n33     scored               Human-computer interaction     185\n34     scored                    Computer Architecture     109\n35     scored                               e-Learning      83\n36      start  Human Factors of Interactive Technology    1635\n37      start                    Computer Architecture    1510\n38      start         Advanced Data Management Systems     443\n39      start                               e-Learning     342\n40      start                    Computer Organization     310\n41      start                        Computer Networks     160\n42     submit  Human Factors of Interactive Technology    1048\n43     submit         Advanced Data Management Systems     433\n44     viewed  Human Factors of Interactive Technology  107289\n45     viewed                    Computer Architecture   56333\n46     viewed                               e-Learning   20055\n47     viewed                         Web Applications   18418\n48     viewed               Human-computer interaction   15234\n49     viewed         Advanced Data Management Systems   11915\n50     viewed                    Computer Organization     315\n51     viewed                        Computer Networks     162",
      "text/html": "<div>\n<style scoped>\n    .dataframe tbody tr th:only-of-type {\n        vertical-align: middle;\n    }\n\n    .dataframe tbody tr th {\n        vertical-align: top;\n    }\n\n    .dataframe thead th {\n        text-align: right;\n    }\n</style>\n<table border=\"1\" class=\"dataframe\">\n  <thead>\n    <tr style=\"text-align: right;\">\n      <th></th>\n      <th>verb.id</th>\n      <th>Course</th>\n      <th>count</th>\n    </tr>\n  </thead>\n  <tbody>\n    <tr>\n      <th>0</th>\n      <td>answered</td>\n      <td>Human Factors of Interactive Technology</td>\n      <td>14754</td>\n    </tr>\n    <tr>\n      <th>1</th>\n      <td>answered</td>\n      <td>Computer Architecture</td>\n      <td>8191</td>\n    </tr>\n    <tr>\n      <th>2</th>\n      <td>answered</td>\n      <td>Advanced Data Management Systems</td>\n      <td>3715</td>\n    </tr>\n    <tr>\n      <th>3</th>\n      <td>answered</td>\n      <td>e-Learning</td>\n      <td>3397</td>\n    </tr>\n    <tr>\n      <th>4</th>\n      <td>answered</td>\n      <td>Computer Organization</td>\n      <td>2116</td>\n    </tr>\n    <tr>\n      <th>5</th>\n      <td>answered</td>\n      <td>Computer Networks</td>\n      <td>1373</td>\n    </tr>\n    <tr>\n      <th>6</th>\n      <td>completed</td>\n      <td>Human Factors of Interactive Technology</td>\n      <td>5783</td>\n    </tr>\n    <tr>\n      <th>7</th>\n      <td>completed</td>\n      <td>Computer Architecture</td>\n      <td>4454</td>\n    </tr>\n    <tr>\n      <th>8</th>\n      <td>completed</td>\n      <td>e-Learning</td>\n      <td>2309</td>\n    </tr>\n    <tr>\n      <th>9</th>\n      <td>completed</td>\n      <td>Computer Organization</td>\n      <td>1616</td>\n    </tr>\n    <tr>\n      <th>10</th>\n      <td>completed</td>\n      <td>Web Applications</td>\n      <td>1603</td>\n    </tr>\n    <tr>\n      <th>11</th>\n      <td>completed</td>\n      <td>Computer Networks</td>\n      <td>1244</td>\n    </tr>\n    <tr>\n      <th>12</th>\n      <td>completed</td>\n      <td>Advanced Data Management Systems</td>\n      <td>1034</td>\n    </tr>\n    <tr>\n      <th>13</th>\n      <td>completed</td>\n      <td>Human-computer interaction</td>\n      <td>181</td>\n    </tr>\n    <tr>\n      <th>14</th>\n      <td>create</td>\n      <td>Human Factors of Interactive Technology</td>\n      <td>823</td>\n    </tr>\n    <tr>\n      <th>15</th>\n      <td>create</td>\n      <td>e-Learning</td>\n      <td>67</td>\n    </tr>\n    <tr>\n      <th>16</th>\n      <td>create</td>\n      <td>Web Applications</td>\n      <td>19</td>\n    </tr>\n    <tr>\n      <th>17</th>\n      <td>create</td>\n      <td>Computer Architecture</td>\n      <td>17</td>\n    </tr>\n    <tr>\n      <th>18</th>\n      <td>create</td>\n      <td>Human-computer interaction</td>\n      <td>4</td>\n    </tr>\n    <tr>\n      <th>19</th>\n      <td>create</td>\n      <td>Advanced Data Management Systems</td>\n      <td>1</td>\n    </tr>\n    <tr>\n      <th>20</th>\n      <td>join</td>\n      <td>Human-computer interaction</td>\n      <td>136</td>\n    </tr>\n    <tr>\n      <th>21</th>\n      <td>leave</td>\n      <td>Human-computer interaction</td>\n      <td>34</td>\n    </tr>\n    <tr>\n      <th>22</th>\n      <td>receive</td>\n      <td>Computer Architecture</td>\n      <td>3498</td>\n    </tr>\n    <tr>\n      <th>23</th>\n      <td>receive</td>\n      <td>Human Factors of Interactive Technology</td>\n      <td>1838</td>\n    </tr>\n    <tr>\n      <th>24</th>\n      <td>receive</td>\n      <td>Advanced Data Management Systems</td>\n      <td>484</td>\n    </tr>\n    <tr>\n      <th>25</th>\n      <td>receive</td>\n      <td>Computer Organization</td>\n      <td>310</td>\n    </tr>\n    <tr>\n      <th>26</th>\n      <td>receive</td>\n      <td>e-Learning</td>\n      <td>292</td>\n    </tr>\n    <tr>\n      <th>27</th>\n      <td>receive</td>\n      <td>Computer Networks</td>\n      <td>160</td>\n    </tr>\n    <tr>\n      <th>28</th>\n      <td>scored</td>\n      <td>Human Factors of Interactive Technology</td>\n      <td>1685</td>\n    </tr>\n    <tr>\n      <th>29</th>\n      <td>scored</td>\n      <td>Web Applications</td>\n      <td>659</td>\n    </tr>\n    <tr>\n      <th>30</th>\n      <td>scored</td>\n      <td>Computer Organization</td>\n      <td>596</td>\n    </tr>\n    <tr>\n      <th>31</th>\n      <td>scored</td>\n      <td>Computer Networks</td>\n      <td>509</td>\n    </tr>\n    <tr>\n      <th>32</th>\n      <td>scored</td>\n      <td>Advanced Data Management Systems</td>\n      <td>410</td>\n    </tr>\n    <tr>\n      <th>33</th>\n      <td>scored</td>\n      <td>Human-computer interaction</td>\n      <td>185</td>\n    </tr>\n    <tr>\n      <th>34</th>\n      <td>scored</td>\n      <td>Computer Architecture</td>\n      <td>109</td>\n    </tr>\n    <tr>\n      <th>35</th>\n      <td>scored</td>\n      <td>e-Learning</td>\n      <td>83</td>\n    </tr>\n    <tr>\n      <th>36</th>\n      <td>start</td>\n      <td>Human Factors of Interactive Technology</td>\n      <td>1635</td>\n    </tr>\n    <tr>\n      <th>37</th>\n      <td>start</td>\n      <td>Computer Architecture</td>\n      <td>1510</td>\n    </tr>\n    <tr>\n      <th>38</th>\n      <td>start</td>\n      <td>Advanced Data Management Systems</td>\n      <td>443</td>\n    </tr>\n    <tr>\n      <th>39</th>\n      <td>start</td>\n      <td>e-Learning</td>\n      <td>342</td>\n    </tr>\n    <tr>\n      <th>40</th>\n      <td>start</td>\n      <td>Computer Organization</td>\n      <td>310</td>\n    </tr>\n    <tr>\n      <th>41</th>\n      <td>start</td>\n      <td>Computer Networks</td>\n      <td>160</td>\n    </tr>\n    <tr>\n      <th>42</th>\n      <td>submit</td>\n      <td>Human Factors of Interactive Technology</td>\n      <td>1048</td>\n    </tr>\n    <tr>\n      <th>43</th>\n      <td>submit</td>\n      <td>Advanced Data Management Systems</td>\n      <td>433</td>\n    </tr>\n    <tr>\n      <th>44</th>\n      <td>viewed</td>\n      <td>Human Factors of Interactive Technology</td>\n      <td>107289</td>\n    </tr>\n    <tr>\n      <th>45</th>\n      <td>viewed</td>\n      <td>Computer Architecture</td>\n      <td>56333</td>\n    </tr>\n    <tr>\n      <th>46</th>\n      <td>viewed</td>\n      <td>e-Learning</td>\n      <td>20055</td>\n    </tr>\n    <tr>\n      <th>47</th>\n      <td>viewed</td>\n      <td>Web Applications</td>\n      <td>18418</td>\n    </tr>\n    <tr>\n      <th>48</th>\n      <td>viewed</td>\n      <td>Human-computer interaction</td>\n      <td>15234</td>\n    </tr>\n    <tr>\n      <th>49</th>\n      <td>viewed</td>\n      <td>Advanced Data Management Systems</td>\n      <td>11915</td>\n    </tr>\n    <tr>\n      <th>50</th>\n      <td>viewed</td>\n      <td>Computer Organization</td>\n      <td>315</td>\n    </tr>\n    <tr>\n      <th>51</th>\n      <td>viewed</td>\n      <td>Computer Networks</td>\n      <td>162</td>\n    </tr>\n  </tbody>\n</table>\n</div>"
     },
     "execution_count": 74,
     "metadata": {},
     "output_type": "execute_result"
    }
   ],
   "source": [
    "df_count = df_freq.reset_index()\n",
    "df_count"
   ],
   "metadata": {
    "collapsed": false,
    "ExecuteTime": {
     "end_time": "2023-11-18T19:54:46.317282400Z",
     "start_time": "2023-11-18T19:54:46.237368Z"
    }
   },
   "id": "81a08ed4b5de24de"
  },
  {
   "cell_type": "code",
   "execution_count": 75,
   "outputs": [
    {
     "data": {
      "text/plain": "Empty DataFrame\nColumns: [verb, course, exp_freq, obs_freq]\nIndex: []",
      "text/html": "<div>\n<style scoped>\n    .dataframe tbody tr th:only-of-type {\n        vertical-align: middle;\n    }\n\n    .dataframe tbody tr th {\n        vertical-align: top;\n    }\n\n    .dataframe thead th {\n        text-align: right;\n    }\n</style>\n<table border=\"1\" class=\"dataframe\">\n  <thead>\n    <tr style=\"text-align: right;\">\n      <th></th>\n      <th>verb</th>\n      <th>course</th>\n      <th>exp_freq</th>\n      <th>obs_freq</th>\n    </tr>\n  </thead>\n  <tbody>\n  </tbody>\n</table>\n</div>"
     },
     "execution_count": 75,
     "metadata": {},
     "output_type": "execute_result"
    }
   ],
   "source": [
    "df_freq = pd.DataFrame(columns=['verb', 'course', 'exp_freq', 'obs_freq'])\n",
    "df_freq"
   ],
   "metadata": {
    "collapsed": false,
    "ExecuteTime": {
     "end_time": "2023-11-18T19:54:46.317282400Z",
     "start_time": "2023-11-18T19:54:46.248428700Z"
    }
   },
   "id": "29f406b598751af"
  },
  {
   "cell_type": "code",
   "execution_count": 76,
   "outputs": [
    {
     "data": {
      "text/plain": "        verb                                   course   exp_freq  obs_freq\n0   answered  Human Factors of Interactive Technology   4193.250     14754\n1   answered                    Computer Architecture   4193.250      8191\n2   answered         Advanced Data Management Systems   4193.250      3715\n3   answered                               e-Learning   4193.250      3397\n4   answered                    Computer Organization   4193.250      2116\n..       ...                                      ...        ...       ...\n75    viewed                               e-Learning  28715.125     20055\n76    viewed                    Computer Organization  28715.125       315\n77    viewed                        Computer Networks  28715.125       162\n78    viewed                         Web Applications  28715.125     18418\n79    viewed               Human-computer interaction  28715.125     15234\n\n[80 rows x 4 columns]",
      "text/html": "<div>\n<style scoped>\n    .dataframe tbody tr th:only-of-type {\n        vertical-align: middle;\n    }\n\n    .dataframe tbody tr th {\n        vertical-align: top;\n    }\n\n    .dataframe thead th {\n        text-align: right;\n    }\n</style>\n<table border=\"1\" class=\"dataframe\">\n  <thead>\n    <tr style=\"text-align: right;\">\n      <th></th>\n      <th>verb</th>\n      <th>course</th>\n      <th>exp_freq</th>\n      <th>obs_freq</th>\n    </tr>\n  </thead>\n  <tbody>\n    <tr>\n      <th>0</th>\n      <td>answered</td>\n      <td>Human Factors of Interactive Technology</td>\n      <td>4193.250</td>\n      <td>14754</td>\n    </tr>\n    <tr>\n      <th>1</th>\n      <td>answered</td>\n      <td>Computer Architecture</td>\n      <td>4193.250</td>\n      <td>8191</td>\n    </tr>\n    <tr>\n      <th>2</th>\n      <td>answered</td>\n      <td>Advanced Data Management Systems</td>\n      <td>4193.250</td>\n      <td>3715</td>\n    </tr>\n    <tr>\n      <th>3</th>\n      <td>answered</td>\n      <td>e-Learning</td>\n      <td>4193.250</td>\n      <td>3397</td>\n    </tr>\n    <tr>\n      <th>4</th>\n      <td>answered</td>\n      <td>Computer Organization</td>\n      <td>4193.250</td>\n      <td>2116</td>\n    </tr>\n    <tr>\n      <th>...</th>\n      <td>...</td>\n      <td>...</td>\n      <td>...</td>\n      <td>...</td>\n    </tr>\n    <tr>\n      <th>75</th>\n      <td>viewed</td>\n      <td>e-Learning</td>\n      <td>28715.125</td>\n      <td>20055</td>\n    </tr>\n    <tr>\n      <th>76</th>\n      <td>viewed</td>\n      <td>Computer Organization</td>\n      <td>28715.125</td>\n      <td>315</td>\n    </tr>\n    <tr>\n      <th>77</th>\n      <td>viewed</td>\n      <td>Computer Networks</td>\n      <td>28715.125</td>\n      <td>162</td>\n    </tr>\n    <tr>\n      <th>78</th>\n      <td>viewed</td>\n      <td>Web Applications</td>\n      <td>28715.125</td>\n      <td>18418</td>\n    </tr>\n    <tr>\n      <th>79</th>\n      <td>viewed</td>\n      <td>Human-computer interaction</td>\n      <td>28715.125</td>\n      <td>15234</td>\n    </tr>\n  </tbody>\n</table>\n<p>80 rows × 4 columns</p>\n</div>"
     },
     "execution_count": 76,
     "metadata": {},
     "output_type": "execute_result"
    }
   ],
   "source": [
    "for verb in df_count['verb.id'].drop_duplicates().tolist():\n",
    "    for course in df_count['Course'].drop_duplicates().tolist():\n",
    "        if ((df_count['verb.id'] == verb) & (df_count['Course'] == course)).any():\n",
    "            obs_freq = df_count.loc[(df_count['verb.id'] == verb) & (df_count['Course'] == course), 'count'].iloc[0]\n",
    "        else:\n",
    "            obs_freq = 0\n",
    "        \n",
    "        df_freq.loc[len(df_freq)] = {\n",
    "            'verb': verb,\n",
    "            'course': course,\n",
    "            'exp_freq': 1/8 * sum(df_count.loc[(df_count['verb.id'] == verb)]['count']),\n",
    "            'obs_freq': obs_freq\n",
    "        }\n",
    "        \n",
    "df_freq"
   ],
   "metadata": {
    "collapsed": false,
    "ExecuteTime": {
     "end_time": "2023-11-18T19:54:46.500327800Z",
     "start_time": "2023-11-18T19:54:46.255360200Z"
    }
   },
   "id": "bb3c674fc4925594"
  },
  {
   "cell_type": "markdown",
   "source": [
    "$H_0: \\ The \\ verbs \\ are \\ uniformly \\ distributed \\ across \\ courses.$\n",
    "\n",
    "\n",
    "$H_1: \\ The \\ verbs \\ are \\ not \\ uniformly \\ distributed \\ across \\ courses.$"
   ],
   "metadata": {
    "collapsed": false
   },
   "id": "c8885eec21cd5b34"
  },
  {
   "cell_type": "code",
   "execution_count": 77,
   "outputs": [],
   "source": [
    "alpha = 0.01 "
   ],
   "metadata": {
    "collapsed": false,
    "ExecuteTime": {
     "end_time": "2023-11-18T19:54:46.500327800Z",
     "start_time": "2023-11-18T19:54:46.456168700Z"
    }
   },
   "id": "324bce361032848"
  },
  {
   "cell_type": "markdown",
   "source": [
    "$\\chi^{2} = \\sum \\frac {(O - E)^{2}} {E}$"
   ],
   "metadata": {
    "collapsed": false
   },
   "id": "cb4a361bfc4982c1"
  },
  {
   "cell_type": "code",
   "execution_count": 85,
   "outputs": [
    {
     "name": "stdout",
     "output_type": "stream",
     "text": [
      "Course:Human Factors of Interactive Technology\n",
      "Chi-squared: 261242.3575437683\n",
      "p-value: 0.0\n",
      "Reject the null hypothesis: True\n",
      "\n",
      "Course:Computer Architecture\n",
      "Chi-squared: 43452.12260002721\n",
      "p-value: 0.0\n",
      "Reject the null hypothesis: True\n",
      "\n",
      "Course:Advanced Data Management Systems\n",
      "Chi-squared: 11217.7852148754\n",
      "p-value: 0.0\n",
      "Reject the null hypothesis: True\n",
      "\n",
      "Course:e-Learning\n",
      "Chi-squared: 3788.285432569007\n",
      "p-value: 0.0\n",
      "Reject the null hypothesis: True\n",
      "\n",
      "Course:Computer Organization\n",
      "Chi-squared: 30065.370977486305\n",
      "p-value: 0.0\n",
      "Reject the null hypothesis: True\n",
      "\n",
      "Course:Computer Networks\n",
      "Chi-squared: 31892.145755209207\n",
      "p-value: 0.0\n",
      "Reject the null hypothesis: True\n",
      "\n",
      "Course:Web Applications\n",
      "Chi-squared: 9778.041290447616\n",
      "p-value: 0.0\n",
      "Reject the null hypothesis: True\n",
      "\n",
      "Course:Human-computer interaction\n",
      "Chi-squared: 15384.49961715622\n",
      "p-value: 0.0\n",
      "Reject the null hypothesis: True\n"
     ]
    }
   ],
   "source": [
    "for course in df_count['Course'].drop_duplicates().tolist():\n",
    "    course_df = df_freq.loc[(df_freq['course'] == course)]\n",
    "    O_E = (course_df['obs_freq'] - course_df['exp_freq']) ** 2\n",
    "    chi_squared = np.sum(O_E / course_df['exp_freq'])\n",
    "    p = 1 - chi2.cdf(chi_squared, df=7)\n",
    "    \n",
    "    print(f'Course:{course}\\nChi-squared: {chi_squared}\\np-value: {p}\\nReject the null hypothesis: {p < alpha}')\n",
    "    print()"
   ],
   "metadata": {
    "collapsed": false,
    "ExecuteTime": {
     "start_time": "2023-11-18T20:01:40.860406400Z"
    }
   },
   "id": "fd5b42b020a25187"
  }
 ],
 "metadata": {
  "kernelspec": {
   "display_name": "Python 3",
   "language": "python",
   "name": "python3"
  },
  "language_info": {
   "codemirror_mode": {
    "name": "ipython",
    "version": 2
   },
   "file_extension": ".py",
   "mimetype": "text/x-python",
   "name": "python",
   "nbconvert_exporter": "python",
   "pygments_lexer": "ipython2",
   "version": "2.7.6"
  }
 },
 "nbformat": 4,
 "nbformat_minor": 5
}
