{
 "cells": [
  {
   "cell_type": "code",
   "execution_count": 2,
   "id": "initial_id",
   "metadata": {
    "ExecuteTime": {
     "end_time": "2023-11-08T12:52:38.100634900Z",
     "start_time": "2023-11-08T12:52:38.060997700Z"
    },
    "collapsed": true
   },
   "outputs": [],
   "source": [
    "import pandas as pd\n",
    "import matplotlib.pyplot as plt\n",
    "from pywaffle import Waffle"
   ]
  },
  {
   "cell_type": "markdown",
   "id": "3db368a173256025",
   "metadata": {
    "collapsed": false
   },
   "source": [
    "# Load data"
   ]
  },
  {
   "cell_type": "code",
   "execution_count": 3,
   "id": "7c02d4bfed98bb2a",
   "metadata": {
    "ExecuteTime": {
     "end_time": "2023-11-08T12:52:38.692659300Z",
     "start_time": "2023-11-08T12:52:38.085258400Z"
    },
    "collapsed": false
   },
   "outputs": [
    {
     "data": {
      "text/html": [
       "<div>\n",
       "<style scoped>\n",
       "    .dataframe tbody tr th:only-of-type {\n",
       "        vertical-align: middle;\n",
       "    }\n",
       "\n",
       "    .dataframe tbody tr th {\n",
       "        vertical-align: top;\n",
       "    }\n",
       "\n",
       "    .dataframe thead th {\n",
       "        text-align: right;\n",
       "    }\n",
       "</style>\n",
       "<table border=\"1\" class=\"dataframe\">\n",
       "  <thead>\n",
       "    <tr style=\"text-align: right;\">\n",
       "      <th></th>\n",
       "      <th>Institution</th>\n",
       "      <th>Course</th>\n",
       "      <th>actor.id</th>\n",
       "      <th>timestamp</th>\n",
       "      <th>verb.id</th>\n",
       "      <th>object.definition.type</th>\n",
       "      <th>result.score.scaled</th>\n",
       "      <th>result.success</th>\n",
       "      <th>result.completion</th>\n",
       "      <th>Teaching</th>\n",
       "    </tr>\n",
       "  </thead>\n",
       "  <tbody>\n",
       "    <tr>\n",
       "      <th>0</th>\n",
       "      <td>UEF</td>\n",
       "      <td>Advanced Data Management Systems</td>\n",
       "      <td>0</td>\n",
       "      <td>2023-07-07 18:55:47</td>\n",
       "      <td>viewed</td>\n",
       "      <td>course</td>\n",
       "      <td>NaN</td>\n",
       "      <td>False</td>\n",
       "      <td>False</td>\n",
       "      <td>Flipped classroom</td>\n",
       "    </tr>\n",
       "    <tr>\n",
       "      <th>1</th>\n",
       "      <td>UEF</td>\n",
       "      <td>Advanced Data Management Systems</td>\n",
       "      <td>0</td>\n",
       "      <td>2023-07-07 15:21:18</td>\n",
       "      <td>viewed</td>\n",
       "      <td>link</td>\n",
       "      <td>NaN</td>\n",
       "      <td>False</td>\n",
       "      <td>False</td>\n",
       "      <td>Flipped classroom</td>\n",
       "    </tr>\n",
       "    <tr>\n",
       "      <th>2</th>\n",
       "      <td>UEF</td>\n",
       "      <td>Advanced Data Management Systems</td>\n",
       "      <td>0</td>\n",
       "      <td>2023-07-07 15:08:13</td>\n",
       "      <td>viewed</td>\n",
       "      <td>link</td>\n",
       "      <td>NaN</td>\n",
       "      <td>False</td>\n",
       "      <td>False</td>\n",
       "      <td>Flipped classroom</td>\n",
       "    </tr>\n",
       "    <tr>\n",
       "      <th>3</th>\n",
       "      <td>UEF</td>\n",
       "      <td>Advanced Data Management Systems</td>\n",
       "      <td>0</td>\n",
       "      <td>2023-07-07 15:08:10</td>\n",
       "      <td>viewed</td>\n",
       "      <td>course</td>\n",
       "      <td>NaN</td>\n",
       "      <td>False</td>\n",
       "      <td>False</td>\n",
       "      <td>Flipped classroom</td>\n",
       "    </tr>\n",
       "    <tr>\n",
       "      <th>4</th>\n",
       "      <td>UEF</td>\n",
       "      <td>Advanced Data Management Systems</td>\n",
       "      <td>0</td>\n",
       "      <td>2023-07-07 09:03:32</td>\n",
       "      <td>viewed</td>\n",
       "      <td>course</td>\n",
       "      <td>NaN</td>\n",
       "      <td>False</td>\n",
       "      <td>False</td>\n",
       "      <td>Flipped classroom</td>\n",
       "    </tr>\n",
       "    <tr>\n",
       "      <th>...</th>\n",
       "      <td>...</td>\n",
       "      <td>...</td>\n",
       "      <td>...</td>\n",
       "      <td>...</td>\n",
       "      <td>...</td>\n",
       "      <td>...</td>\n",
       "      <td>...</td>\n",
       "      <td>...</td>\n",
       "      <td>...</td>\n",
       "      <td>...</td>\n",
       "    </tr>\n",
       "    <tr>\n",
       "      <th>299286</th>\n",
       "      <td>BMU</td>\n",
       "      <td>Computer Networks</td>\n",
       "      <td>820</td>\n",
       "      <td>2023-06-11 22:57:27</td>\n",
       "      <td>answered</td>\n",
       "      <td>cmi.interaction</td>\n",
       "      <td>1.000</td>\n",
       "      <td>True</td>\n",
       "      <td>True</td>\n",
       "      <td>Flipped classroom</td>\n",
       "    </tr>\n",
       "    <tr>\n",
       "      <th>299287</th>\n",
       "      <td>BMU</td>\n",
       "      <td>Computer Networks</td>\n",
       "      <td>799</td>\n",
       "      <td>2023-05-16 00:05:45</td>\n",
       "      <td>answered</td>\n",
       "      <td>cmi.interaction</td>\n",
       "      <td>0.000</td>\n",
       "      <td>False</td>\n",
       "      <td>True</td>\n",
       "      <td>Flipped classroom</td>\n",
       "    </tr>\n",
       "    <tr>\n",
       "      <th>299288</th>\n",
       "      <td>BMU</td>\n",
       "      <td>Computer Networks</td>\n",
       "      <td>788</td>\n",
       "      <td>2023-05-12 22:10:50</td>\n",
       "      <td>completed</td>\n",
       "      <td>assessment</td>\n",
       "      <td>0.375</td>\n",
       "      <td>True</td>\n",
       "      <td>True</td>\n",
       "      <td>Flipped classroom</td>\n",
       "    </tr>\n",
       "    <tr>\n",
       "      <th>299289</th>\n",
       "      <td>BMU</td>\n",
       "      <td>Computer Networks</td>\n",
       "      <td>788</td>\n",
       "      <td>2023-02-27 22:45:33</td>\n",
       "      <td>completed</td>\n",
       "      <td>module</td>\n",
       "      <td>NaN</td>\n",
       "      <td>False</td>\n",
       "      <td>False</td>\n",
       "      <td>Flipped classroom</td>\n",
       "    </tr>\n",
       "    <tr>\n",
       "      <th>299290</th>\n",
       "      <td>BMU</td>\n",
       "      <td>Computer Networks</td>\n",
       "      <td>810</td>\n",
       "      <td>2023-06-01 21:23:16</td>\n",
       "      <td>answered</td>\n",
       "      <td>cmi.interaction</td>\n",
       "      <td>0.000</td>\n",
       "      <td>False</td>\n",
       "      <td>True</td>\n",
       "      <td>Flipped classroom</td>\n",
       "    </tr>\n",
       "  </tbody>\n",
       "</table>\n",
       "<p>299291 rows × 10 columns</p>\n",
       "</div>"
      ],
      "text/plain": [
       "       Institution                            Course  actor.id  \\\n",
       "0              UEF  Advanced Data Management Systems         0   \n",
       "1              UEF  Advanced Data Management Systems         0   \n",
       "2              UEF  Advanced Data Management Systems         0   \n",
       "3              UEF  Advanced Data Management Systems         0   \n",
       "4              UEF  Advanced Data Management Systems         0   \n",
       "...            ...                               ...       ...   \n",
       "299286         BMU                 Computer Networks       820   \n",
       "299287         BMU                 Computer Networks       799   \n",
       "299288         BMU                 Computer Networks       788   \n",
       "299289         BMU                 Computer Networks       788   \n",
       "299290         BMU                 Computer Networks       810   \n",
       "\n",
       "                  timestamp    verb.id object.definition.type  \\\n",
       "0       2023-07-07 18:55:47     viewed                 course   \n",
       "1       2023-07-07 15:21:18     viewed                   link   \n",
       "2       2023-07-07 15:08:13     viewed                   link   \n",
       "3       2023-07-07 15:08:10     viewed                 course   \n",
       "4       2023-07-07 09:03:32     viewed                 course   \n",
       "...                     ...        ...                    ...   \n",
       "299286  2023-06-11 22:57:27   answered        cmi.interaction   \n",
       "299287  2023-05-16 00:05:45   answered        cmi.interaction   \n",
       "299288  2023-05-12 22:10:50  completed             assessment   \n",
       "299289  2023-02-27 22:45:33  completed                 module   \n",
       "299290  2023-06-01 21:23:16   answered        cmi.interaction   \n",
       "\n",
       "        result.score.scaled  result.success  result.completion  \\\n",
       "0                       NaN           False              False   \n",
       "1                       NaN           False              False   \n",
       "2                       NaN           False              False   \n",
       "3                       NaN           False              False   \n",
       "4                       NaN           False              False   \n",
       "...                     ...             ...                ...   \n",
       "299286                1.000            True               True   \n",
       "299287                0.000           False               True   \n",
       "299288                0.375            True               True   \n",
       "299289                  NaN           False              False   \n",
       "299290                0.000           False               True   \n",
       "\n",
       "                 Teaching  \n",
       "0       Flipped classroom  \n",
       "1       Flipped classroom  \n",
       "2       Flipped classroom  \n",
       "3       Flipped classroom  \n",
       "4       Flipped classroom  \n",
       "...                   ...  \n",
       "299286  Flipped classroom  \n",
       "299287  Flipped classroom  \n",
       "299288  Flipped classroom  \n",
       "299289  Flipped classroom  \n",
       "299290  Flipped classroom  \n",
       "\n",
       "[299291 rows x 10 columns]"
      ]
     },
     "execution_count": 3,
     "metadata": {},
     "output_type": "execute_result"
    }
   ],
   "source": [
    "df = pd.read_csv('../data/processed.csv')\n",
    "df"
   ]
  },
  {
   "cell_type": "code",
   "execution_count": 4,
   "id": "b020b1535115a9c1",
   "metadata": {
    "ExecuteTime": {
     "end_time": "2023-11-08T12:52:38.800196400Z",
     "start_time": "2023-11-08T12:52:38.692659300Z"
    },
    "collapsed": false
   },
   "outputs": [
    {
     "data": {
      "text/html": [
       "<div>\n",
       "<style scoped>\n",
       "    .dataframe tbody tr th:only-of-type {\n",
       "        vertical-align: middle;\n",
       "    }\n",
       "\n",
       "    .dataframe tbody tr th {\n",
       "        vertical-align: top;\n",
       "    }\n",
       "\n",
       "    .dataframe thead th {\n",
       "        text-align: right;\n",
       "    }\n",
       "</style>\n",
       "<table border=\"1\" class=\"dataframe\">\n",
       "  <thead>\n",
       "    <tr style=\"text-align: right;\">\n",
       "      <th></th>\n",
       "      <th>actor.id</th>\n",
       "      <th>result.score.scaled</th>\n",
       "    </tr>\n",
       "  </thead>\n",
       "  <tbody>\n",
       "    <tr>\n",
       "      <th>count</th>\n",
       "      <td>299291.000000</td>\n",
       "      <td>11558.00000</td>\n",
       "    </tr>\n",
       "    <tr>\n",
       "      <th>mean</th>\n",
       "      <td>366.884003</td>\n",
       "      <td>0.78472</td>\n",
       "    </tr>\n",
       "    <tr>\n",
       "      <th>std</th>\n",
       "      <td>219.070187</td>\n",
       "      <td>0.35866</td>\n",
       "    </tr>\n",
       "    <tr>\n",
       "      <th>min</th>\n",
       "      <td>0.000000</td>\n",
       "      <td>0.00000</td>\n",
       "    </tr>\n",
       "    <tr>\n",
       "      <th>25%</th>\n",
       "      <td>169.000000</td>\n",
       "      <td>0.70000</td>\n",
       "    </tr>\n",
       "    <tr>\n",
       "      <th>50%</th>\n",
       "      <td>307.000000</td>\n",
       "      <td>1.00000</td>\n",
       "    </tr>\n",
       "    <tr>\n",
       "      <th>75%</th>\n",
       "      <td>576.000000</td>\n",
       "      <td>1.00000</td>\n",
       "    </tr>\n",
       "    <tr>\n",
       "      <th>max</th>\n",
       "      <td>828.000000</td>\n",
       "      <td>1.00000</td>\n",
       "    </tr>\n",
       "  </tbody>\n",
       "</table>\n",
       "</div>"
      ],
      "text/plain": [
       "            actor.id  result.score.scaled\n",
       "count  299291.000000          11558.00000\n",
       "mean      366.884003              0.78472\n",
       "std       219.070187              0.35866\n",
       "min         0.000000              0.00000\n",
       "25%       169.000000              0.70000\n",
       "50%       307.000000              1.00000\n",
       "75%       576.000000              1.00000\n",
       "max       828.000000              1.00000"
      ]
     },
     "execution_count": 4,
     "metadata": {},
     "output_type": "execute_result"
    }
   ],
   "source": [
    "df.describe()"
   ]
  },
  {
   "cell_type": "markdown",
   "id": "425be3a5e2958024",
   "metadata": {
    "collapsed": false
   },
   "source": [
    "# Analysis"
   ]
  },
  {
   "cell_type": "code",
   "execution_count": 5,
   "id": "ed55b15baf462196",
   "metadata": {
    "ExecuteTime": {
     "end_time": "2023-11-08T12:52:38.915862100Z",
     "start_time": "2023-11-08T12:52:38.753307700Z"
    },
    "collapsed": false
   },
   "outputs": [],
   "source": [
    "color_df = pd.DataFrame({\n",
    "    'Institution': df['Institution'].unique(),\n",
    "    'color': ['red', 'blue', 'green', 'yellow']\n",
    "})\n",
    "color_df = color_df.merge(df[['Course', 'Institution']].drop_duplicates(), how='left')"
   ]
  },
  {
   "cell_type": "code",
   "execution_count": 6,
   "id": "909e7f292d7ca2ea",
   "metadata": {
    "ExecuteTime": {
     "end_time": "2023-11-08T12:52:39.230072Z",
     "start_time": "2023-11-08T12:52:39.103600700Z"
    },
    "collapsed": false
   },
   "outputs": [
    {
     "data": {
      "text/html": [
       "<div>\n",
       "<style scoped>\n",
       "    .dataframe tbody tr th:only-of-type {\n",
       "        vertical-align: middle;\n",
       "    }\n",
       "\n",
       "    .dataframe tbody tr th {\n",
       "        vertical-align: top;\n",
       "    }\n",
       "\n",
       "    .dataframe thead th {\n",
       "        text-align: right;\n",
       "    }\n",
       "</style>\n",
       "<table border=\"1\" class=\"dataframe\">\n",
       "  <thead>\n",
       "    <tr style=\"text-align: right;\">\n",
       "      <th></th>\n",
       "      <th>Institution</th>\n",
       "      <th>color</th>\n",
       "      <th>Course</th>\n",
       "    </tr>\n",
       "  </thead>\n",
       "  <tbody>\n",
       "    <tr>\n",
       "      <th>0</th>\n",
       "      <td>UEF</td>\n",
       "      <td>red</td>\n",
       "      <td>Advanced Data Management Systems</td>\n",
       "    </tr>\n",
       "    <tr>\n",
       "      <th>1</th>\n",
       "      <td>UEF</td>\n",
       "      <td>red</td>\n",
       "      <td>Human Factors of Interactive Technology</td>\n",
       "    </tr>\n",
       "    <tr>\n",
       "      <th>2</th>\n",
       "      <td>SU</td>\n",
       "      <td>blue</td>\n",
       "      <td>Human-computer interaction</td>\n",
       "    </tr>\n",
       "    <tr>\n",
       "      <th>3</th>\n",
       "      <td>SU</td>\n",
       "      <td>blue</td>\n",
       "      <td>e-Learning</td>\n",
       "    </tr>\n",
       "    <tr>\n",
       "      <th>4</th>\n",
       "      <td>UL</td>\n",
       "      <td>green</td>\n",
       "      <td>Computer Architecture</td>\n",
       "    </tr>\n",
       "    <tr>\n",
       "      <th>5</th>\n",
       "      <td>UL</td>\n",
       "      <td>green</td>\n",
       "      <td>Web Applications</td>\n",
       "    </tr>\n",
       "    <tr>\n",
       "      <th>6</th>\n",
       "      <td>BMU</td>\n",
       "      <td>yellow</td>\n",
       "      <td>Computer Organization</td>\n",
       "    </tr>\n",
       "    <tr>\n",
       "      <th>7</th>\n",
       "      <td>BMU</td>\n",
       "      <td>yellow</td>\n",
       "      <td>Computer Networks</td>\n",
       "    </tr>\n",
       "  </tbody>\n",
       "</table>\n",
       "</div>"
      ],
      "text/plain": [
       "  Institution   color                                   Course\n",
       "0         UEF     red         Advanced Data Management Systems\n",
       "1         UEF     red  Human Factors of Interactive Technology\n",
       "2          SU    blue               Human-computer interaction\n",
       "3          SU    blue                               e-Learning\n",
       "4          UL   green                    Computer Architecture\n",
       "5          UL   green                         Web Applications\n",
       "6         BMU  yellow                    Computer Organization\n",
       "7         BMU  yellow                        Computer Networks"
      ]
     },
     "execution_count": 6,
     "metadata": {},
     "output_type": "execute_result"
    }
   ],
   "source": [
    "color_df"
   ]
  },
  {
   "cell_type": "markdown",
   "id": "7027466864d80e2c",
   "metadata": {
    "collapsed": false
   },
   "source": [
    "## Average number of interactions by user"
   ]
  },
  {
   "cell_type": "code",
   "execution_count": 7,
   "id": "c2fb5a0214bfcf84",
   "metadata": {
    "ExecuteTime": {
     "end_time": "2023-11-08T12:52:40.945024100Z",
     "start_time": "2023-11-08T12:52:40.894202900Z"
    },
    "collapsed": false
   },
   "outputs": [
    {
     "data": {
      "text/plain": [
       "Course\n",
       "Human Factors of Interactive Technology    134855\n",
       "Computer Architecture                       74112\n",
       "e-Learning                                  26545\n",
       "Web Applications                            20699\n",
       "Advanced Data Management Systems            18435\n",
       "Human-computer interaction                  15774\n",
       "Computer Organization                        5263\n",
       "Computer Networks                            3608\n",
       "Name: count, dtype: int64"
      ]
     },
     "execution_count": 7,
     "metadata": {},
     "output_type": "execute_result"
    }
   ],
   "source": [
    "df_value_counts = df['Course'].value_counts()\n",
    "df_value_counts"
   ]
  },
  {
   "cell_type": "code",
   "execution_count": 8,
   "id": "dd55eb3c8cefc3b0",
   "metadata": {
    "ExecuteTime": {
     "end_time": "2023-11-08T12:52:42.375613500Z",
     "start_time": "2023-11-08T12:52:42.327854700Z"
    },
    "collapsed": false
   },
   "outputs": [],
   "source": [
    "colors = [color_df[color_df['Course'] == course].iloc[0][['color']].iloc[0] for course in list(df['Course'].value_counts().to_frame().index)]"
   ]
  },
  {
   "cell_type": "code",
   "execution_count": 9,
   "id": "50b681cdfd995dc2",
   "metadata": {
    "ExecuteTime": {
     "end_time": "2023-11-08T12:52:42.969636700Z",
     "start_time": "2023-11-08T12:52:42.487233200Z"
    },
    "collapsed": false
   },
   "outputs": [
    {
     "data": {
      "image/png": "[encoded data removed]",
      "text/plain": [
       "<Figure size 1000x1000 with 1 Axes>"
      ]
     },
     "metadata": {},
     "output_type": "display_data"
    }
   ],
   "source": [
    "plt.figure(figsize=(10,10))\n",
    "plt.title(\"Number of user interactions by course\")\n",
    "plt.pie(\n",
    "    df['Course'].value_counts().to_frame()['Course'], \n",
    "    labels=df['Course'].value_counts().to_frame().index,\n",
    "    autopct='%.0f%%',\n",
    "    colors=colors\n",
    ")\n",
    "plt.show()"
   ]
  },
  {
   "cell_type": "code",
   "execution_count": 13,
   "id": "fc0297c99dd4b75e",
   "metadata": {
    "ExecuteTime": {
     "end_time": "2023-11-08T12:55:31.569301Z",
     "start_time": "2023-11-08T12:55:31.517136100Z"
    },
    "collapsed": false
   },
   "outputs": [
    {
     "data": {
      "text/plain": [
       "{'Human Factors of Interactive Technology': 134855,\n",
       " 'Computer Architecture': 74112,\n",
       " 'e-Learning': 26545,\n",
       " 'Web Applications': 20699,\n",
       " 'Advanced Data Management Systems': 18435,\n",
       " 'Human-computer interaction': 15774,\n",
       " 'Computer Organization': 5263,\n",
       " 'Computer Networks': 3608}"
      ]
     },
     "execution_count": 13,
     "metadata": {},
     "output_type": "execute_result"
    }
   ],
   "source": [
    "data = {k: v for k, v in zip(\n",
    "    df['Course'].value_counts().to_frame().index,\n",
    "    df['Course'].value_counts().to_frame()['Course']\n",
    ")}\n",
    "data"
   ]
  },
  {
   "cell_type": "code",
   "execution_count": 31,
   "id": "f1a74c39b3022ca6",
   "metadata": {
    "ExecuteTime": {
     "end_time": "2023-11-08T13:07:06.246096300Z",
     "start_time": "2023-11-08T13:07:03.653897800Z"
    },
    "collapsed": false
   },
   "outputs": [
    {
     "data": {
      "image/png": "[encoded data removed]",
      "text/plain": [
       "<Waffle size 900x1000 with 1 Axes>"
      ]
     },
     "metadata": {},
     "output_type": "display_data"
    }
   ],
   "source": [
    "fig = plt.figure(\n",
    "    FigureClass=Waffle,\n",
    "    rows=20,\n",
    "    columns=50, \n",
    "    values=data,\n",
    "    colors=colors,\n",
    "    legend={'loc': 'upper left', 'bbox_to_anchor': (1, 1)},\n",
    "    icons='person',\n",
    "    font_size=12,\n",
    "    icon_legend=True,\n",
    "    figsize=(9, 10)\n",
    ")\n",
    "plt.show()"
   ]
  },
  {
   "cell_type": "markdown",
   "id": "82a89a8bc7aa978b",
   "metadata": {
    "collapsed": false
   },
   "source": [
    "Number of users in each course:"
   ]
  },
  {
   "cell_type": "code",
   "execution_count": 9,
   "id": "e0c29a118cbd65a8",
   "metadata": {
    "ExecuteTime": {
     "end_time": "2023-11-07T17:58:04.667105300Z",
     "start_time": "2023-11-07T17:58:04.583837100Z"
    },
    "collapsed": false
   },
   "outputs": [
    {
     "data": {
      "text/html": [
       "<div>\n",
       "<style scoped>\n",
       "    .dataframe tbody tr th:only-of-type {\n",
       "        vertical-align: middle;\n",
       "    }\n",
       "\n",
       "    .dataframe tbody tr th {\n",
       "        vertical-align: top;\n",
       "    }\n",
       "\n",
       "    .dataframe thead th {\n",
       "        text-align: right;\n",
       "    }\n",
       "</style>\n",
       "<table border=\"1\" class=\"dataframe\">\n",
       "  <thead>\n",
       "    <tr style=\"text-align: right;\">\n",
       "      <th></th>\n",
       "      <th>actor.id</th>\n",
       "    </tr>\n",
       "    <tr>\n",
       "      <th>Course</th>\n",
       "      <th></th>\n",
       "    </tr>\n",
       "  </thead>\n",
       "  <tbody>\n",
       "    <tr>\n",
       "      <th>Advanced Data Management Systems</th>\n",
       "      <td>82</td>\n",
       "    </tr>\n",
       "    <tr>\n",
       "      <th>Computer Architecture</th>\n",
       "      <td>99</td>\n",
       "    </tr>\n",
       "    <tr>\n",
       "      <th>Computer Networks</th>\n",
       "      <td>41</td>\n",
       "    </tr>\n",
       "    <tr>\n",
       "      <th>Computer Organization</th>\n",
       "      <td>79</td>\n",
       "    </tr>\n",
       "    <tr>\n",
       "      <th>Human Factors of Interactive Technology</th>\n",
       "      <td>259</td>\n",
       "    </tr>\n",
       "    <tr>\n",
       "      <th>Human-computer interaction</th>\n",
       "      <td>120</td>\n",
       "    </tr>\n",
       "    <tr>\n",
       "      <th>Web Applications</th>\n",
       "      <td>67</td>\n",
       "    </tr>\n",
       "    <tr>\n",
       "      <th>e-Learning</th>\n",
       "      <td>82</td>\n",
       "    </tr>\n",
       "  </tbody>\n",
       "</table>\n",
       "</div>"
      ],
      "text/plain": [
       "                                         actor.id\n",
       "Course                                           \n",
       "Advanced Data Management Systems               82\n",
       "Computer Architecture                          99\n",
       "Computer Networks                              41\n",
       "Computer Organization                          79\n",
       "Human Factors of Interactive Technology       259\n",
       "Human-computer interaction                    120\n",
       "Web Applications                               67\n",
       "e-Learning                                     82"
      ]
     },
     "execution_count": 9,
     "metadata": {},
     "output_type": "execute_result"
    }
   ],
   "source": [
    "df_actor_count = df[['Course', 'actor.id']].groupby(['Course']).nunique()\n",
    "df_actor_count"
   ]
  },
  {
   "cell_type": "markdown",
   "id": "7f95c512688fa8bb",
   "metadata": {
    "collapsed": false
   },
   "source": [
    "**Mean** interaction count for each user (by course):"
   ]
  },
  {
   "cell_type": "code",
   "execution_count": 10,
   "id": "76d0b88ca8a82b6a",
   "metadata": {
    "ExecuteTime": {
     "end_time": "2023-11-07T17:58:04.830086Z",
     "start_time": "2023-11-07T17:58:04.667105300Z"
    },
    "collapsed": false
   },
   "outputs": [
    {
     "data": {
      "text/plain": [
       "Course\n",
       "Advanced Data Management Systems           224.817073\n",
       "Computer Architecture                      748.606061\n",
       "Computer Networks                           88.000000\n",
       "Computer Organization                       66.620253\n",
       "Human Factors of Interactive Technology    520.675676\n",
       "Human-computer interaction                 131.450000\n",
       "Web Applications                           308.940299\n",
       "e-Learning                                 323.719512\n",
       "dtype: float64"
      ]
     },
     "execution_count": 10,
     "metadata": {},
     "output_type": "execute_result"
    }
   ],
   "source": [
    "df.groupby(['Course', 'actor.id']).size().groupby(level=0).mean()"
   ]
  },
  {
   "cell_type": "markdown",
   "id": "eecf995e0d868be0",
   "metadata": {
    "collapsed": false
   },
   "source": [
    "**Median** interaction count for each user (by course):"
   ]
  },
  {
   "cell_type": "code",
   "execution_count": 11,
   "id": "e358d5b676649f1",
   "metadata": {
    "ExecuteTime": {
     "end_time": "2023-11-07T17:58:04.876966Z",
     "start_time": "2023-11-07T17:58:04.735062Z"
    },
    "collapsed": false
   },
   "outputs": [
    {
     "data": {
      "text/plain": [
       "Course\n",
       "Advanced Data Management Systems           250.5\n",
       "Computer Architecture                      718.0\n",
       "Computer Networks                           88.0\n",
       "Computer Organization                       73.0\n",
       "Human Factors of Interactive Technology    524.0\n",
       "Human-computer interaction                  86.5\n",
       "Web Applications                           268.0\n",
       "e-Learning                                 317.5\n",
       "dtype: float64"
      ]
     },
     "execution_count": 11,
     "metadata": {},
     "output_type": "execute_result"
    }
   ],
   "source": [
    "df.groupby(['Course', 'actor.id']).size().groupby(level=0).median()"
   ]
  },
  {
   "cell_type": "markdown",
   "id": "182bd5261cb22c3",
   "metadata": {
    "collapsed": false
   },
   "source": [
    "**Human-computer interaction** may have a lot of outlier actors. Let's check for **outlier values**."
   ]
  },
  {
   "cell_type": "code",
   "execution_count": 12,
   "id": "3e626f48f286db32",
   "metadata": {
    "ExecuteTime": {
     "end_time": "2023-11-07T17:58:05.086582300Z",
     "start_time": "2023-11-07T17:58:04.798818500Z"
    },
    "collapsed": false
   },
   "outputs": [],
   "source": [
    "actor_interactions = [\n",
    "    [  \n",
    "        df[df['Course'] == course_name].groupby(['actor.id']).size().to_frame('size')['size']\n",
    "        for course_name in df['Course'].unique()\n",
    "    ],\n",
    "    [  \n",
    "        course_name\n",
    "        for course_name in df['Course'].unique()\n",
    "    ],\n",
    "]"
   ]
  },
  {
   "cell_type": "code",
   "execution_count": 13,
   "id": "a88eaad53f6b75d2",
   "metadata": {
    "ExecuteTime": {
     "end_time": "2023-11-07T17:58:05.100115800Z",
     "start_time": "2023-11-07T17:58:05.086582300Z"
    },
    "collapsed": false
   },
   "outputs": [],
   "source": [
    "colors = [color_df[color_df['Course'] == course].iloc[0][['color']].iloc[0] for course in actor_interactions[1]]"
   ]
  },
  {
   "cell_type": "code",
   "execution_count": 14,
   "id": "8ff94c5c77e6c716",
   "metadata": {
    "ExecuteTime": {
     "end_time": "2023-11-07T17:58:05.516111800Z",
     "start_time": "2023-11-07T17:58:05.100115800Z"
    },
    "collapsed": false
   },
   "outputs": [
    {
     "data": {
      "image/png": "[encoded data removed]",
      "text/plain": [
       "<Figure size 1500x1000 with 1 Axes>"
      ]
     },
     "metadata": {},
     "output_type": "display_data"
    }
   ],
   "source": [
    "plt.figure(figsize=(15,10))\n",
    "plt.title(\"Number of user interactions by course\")\n",
    "boxpl = plt.boxplot(\n",
    "    actor_interactions[0],\n",
    "    notch=True,\n",
    "    patch_artist=True,\n",
    "    labels=actor_interactions[1],\n",
    ")\n",
    "for patch, color in zip(boxpl['boxes'], colors):\n",
    "    patch.set_facecolor(color)\n",
    "\n",
    "plt.xticks(rotation=90)\n",
    "plt.show()"
   ]
  },
  {
   "cell_type": "markdown",
   "id": "d289de1f4dd07292",
   "metadata": {
    "collapsed": false
   },
   "source": [
    "## Number of forum / discussion interactions"
   ]
  },
  {
   "cell_type": "code",
   "execution_count": 15,
   "id": "e48ad05ceefe5aee",
   "metadata": {
    "ExecuteTime": {
     "end_time": "2023-11-07T17:58:05.597279Z",
     "start_time": "2023-11-07T17:58:05.484849800Z"
    },
    "collapsed": false
   },
   "outputs": [
    {
     "data": {
      "text/plain": [
       "verb.id\n",
       "viewed     35898\n",
       "create       931\n",
       "Name: count, dtype: int64"
      ]
     },
     "execution_count": 15,
     "metadata": {},
     "output_type": "execute_result"
    }
   ],
   "source": [
    "df[(df['object.definition.type'] == 'forum-topic') | (df['object.definition.type'] == 'discussion')][['verb.id']].value_counts()"
   ]
  },
  {
   "cell_type": "code",
   "execution_count": 16,
   "id": "bd07168b8d0692a2",
   "metadata": {
    "ExecuteTime": {
     "end_time": "2023-11-07T17:58:05.597279Z",
     "start_time": "2023-11-07T17:58:05.563996100Z"
    },
    "collapsed": false
   },
   "outputs": [
    {
     "data": {
      "text/plain": [
       "object.definition.type\n",
       "discussion                931\n",
       "Name: count, dtype: int64"
      ]
     },
     "execution_count": 16,
     "metadata": {},
     "output_type": "execute_result"
    }
   ],
   "source": [
    "df[df['verb.id'] == 'create'][['object.definition.type']].value_counts()"
   ]
  },
  {
   "cell_type": "markdown",
   "id": "afd19f37bdc089fe",
   "metadata": {
    "collapsed": false
   },
   "source": [
    "Number of people in the course who have created a discussion:"
   ]
  },
  {
   "cell_type": "code",
   "execution_count": 17,
   "id": "4ad2ddade25ca4b5",
   "metadata": {
    "ExecuteTime": {
     "end_time": "2023-11-07T17:58:05.656942900Z",
     "start_time": "2023-11-07T17:58:05.597279Z"
    },
    "collapsed": false
   },
   "outputs": [
    {
     "data": {
      "text/html": [
       "<div>\n",
       "<style scoped>\n",
       "    .dataframe tbody tr th:only-of-type {\n",
       "        vertical-align: middle;\n",
       "    }\n",
       "\n",
       "    .dataframe tbody tr th {\n",
       "        vertical-align: top;\n",
       "    }\n",
       "\n",
       "    .dataframe thead th {\n",
       "        text-align: right;\n",
       "    }\n",
       "</style>\n",
       "<table border=\"1\" class=\"dataframe\">\n",
       "  <thead>\n",
       "    <tr style=\"text-align: right;\">\n",
       "      <th></th>\n",
       "      <th>actor.id</th>\n",
       "    </tr>\n",
       "    <tr>\n",
       "      <th>Course</th>\n",
       "      <th></th>\n",
       "    </tr>\n",
       "  </thead>\n",
       "  <tbody>\n",
       "    <tr>\n",
       "      <th>Advanced Data Management Systems</th>\n",
       "      <td>1</td>\n",
       "    </tr>\n",
       "    <tr>\n",
       "      <th>Computer Architecture</th>\n",
       "      <td>2</td>\n",
       "    </tr>\n",
       "    <tr>\n",
       "      <th>Human Factors of Interactive Technology</th>\n",
       "      <td>236</td>\n",
       "    </tr>\n",
       "    <tr>\n",
       "      <th>Human-computer interaction</th>\n",
       "      <td>3</td>\n",
       "    </tr>\n",
       "    <tr>\n",
       "      <th>Web Applications</th>\n",
       "      <td>2</td>\n",
       "    </tr>\n",
       "    <tr>\n",
       "      <th>e-Learning</th>\n",
       "      <td>35</td>\n",
       "    </tr>\n",
       "  </tbody>\n",
       "</table>\n",
       "</div>"
      ],
      "text/plain": [
       "                                         actor.id\n",
       "Course                                           \n",
       "Advanced Data Management Systems                1\n",
       "Computer Architecture                           2\n",
       "Human Factors of Interactive Technology       236\n",
       "Human-computer interaction                      3\n",
       "Web Applications                                2\n",
       "e-Learning                                     35"
      ]
     },
     "execution_count": 17,
     "metadata": {},
     "output_type": "execute_result"
    }
   ],
   "source": [
    "df[df['verb.id'] == 'create'][['Course', 'actor.id']].groupby(['Course']).nunique()"
   ]
  },
  {
   "cell_type": "markdown",
   "id": "af85a006b313b097",
   "metadata": {
    "collapsed": false
   },
   "source": [
    "## \"Popularity\" vs number of enrolled people "
   ]
  },
  {
   "cell_type": "code",
   "execution_count": 18,
   "id": "6ab2feace3eb170d",
   "metadata": {
    "ExecuteTime": {
     "end_time": "2023-11-07T17:58:05.745567200Z",
     "start_time": "2023-11-07T17:58:05.641314700Z"
    },
    "collapsed": false
   },
   "outputs": [
    {
     "data": {
      "text/html": [
       "<div>\n",
       "<style scoped>\n",
       "    .dataframe tbody tr th:only-of-type {\n",
       "        vertical-align: middle;\n",
       "    }\n",
       "\n",
       "    .dataframe tbody tr th {\n",
       "        vertical-align: top;\n",
       "    }\n",
       "\n",
       "    .dataframe thead th {\n",
       "        text-align: right;\n",
       "    }\n",
       "</style>\n",
       "<table border=\"1\" class=\"dataframe\">\n",
       "  <thead>\n",
       "    <tr style=\"text-align: right;\">\n",
       "      <th></th>\n",
       "      <th>Course</th>\n",
       "      <th>median</th>\n",
       "    </tr>\n",
       "  </thead>\n",
       "  <tbody>\n",
       "    <tr>\n",
       "      <th>0</th>\n",
       "      <td>Advanced Data Management Systems</td>\n",
       "      <td>250.5</td>\n",
       "    </tr>\n",
       "    <tr>\n",
       "      <th>1</th>\n",
       "      <td>Computer Architecture</td>\n",
       "      <td>718.0</td>\n",
       "    </tr>\n",
       "    <tr>\n",
       "      <th>2</th>\n",
       "      <td>Computer Networks</td>\n",
       "      <td>88.0</td>\n",
       "    </tr>\n",
       "    <tr>\n",
       "      <th>3</th>\n",
       "      <td>Computer Organization</td>\n",
       "      <td>73.0</td>\n",
       "    </tr>\n",
       "    <tr>\n",
       "      <th>4</th>\n",
       "      <td>Human Factors of Interactive Technology</td>\n",
       "      <td>524.0</td>\n",
       "    </tr>\n",
       "    <tr>\n",
       "      <th>5</th>\n",
       "      <td>Human-computer interaction</td>\n",
       "      <td>86.5</td>\n",
       "    </tr>\n",
       "    <tr>\n",
       "      <th>6</th>\n",
       "      <td>Web Applications</td>\n",
       "      <td>268.0</td>\n",
       "    </tr>\n",
       "    <tr>\n",
       "      <th>7</th>\n",
       "      <td>e-Learning</td>\n",
       "      <td>317.5</td>\n",
       "    </tr>\n",
       "  </tbody>\n",
       "</table>\n",
       "</div>"
      ],
      "text/plain": [
       "                                    Course  median\n",
       "0         Advanced Data Management Systems   250.5\n",
       "1                    Computer Architecture   718.0\n",
       "2                        Computer Networks    88.0\n",
       "3                    Computer Organization    73.0\n",
       "4  Human Factors of Interactive Technology   524.0\n",
       "5               Human-computer interaction    86.5\n",
       "6                         Web Applications   268.0\n",
       "7                               e-Learning   317.5"
      ]
     },
     "execution_count": 18,
     "metadata": {},
     "output_type": "execute_result"
    }
   ],
   "source": [
    "df_median_interaction = df.groupby(['Course', 'actor.id']).size().groupby(level=0).median().to_frame('median').reset_index()\n",
    "df_median_interaction"
   ]
  },
  {
   "cell_type": "code",
   "execution_count": 19,
   "id": "6361052d603aa216",
   "metadata": {
    "ExecuteTime": {
     "end_time": "2023-11-07T17:58:05.850426900Z",
     "start_time": "2023-11-07T17:58:05.698681900Z"
    },
    "collapsed": false
   },
   "outputs": [
    {
     "data": {
      "text/html": [
       "<div>\n",
       "<style scoped>\n",
       "    .dataframe tbody tr th:only-of-type {\n",
       "        vertical-align: middle;\n",
       "    }\n",
       "\n",
       "    .dataframe tbody tr th {\n",
       "        vertical-align: top;\n",
       "    }\n",
       "\n",
       "    .dataframe thead th {\n",
       "        text-align: right;\n",
       "    }\n",
       "</style>\n",
       "<table border=\"1\" class=\"dataframe\">\n",
       "  <thead>\n",
       "    <tr style=\"text-align: right;\">\n",
       "      <th></th>\n",
       "      <th>Course</th>\n",
       "      <th>median</th>\n",
       "      <th>actor.id</th>\n",
       "      <th>Teaching</th>\n",
       "    </tr>\n",
       "  </thead>\n",
       "  <tbody>\n",
       "    <tr>\n",
       "      <th>0</th>\n",
       "      <td>Advanced Data Management Systems</td>\n",
       "      <td>250.5</td>\n",
       "      <td>82</td>\n",
       "      <td>Flipped classroom</td>\n",
       "    </tr>\n",
       "    <tr>\n",
       "      <th>1</th>\n",
       "      <td>Human Factors of Interactive Technology</td>\n",
       "      <td>524.0</td>\n",
       "      <td>259</td>\n",
       "      <td>Project-based</td>\n",
       "    </tr>\n",
       "    <tr>\n",
       "      <th>2</th>\n",
       "      <td>Human-computer interaction</td>\n",
       "      <td>86.5</td>\n",
       "      <td>120</td>\n",
       "      <td>Project-based</td>\n",
       "    </tr>\n",
       "    <tr>\n",
       "      <th>3</th>\n",
       "      <td>e-Learning</td>\n",
       "      <td>317.5</td>\n",
       "      <td>82</td>\n",
       "      <td>Flipped classroom</td>\n",
       "    </tr>\n",
       "    <tr>\n",
       "      <th>4</th>\n",
       "      <td>Computer Architecture</td>\n",
       "      <td>718.0</td>\n",
       "      <td>99</td>\n",
       "      <td>Flipped classroom</td>\n",
       "    </tr>\n",
       "    <tr>\n",
       "      <th>5</th>\n",
       "      <td>Web Applications</td>\n",
       "      <td>268.0</td>\n",
       "      <td>67</td>\n",
       "      <td>Project-based</td>\n",
       "    </tr>\n",
       "    <tr>\n",
       "      <th>6</th>\n",
       "      <td>Computer Organization</td>\n",
       "      <td>73.0</td>\n",
       "      <td>79</td>\n",
       "      <td>Project-based</td>\n",
       "    </tr>\n",
       "    <tr>\n",
       "      <th>7</th>\n",
       "      <td>Computer Networks</td>\n",
       "      <td>88.0</td>\n",
       "      <td>41</td>\n",
       "      <td>Flipped classroom</td>\n",
       "    </tr>\n",
       "  </tbody>\n",
       "</table>\n",
       "</div>"
      ],
      "text/plain": [
       "                                    Course  median  actor.id  \\\n",
       "0         Advanced Data Management Systems   250.5        82   \n",
       "1  Human Factors of Interactive Technology   524.0       259   \n",
       "2               Human-computer interaction    86.5       120   \n",
       "3                               e-Learning   317.5        82   \n",
       "4                    Computer Architecture   718.0        99   \n",
       "5                         Web Applications   268.0        67   \n",
       "6                    Computer Organization    73.0        79   \n",
       "7                        Computer Networks    88.0        41   \n",
       "\n",
       "            Teaching  \n",
       "0  Flipped classroom  \n",
       "1      Project-based  \n",
       "2      Project-based  \n",
       "3  Flipped classroom  \n",
       "4  Flipped classroom  \n",
       "5      Project-based  \n",
       "6      Project-based  \n",
       "7  Flipped classroom  "
      ]
     },
     "execution_count": 19,
     "metadata": {},
     "output_type": "execute_result"
    }
   ],
   "source": [
    "df_median_count = df_median_interaction.merge(df_actor_count.reset_index().drop_duplicates(), how='left')\n",
    "df_median_count = df_median_count.merge(df[['Course', 'Teaching']].drop_duplicates(), how='right')\n",
    "df_median_count"
   ]
  },
  {
   "cell_type": "code",
   "execution_count": 20,
   "id": "2d46aa08525bc81c",
   "metadata": {
    "ExecuteTime": {
     "end_time": "2023-11-07T17:58:05.850426900Z",
     "start_time": "2023-11-07T17:58:05.772332500Z"
    },
    "collapsed": false
   },
   "outputs": [
    {
     "data": {
      "text/plain": [
       "['red', 'red', 'blue', 'blue', 'green', 'green', 'yellow', 'yellow']"
      ]
     },
     "execution_count": 20,
     "metadata": {},
     "output_type": "execute_result"
    }
   ],
   "source": [
    "colors = [\n",
    "    color_df[color_df['Course'] == course].iloc[0][['color']].iloc[0] \n",
    "    for course \n",
    "    in list(df_median_count['Course'].value_counts().to_frame().index)\n",
    "]\n",
    "colors"
   ]
  },
  {
   "cell_type": "code",
   "execution_count": 21,
   "id": "b237e2d71f7dce33",
   "metadata": {
    "ExecuteTime": {
     "end_time": "2023-11-07T17:58:05.850426900Z",
     "start_time": "2023-11-07T17:58:05.789157300Z"
    },
    "collapsed": false
   },
   "outputs": [
    {
     "data": {
      "text/plain": [
       "['*', 'o', 'o', '*', '*', 'o', 'o', '*']"
      ]
     },
     "execution_count": 21,
     "metadata": {},
     "output_type": "execute_result"
    }
   ],
   "source": [
    "markers = [\n",
    "    (\n",
    "        '*' \n",
    "        if df_median_count[df_median_count['Course'] == course].iloc[0]['Teaching'] == 'Flipped classroom' \n",
    "        else 'o'\n",
    "    )\n",
    "    for course \n",
    "    in list(df_median_count['Course'].value_counts().to_frame().index)\n",
    "]\n",
    "markers"
   ]
  },
  {
   "cell_type": "code",
   "execution_count": 22,
   "id": "15bed5f00a16bb74",
   "metadata": {
    "ExecuteTime": {
     "end_time": "2023-11-07T17:58:06.181979600Z",
     "start_time": "2023-11-07T17:58:05.803537100Z"
    },
    "collapsed": false
   },
   "outputs": [
    {
     "data": {
      "text/plain": [
       "[]"
      ]
     },
     "execution_count": 22,
     "metadata": {},
     "output_type": "execute_result"
    },
    {
     "data": {
      "image/png": "[encoded data removed]",
      "text/plain": [
       "<Figure size 1500x1000 with 1 Axes>"
      ]
     },
     "metadata": {},
     "output_type": "display_data"
    }
   ],
   "source": [
    "plt.figure(figsize=(15,10))\n",
    "for xp, yp, color, marker in zip(\n",
    "        df_median_count['median'], \n",
    "        df_median_count['actor.id'], \n",
    "        colors,\n",
    "        markers\n",
    "):\n",
    "    plt.scatter(\n",
    "        x=xp,\n",
    "        y=yp,\n",
    "        c=color,\n",
    "        marker=marker,\n",
    "        s=100\n",
    "    )\n",
    "plt.xlabel('Interaction count per person (median)', fontsize=15)\n",
    "plt.ylabel('Number of students enrolled in course', fontsize=15)\n",
    "plt.plot()"
   ]
  }
 ],
 "metadata": {
  "kernelspec": {
   "display_name": "Python 3",
   "language": "python",
   "name": "python3"
  },
  "language_info": {
   "codemirror_mode": {
    "name": "ipython",
    "version": 2
   },
   "file_extension": ".py",
   "mimetype": "text/x-python",
   "name": "python",
   "nbconvert_exporter": "python",
   "pygments_lexer": "ipython2",
   "version": "2.7.6"
  }
 },
 "nbformat": 4,
 "nbformat_minor": 5
}
